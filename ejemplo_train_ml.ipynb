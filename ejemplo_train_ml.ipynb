{
  "nbformat": 4,
  "nbformat_minor": 0,
  "metadata": {
    "colab": {
      "name": "ejemplo_train_ml.ipynb",
      "provenance": [],
      "collapsed_sections": [],
      "authorship_tag": "ABX9TyOX3QXtFIQtdlIjQf2iwuYd",
      "include_colab_link": true
    },
    "kernelspec": {
      "name": "python3",
      "display_name": "Python 3"
    },
    "accelerator": "GPU"
  },
  "cells": [
    {
      "cell_type": "markdown",
      "metadata": {
        "id": "view-in-github",
        "colab_type": "text"
      },
      "source": [
        "<a href=\"https://colab.research.google.com/github/CT-6282/COVID-19_Paper/blob/master/ejemplo_train_ml.ipynb\" target=\"_parent\"><img src=\"https://colab.research.google.com/assets/colab-badge.svg\" alt=\"Open In Colab\"/></a>"
      ]
    },
    {
      "cell_type": "code",
      "metadata": {
        "id": "QNwi6fFwktkF",
        "colab_type": "code",
        "colab": {
          "base_uri": "https://localhost:8080/",
          "height": 74
        },
        "outputId": "9d42237c-03a9-4e53-de99-5b82ea915913"
      },
      "source": [
        "#!/usr/bin/env python3\n",
        "# -*- coding: utf-8 -*-\n",
        "\"\"\"\n",
        "Created on Mon Jul 13 15:37:12 2020\n",
        "\n",
        "@author: nacho\n",
        "\"\"\"\n",
        "import sys, os\n",
        "import pandas as pd\n",
        "import numpy as np\n",
        "import seaborn as sns; sns.set()\n",
        "from matplotlib import pyplot as plt\n",
        "from sklearn.preprocessing import StandardScaler\n",
        "from sklearn.decomposition import PCA\n",
        "from sklearn.svm import SVC\n",
        "from sklearn.model_selection import train_test_split\n",
        "from sklearn.metrics import classification_report, confusion_matrix\n",
        "from sklearn.model_selection import GridSearchCV \n",
        "import joblib\n",
        "from sklearn.pipeline import Pipeline"
      ],
      "execution_count": 2,
      "outputs": [
        {
          "output_type": "stream",
          "text": [
            "/usr/local/lib/python3.6/dist-packages/statsmodels/tools/_testing.py:19: FutureWarning: pandas.util.testing is deprecated. Use the functions in the public API at pandas.testing instead.\n",
            "  import pandas.util.testing as tm\n"
          ],
          "name": "stderr"
        }
      ]
    },
    {
      "cell_type": "code",
      "metadata": {
        "id": "EKFiE7tfm2rh",
        "colab_type": "code",
        "colab": {
          "base_uri": "https://localhost:8080/",
          "height": 35
        },
        "outputId": "4f235955-4542-4a05-ad39-a721c921d869"
      },
      "source": [
        "#se crea la carpeta \"plots\" para almecenar las grficas generadas\n",
        "print(os.getcwd())\n",
        "try:\n",
        "    os.makedirs(\"plots\")\n",
        "except FileExistsError:\n",
        "    pass\n",
        "try:\n",
        "    os.makedirs(\"models\")\n",
        "except FileExistsError:\n",
        "    pass"
      ],
      "execution_count": 17,
      "outputs": [
        {
          "output_type": "stream",
          "text": [
            "/content\n"
          ],
          "name": "stdout"
        }
      ]
    },
    {
      "cell_type": "code",
      "metadata": {
        "id": "93uJo02Kl6b0",
        "colab_type": "code",
        "colab": {}
      },
      "source": [
        "#Visualizar pca em 2D y 3D\n",
        "class pca():\n",
        "    def __init__(self,  df=None, titulo=\"Unspecified\", label_y=None):\n",
        "        self.df = df\n",
        "        self.label_y = str(label_y)\n",
        "        self.titulo = str(titulo)\n",
        "        print(list(df))\n",
        "        print(f\"Numero de elementos de {label_y}\\n\", df[label_y].value_counts())\n",
        "    def pca_2D(self):\n",
        "        df_PCA = self.df.drop([self.label_y], axis=1)\n",
        "        #instanciamos el metodo pca con 2 componentes\n",
        "        pca = PCA(n_components=2)\n",
        "        #encontramos los componentes principales usando \n",
        "        #el método de ajuste con 2 componentes\n",
        "        #transformamos los datos scaled_data en 2 componentes con pca\n",
        "        pca.fit(df_PCA)\n",
        "        x_pca = pca.transform(df_PCA)\n",
        "        ######\n",
        "        #instanciamos un objeto para hacer PCA\n",
        "        scaler = StandardScaler()\n",
        "        #escalar los datos, estandarizarlos, para que cada\n",
        "        #caracteristica tenga una varianza unitaria \n",
        "        scaler.fit(df_PCA)\n",
        "        #aplicamos la reducción de rotación y dimensionalidad\n",
        "        scaled_data = scaler.transform(df_PCA)\n",
        "        pca = PCA().fit(scaled_data)\n",
        "        plt.plot(np.cumsum(pca.explained_variance_ratio_))\n",
        "        plt.xlabel('number of components')\n",
        "        plt.ylabel('cumulative explained variance')\n",
        "        plt.title('How many components are needed to describe the data.')\n",
        "        ######\n",
        "        print(\"Dimension de los features orginales: \", df_PCA.shape)\n",
        "        print(\"Dimension de los features con 2 componentes\", x_pca.shape)\n",
        "        \n",
        "        #visualizar los datos en 2 dimensiones\n",
        "        #plt.figure(figsize=(8,6))\n",
        "        fig, ax = plt.subplots()\n",
        "        scatter = plt.scatter(x_pca[:,0],\n",
        "                    x_pca[:,1],\n",
        "                    c=self.df[self.label_y],\n",
        "                    cmap='rainbow',\n",
        "                    marker='o',\n",
        "                    s=2,\n",
        "                    linewidths=0)\n",
        "        #genera legend del target\n",
        "        labels = np.unique(self.df[self.label_y])\n",
        "        handles = [plt.Line2D([],[],marker=\".\", ls=\"\", \n",
        "                              color=scatter.cmap(scatter.norm(yi))) for yi in labels]\n",
        "        plt.legend(handles, labels)\n",
        "        plt.xlabel('First principal component')\n",
        "        plt.ylabel('Second Principal Component')\n",
        "        plt.title(self.titulo)\n",
        "        #plt.show()\n",
        "        plt.savefig(\"plots/\"+self.titulo + \"_2D.png\",format='png', dpi=1200)\n",
        "        y = self.df[self.label_y]\n",
        "        return x_pca, y\n",
        "    def pca_3D(self):\n",
        "        sns.set_style(\"white\")  \n",
        "        self.df[self.label_y] = pd.Categorical(self.df[self.label_y])\n",
        "        my_color = self.df[self.label_y].cat.codes\n",
        "        df_PCA = self.df.drop([self.label_y], axis=1)\n",
        "        pca = PCA(n_components=3)\n",
        "        pca.fit(df_PCA)\n",
        "        result=pd.DataFrame(pca.transform(df_PCA), \n",
        "                            columns=['PCA%i' % i for i in range(3)], \n",
        "                            index=df_PCA.index)\n",
        "        fig = plt.figure()\n",
        "        ax = fig.add_subplot(111, projection='3d')\n",
        "        scat = ax.scatter(result['PCA0'], \n",
        "                   result['PCA1'], \n",
        "                   result['PCA2'], \n",
        "                   c=my_color, \n",
        "                   cmap='rainbow', \n",
        "                   s=2, marker=\"o\",\n",
        "                   linewidths=0)\n",
        "        \n",
        "        #genera legend del target\n",
        "        labels = np.unique(self.df[self.label_y])\n",
        "        handles = [plt.Line2D([],[],marker=\".\",ls=\"\",\n",
        "                                 color=scat.cmap(scat.norm(yi))) for yi in labels]               \n",
        "        ax.legend(handles, labels)\n",
        "        \n",
        "        # make simple, bare axis lines through space:\n",
        "        xAxisLine = ((min(result['PCA0']), max(result['PCA0'])), (0, 0), (0,0))\n",
        "        ax.plot(xAxisLine[0], xAxisLine[1], xAxisLine[2], 'r')\n",
        "        yAxisLine = ((0, 0), (min(result['PCA1']), max(result['PCA1'])), (0,0))\n",
        "        ax.plot(yAxisLine[0], yAxisLine[1], yAxisLine[2], 'r')\n",
        "        zAxisLine = ((0, 0), (0,0), (min(result['PCA2']), max(result['PCA2'])))\n",
        "        ax.plot(zAxisLine[0], zAxisLine[1], zAxisLine[2], 'r')\n",
        "         \n",
        "        # label the axes\n",
        "        ax.set_xlabel(\"PC1\")\n",
        "        ax.set_ylabel(\"PC2\")\n",
        "        ax.set_zlabel(\"PC3\")\n",
        "        ax.set_title(self.titulo)\n",
        "        #plt.show()\n",
        "        fig.tight_layout()\n",
        "        plt.savefig(\"plots/\"+self.titulo + \"_3D.png\", format='png', dpi=1200)\n",
        "        y = self.df[self.label_y]\n",
        "        return result, y"
      ],
      "execution_count": 4,
      "outputs": []
    },
    {
      "cell_type": "code",
      "metadata": {
        "id": "6C3d6Qp9mFJY",
        "colab_type": "code",
        "colab": {}
      },
      "source": [
        "#Visualizar smv en 2d   \n",
        "def plot_svm_2d(grid, X_test, Y_test):\n",
        "    scaler1 = StandardScaler()\n",
        "    scaler1.fit(X_test)\n",
        "    X_test_scaled = scaler1.transform(X_test)\n",
        "    \n",
        "    \n",
        "    pca1 = PCA(n_components=2)\n",
        "    X_test_scaled_reduced = pca1.fit_transform(X_test_scaled)\n",
        "    \n",
        "    \n",
        "    svm_model = SVC(kernel='rbf', C=float(grid.best_params_['SupVM__C']), \n",
        "                    gamma=float(grid.best_params_['SupVM__gamma']))\n",
        "    \n",
        "    classify = svm_model.fit(X_test_scaled_reduced, Y_test)\n",
        "    \n",
        "    def plot_contours(ax, clf, xx, yy, **params):\n",
        "        Z = clf.decision_function(np.c_[xx.ravel(), yy.ravel()])\n",
        "        Z = Z.reshape(xx.shape)\n",
        "        out = ax.contourf(xx, yy, Z, **params)\n",
        "        return out\n",
        "    \n",
        "    def make_meshgrid(x, y, h=.1):\n",
        "        x_min, x_max = x.min() - 1, x.max() + 1\n",
        "        y_min, y_max = y.min() - 1, y.max() + 1\n",
        "        xx, yy = np.meshgrid(np.arange(x_min, x_max, h),\n",
        "                             np.arange(y_min, y_max, h))#,\n",
        "                             #np.arange(z_min, z_max, h))\n",
        "        return xx, yy\n",
        "    \n",
        "    X0, X1 = X_test_scaled_reduced[:, 0], X_test_scaled_reduced[:, 1]\n",
        "    xx, yy = make_meshgrid(X0, X1)\n",
        "    \n",
        "    fig, ax = plt.subplots(figsize=(12,9))\n",
        "    fig.patch.set_facecolor('white')\n",
        "    cdict1={0:'lime',1:'deeppink'}\n",
        "    \n",
        "    Y_tar_list = Y_test.tolist()\n",
        "    yl1= [int(target1) for target1 in Y_tar_list]\n",
        "    labels1=yl1\n",
        "     \n",
        "    labl1={0:'Malignant',1:'Benign'}\n",
        "    marker1={0:'*',1:'d'}\n",
        "    alpha1={0:.8, 1:0.5}\n",
        "    \n",
        "    for l1 in np.unique(labels1):\n",
        "        ix1=np.where(labels1==l1)\n",
        "        ax.scatter(X0[ix1],X1[ix1], c=cdict1[l1],label=labl1[l1],s=70,marker=marker1[l1],alpha=alpha1[l1])\n",
        "    \n",
        "    ax.scatter(svm_model.support_vectors_[:, 0], svm_model.support_vectors_[:, 1], s=40, facecolors='none', \n",
        "               edgecolors='navy', label='Support Vectors')\n",
        "    \n",
        "    plot_contours(ax, classify, xx, yy,cmap='seismic', alpha=0.4)\n",
        "    plt.legend(fontsize=15)\n",
        "    \n",
        "    plt.xlabel(\"1st Principal Component\",fontsize=14)\n",
        "    plt.ylabel(\"2nd Principal Component\",fontsize=14)\n",
        "    plt.show()"
      ],
      "execution_count": 5,
      "outputs": []
    },
    {
      "cell_type": "code",
      "metadata": {
        "id": "CXS3KJkxmPVQ",
        "colab_type": "code",
        "colab": {}
      },
      "source": [
        "#entrenamiento cross-validation con hiperparámetros de SVC\n",
        "def gridsearchcv(X, y, n_pca=None):\n",
        "    X_train, X_test, Y_train, Y_test = train_test_split(X,y,test_size=0.2, stratify=y, shuffle=True)\n",
        "    pipe_steps_pca = [('scaler', StandardScaler()),('pca', PCA()), ('SupVM', SVC(kernel='rbf'))]\n",
        "    param_grid_pca= {\n",
        "        'pca__n_components': [n_pca], \n",
        "        'SupVM__C': [0.1, 0.5, 1, 10, 30, 40, 50, 75, 100, 500, 1000], \n",
        "        'SupVM__gamma' : [0.0001, 0.001, 0.005, 0.01, 0.05, 0.07, 0.1, 0.5, 1, 5, 10, 50]\n",
        "    }\n",
        "    pipe_steps = [('scaler', StandardScaler()), ('SupVM', SVC(kernel='rbf'))]\n",
        "    param_grid= {\n",
        "            'SupVM__C': [0.1, 0.5, 1, 10, 30, 40, 50, 75, 100, 500, 1000], \n",
        "            'SupVM__gamma' : [0.0001, 0.001, 0.005, 0.01, 0.05, 0.07, 0.1, 0.5, 1, 5, 10, 50]\n",
        "    }\n",
        "    if n_pca != None:\n",
        "        pipeline = Pipeline(pipe_steps_pca)\n",
        "        grid = GridSearchCV(pipeline, param_grid_pca,refit = True,verbose = 3, n_jobs=-1,probability=True)\n",
        "    else:\n",
        "        pipeline = Pipeline(pipe_steps)\n",
        "        grid = GridSearchCV(pipeline, param_grid,refit = True,verbose = 3, n_jobs=-1,probability=True)\n",
        "    grid.fit(X_train, Y_train)\n",
        "    print(\"Best-Fit Parameters From Training Data:\\n\",grid.best_params_)\n",
        "    grid_predictions = grid.predict(X_test) \n",
        "    report = classification_report(Y_test, grid_predictions, output_dict=True)\n",
        "    report = pd.DataFrame(report).transpose()\n",
        "    print(report)\n",
        "    print(confusion_matrix(Y_test, grid_predictions))\n",
        "    return grid, report, X_test, Y_test"
      ],
      "execution_count": 6,
      "outputs": []
    },
    {
      "cell_type": "markdown",
      "metadata": {
        "id": "F396sNinmceH",
        "colab_type": "text"
      },
      "source": [
        "Se importa el dataset y se guarda como un Dataframe"
      ]
    },
    {
      "cell_type": "code",
      "metadata": {
        "id": "rDY6-P8Umj87",
        "colab_type": "code",
        "colab": {
          "base_uri": "https://localhost:8080/",
          "height": 253
        },
        "outputId": "0ca4c6da-0eb5-4622-f7c4-2c81a74391f7"
      },
      "source": [
        "from sklearn.datasets import load_breast_cancer \n",
        "cancer = load_breast_cancer() \n",
        "df = pd.DataFrame(cancer['data'], columns = cancer['feature_names']) \n",
        "df['target'] = cancer['target']\n",
        "df.head()"
      ],
      "execution_count": 7,
      "outputs": [
        {
          "output_type": "execute_result",
          "data": {
            "text/html": [
              "<div>\n",
              "<style scoped>\n",
              "    .dataframe tbody tr th:only-of-type {\n",
              "        vertical-align: middle;\n",
              "    }\n",
              "\n",
              "    .dataframe tbody tr th {\n",
              "        vertical-align: top;\n",
              "    }\n",
              "\n",
              "    .dataframe thead th {\n",
              "        text-align: right;\n",
              "    }\n",
              "</style>\n",
              "<table border=\"1\" class=\"dataframe\">\n",
              "  <thead>\n",
              "    <tr style=\"text-align: right;\">\n",
              "      <th></th>\n",
              "      <th>mean radius</th>\n",
              "      <th>mean texture</th>\n",
              "      <th>mean perimeter</th>\n",
              "      <th>mean area</th>\n",
              "      <th>mean smoothness</th>\n",
              "      <th>mean compactness</th>\n",
              "      <th>mean concavity</th>\n",
              "      <th>mean concave points</th>\n",
              "      <th>mean symmetry</th>\n",
              "      <th>mean fractal dimension</th>\n",
              "      <th>radius error</th>\n",
              "      <th>texture error</th>\n",
              "      <th>perimeter error</th>\n",
              "      <th>area error</th>\n",
              "      <th>smoothness error</th>\n",
              "      <th>compactness error</th>\n",
              "      <th>concavity error</th>\n",
              "      <th>concave points error</th>\n",
              "      <th>symmetry error</th>\n",
              "      <th>fractal dimension error</th>\n",
              "      <th>worst radius</th>\n",
              "      <th>worst texture</th>\n",
              "      <th>worst perimeter</th>\n",
              "      <th>worst area</th>\n",
              "      <th>worst smoothness</th>\n",
              "      <th>worst compactness</th>\n",
              "      <th>worst concavity</th>\n",
              "      <th>worst concave points</th>\n",
              "      <th>worst symmetry</th>\n",
              "      <th>worst fractal dimension</th>\n",
              "      <th>target</th>\n",
              "    </tr>\n",
              "  </thead>\n",
              "  <tbody>\n",
              "    <tr>\n",
              "      <th>0</th>\n",
              "      <td>17.99</td>\n",
              "      <td>10.38</td>\n",
              "      <td>122.80</td>\n",
              "      <td>1001.0</td>\n",
              "      <td>0.11840</td>\n",
              "      <td>0.27760</td>\n",
              "      <td>0.3001</td>\n",
              "      <td>0.14710</td>\n",
              "      <td>0.2419</td>\n",
              "      <td>0.07871</td>\n",
              "      <td>1.0950</td>\n",
              "      <td>0.9053</td>\n",
              "      <td>8.589</td>\n",
              "      <td>153.40</td>\n",
              "      <td>0.006399</td>\n",
              "      <td>0.04904</td>\n",
              "      <td>0.05373</td>\n",
              "      <td>0.01587</td>\n",
              "      <td>0.03003</td>\n",
              "      <td>0.006193</td>\n",
              "      <td>25.38</td>\n",
              "      <td>17.33</td>\n",
              "      <td>184.60</td>\n",
              "      <td>2019.0</td>\n",
              "      <td>0.1622</td>\n",
              "      <td>0.6656</td>\n",
              "      <td>0.7119</td>\n",
              "      <td>0.2654</td>\n",
              "      <td>0.4601</td>\n",
              "      <td>0.11890</td>\n",
              "      <td>0</td>\n",
              "    </tr>\n",
              "    <tr>\n",
              "      <th>1</th>\n",
              "      <td>20.57</td>\n",
              "      <td>17.77</td>\n",
              "      <td>132.90</td>\n",
              "      <td>1326.0</td>\n",
              "      <td>0.08474</td>\n",
              "      <td>0.07864</td>\n",
              "      <td>0.0869</td>\n",
              "      <td>0.07017</td>\n",
              "      <td>0.1812</td>\n",
              "      <td>0.05667</td>\n",
              "      <td>0.5435</td>\n",
              "      <td>0.7339</td>\n",
              "      <td>3.398</td>\n",
              "      <td>74.08</td>\n",
              "      <td>0.005225</td>\n",
              "      <td>0.01308</td>\n",
              "      <td>0.01860</td>\n",
              "      <td>0.01340</td>\n",
              "      <td>0.01389</td>\n",
              "      <td>0.003532</td>\n",
              "      <td>24.99</td>\n",
              "      <td>23.41</td>\n",
              "      <td>158.80</td>\n",
              "      <td>1956.0</td>\n",
              "      <td>0.1238</td>\n",
              "      <td>0.1866</td>\n",
              "      <td>0.2416</td>\n",
              "      <td>0.1860</td>\n",
              "      <td>0.2750</td>\n",
              "      <td>0.08902</td>\n",
              "      <td>0</td>\n",
              "    </tr>\n",
              "    <tr>\n",
              "      <th>2</th>\n",
              "      <td>19.69</td>\n",
              "      <td>21.25</td>\n",
              "      <td>130.00</td>\n",
              "      <td>1203.0</td>\n",
              "      <td>0.10960</td>\n",
              "      <td>0.15990</td>\n",
              "      <td>0.1974</td>\n",
              "      <td>0.12790</td>\n",
              "      <td>0.2069</td>\n",
              "      <td>0.05999</td>\n",
              "      <td>0.7456</td>\n",
              "      <td>0.7869</td>\n",
              "      <td>4.585</td>\n",
              "      <td>94.03</td>\n",
              "      <td>0.006150</td>\n",
              "      <td>0.04006</td>\n",
              "      <td>0.03832</td>\n",
              "      <td>0.02058</td>\n",
              "      <td>0.02250</td>\n",
              "      <td>0.004571</td>\n",
              "      <td>23.57</td>\n",
              "      <td>25.53</td>\n",
              "      <td>152.50</td>\n",
              "      <td>1709.0</td>\n",
              "      <td>0.1444</td>\n",
              "      <td>0.4245</td>\n",
              "      <td>0.4504</td>\n",
              "      <td>0.2430</td>\n",
              "      <td>0.3613</td>\n",
              "      <td>0.08758</td>\n",
              "      <td>0</td>\n",
              "    </tr>\n",
              "    <tr>\n",
              "      <th>3</th>\n",
              "      <td>11.42</td>\n",
              "      <td>20.38</td>\n",
              "      <td>77.58</td>\n",
              "      <td>386.1</td>\n",
              "      <td>0.14250</td>\n",
              "      <td>0.28390</td>\n",
              "      <td>0.2414</td>\n",
              "      <td>0.10520</td>\n",
              "      <td>0.2597</td>\n",
              "      <td>0.09744</td>\n",
              "      <td>0.4956</td>\n",
              "      <td>1.1560</td>\n",
              "      <td>3.445</td>\n",
              "      <td>27.23</td>\n",
              "      <td>0.009110</td>\n",
              "      <td>0.07458</td>\n",
              "      <td>0.05661</td>\n",
              "      <td>0.01867</td>\n",
              "      <td>0.05963</td>\n",
              "      <td>0.009208</td>\n",
              "      <td>14.91</td>\n",
              "      <td>26.50</td>\n",
              "      <td>98.87</td>\n",
              "      <td>567.7</td>\n",
              "      <td>0.2098</td>\n",
              "      <td>0.8663</td>\n",
              "      <td>0.6869</td>\n",
              "      <td>0.2575</td>\n",
              "      <td>0.6638</td>\n",
              "      <td>0.17300</td>\n",
              "      <td>0</td>\n",
              "    </tr>\n",
              "    <tr>\n",
              "      <th>4</th>\n",
              "      <td>20.29</td>\n",
              "      <td>14.34</td>\n",
              "      <td>135.10</td>\n",
              "      <td>1297.0</td>\n",
              "      <td>0.10030</td>\n",
              "      <td>0.13280</td>\n",
              "      <td>0.1980</td>\n",
              "      <td>0.10430</td>\n",
              "      <td>0.1809</td>\n",
              "      <td>0.05883</td>\n",
              "      <td>0.7572</td>\n",
              "      <td>0.7813</td>\n",
              "      <td>5.438</td>\n",
              "      <td>94.44</td>\n",
              "      <td>0.011490</td>\n",
              "      <td>0.02461</td>\n",
              "      <td>0.05688</td>\n",
              "      <td>0.01885</td>\n",
              "      <td>0.01756</td>\n",
              "      <td>0.005115</td>\n",
              "      <td>22.54</td>\n",
              "      <td>16.67</td>\n",
              "      <td>152.20</td>\n",
              "      <td>1575.0</td>\n",
              "      <td>0.1374</td>\n",
              "      <td>0.2050</td>\n",
              "      <td>0.4000</td>\n",
              "      <td>0.1625</td>\n",
              "      <td>0.2364</td>\n",
              "      <td>0.07678</td>\n",
              "      <td>0</td>\n",
              "    </tr>\n",
              "  </tbody>\n",
              "</table>\n",
              "</div>"
            ],
            "text/plain": [
              "   mean radius  mean texture  ...  worst fractal dimension  target\n",
              "0        17.99         10.38  ...                  0.11890       0\n",
              "1        20.57         17.77  ...                  0.08902       0\n",
              "2        19.69         21.25  ...                  0.08758       0\n",
              "3        11.42         20.38  ...                  0.17300       0\n",
              "4        20.29         14.34  ...                  0.07678       0\n",
              "\n",
              "[5 rows x 31 columns]"
            ]
          },
          "metadata": {
            "tags": []
          },
          "execution_count": 7
        }
      ]
    },
    {
      "cell_type": "code",
      "metadata": {
        "id": "58IANlCEmspl",
        "colab_type": "code",
        "colab": {
          "base_uri": "https://localhost:8080/",
          "height": 1000
        },
        "outputId": "b229ef1a-dc8d-411e-c897-fd282af1f5f5"
      },
      "source": [
        "#visualizacion pca\n",
        "cancer_pca = pca(df, titulo=\"cancer\", label_y='target')\n",
        "cancer_pca.pca_2D(); cancer_pca.pca_3D()"
      ],
      "execution_count": 8,
      "outputs": [
        {
          "output_type": "stream",
          "text": [
            "['mean radius', 'mean texture', 'mean perimeter', 'mean area', 'mean smoothness', 'mean compactness', 'mean concavity', 'mean concave points', 'mean symmetry', 'mean fractal dimension', 'radius error', 'texture error', 'perimeter error', 'area error', 'smoothness error', 'compactness error', 'concavity error', 'concave points error', 'symmetry error', 'fractal dimension error', 'worst radius', 'worst texture', 'worst perimeter', 'worst area', 'worst smoothness', 'worst compactness', 'worst concavity', 'worst concave points', 'worst symmetry', 'worst fractal dimension', 'target']\n",
            "Numero de elementos de target\n",
            " 1    357\n",
            "0    212\n",
            "Name: target, dtype: int64\n",
            "Dimension de los features orginales:  (569, 30)\n",
            "Dimension de los features con 2 componentes (569, 2)\n"
          ],
          "name": "stdout"
        },
        {
          "output_type": "execute_result",
          "data": {
            "text/plain": [
              "(            PCA0        PCA1       PCA2\n",
              " 0    1160.142574 -293.917544  48.578398\n",
              " 1    1269.122443   15.630182 -35.394534\n",
              " 2     995.793889   39.156743  -1.709753\n",
              " 3    -407.180803  -67.380320   8.672848\n",
              " 4     930.341180  189.340742   1.374801\n",
              " ..           ...         ...        ...\n",
              " 564  1414.126684  110.222492  40.065944\n",
              " 565  1045.018854   77.057589   0.036669\n",
              " 566   314.501756   47.553525 -10.442407\n",
              " 567  1124.858115   34.129225 -19.742087\n",
              " 568  -771.527622  -88.643106  23.889032\n",
              " \n",
              " [569 rows x 3 columns], 0      0\n",
              " 1      0\n",
              " 2      0\n",
              " 3      0\n",
              " 4      0\n",
              "       ..\n",
              " 564    0\n",
              " 565    0\n",
              " 566    0\n",
              " 567    0\n",
              " 568    1\n",
              " Name: target, Length: 569, dtype: category\n",
              " Categories (2, int64): [0, 1])"
            ]
          },
          "metadata": {
            "tags": []
          },
          "execution_count": 8
        },
        {
          "output_type": "display_data",
          "data": {
            "image/png": "[encoded data removed]",
            "text/plain": [
              "<Figure size 432x288 with 1 Axes>"
            ]
          },
          "metadata": {
            "tags": []
          }
        },
        {
          "output_type": "display_data",
          "data": {
            "image/png": "[encoded data removed]",
            "text/plain": [
              "<Figure size 432x288 with 1 Axes>"
            ]
          },
          "metadata": {
            "tags": []
          }
        },
        {
          "output_type": "display_data",
          "data": {
            "image/png": "[encoded data removed]",
            "text/plain": [
              "<Figure size 432x288 with 1 Axes>"
            ]
          },
          "metadata": {
            "tags": []
          }
        }
      ]
    },
    {
      "cell_type": "code",
      "metadata": {
        "id": "duh3CRgZnFdN",
        "colab_type": "code",
        "colab": {
          "base_uri": "https://localhost:8080/",
          "height": 381
        },
        "outputId": "77cd7fd1-32f8-4135-89a6-27e49304dfcb"
      },
      "source": [
        "#separar datos\n",
        "X = df.iloc[:,:-1]\n",
        "y = df.iloc[:,-1]\n",
        "#train\n",
        "cancer_grid, cancer_grid_report, X_test, Y_test = gridsearchcv(X,y, n_pca=2)\n",
        "#cancer_grid, cancer_grid_report, X_test, Y_test = gridsearchcv(X,y)"
      ],
      "execution_count": 9,
      "outputs": [
        {
          "output_type": "stream",
          "text": [
            "Fitting 4 folds for each of 132 candidates, totalling 528 fits\n"
          ],
          "name": "stdout"
        },
        {
          "output_type": "stream",
          "text": [
            "[Parallel(n_jobs=-1)]: Using backend LokyBackend with 2 concurrent workers.\n",
            "[Parallel(n_jobs=-1)]: Done  72 tasks      | elapsed:    1.7s\n",
            "[Parallel(n_jobs=-1)]: Done 528 out of 528 | elapsed:    5.2s finished\n",
            "[Parallel(n_jobs=-1)]: Using backend LokyBackend with 2 concurrent workers.\n"
          ],
          "name": "stderr"
        },
        {
          "output_type": "stream",
          "text": [
            "score for 4 fold CV := 0.96\n",
            "Fitting 5 folds for each of 132 candidates, totalling 660 fits\n"
          ],
          "name": "stdout"
        },
        {
          "output_type": "stream",
          "text": [
            "[Parallel(n_jobs=-1)]: Done 252 tasks      | elapsed:    2.0s\n"
          ],
          "name": "stderr"
        },
        {
          "output_type": "stream",
          "text": [
            "score for 5 fold CV := 0.96\n",
            "Best-Fit Parameters From Training Data:\n",
            " {'SupVM__C': 1000, 'SupVM__gamma': 0.01, 'pca__n_components': 2}\n",
            "              precision    recall  f1-score    support\n",
            "0              0.957447  0.937500  0.947368   48.00000\n",
            "1              0.955224  0.969697  0.962406   66.00000\n",
            "accuracy       0.956140  0.956140  0.956140    0.95614\n",
            "macro avg      0.956335  0.953598  0.954887  114.00000\n",
            "weighted avg   0.956160  0.956140  0.956074  114.00000\n",
            "[[45  3]\n",
            " [ 2 64]]\n"
          ],
          "name": "stdout"
        },
        {
          "output_type": "stream",
          "text": [
            "[Parallel(n_jobs=-1)]: Done 660 out of 660 | elapsed:    5.3s finished\n"
          ],
          "name": "stderr"
        }
      ]
    },
    {
      "cell_type": "code",
      "metadata": {
        "id": "des9qXmDnz6h",
        "colab_type": "code",
        "colab": {
          "base_uri": "https://localhost:8080/",
          "height": 558
        },
        "outputId": "8f6e71aa-89d4-48af-ccee-659d1e8ef457"
      },
      "source": [
        "#grafica modelo en 2d\n",
        "plot_svm_2d(cancer_grid, X_test, Y_test)"
      ],
      "execution_count": 10,
      "outputs": [
        {
          "output_type": "display_data",
          "data": {
            "image/png": "[encoded data removed]",
            "text/plain": [
              "<Figure size 864x648 with 1 Axes>"
            ]
          },
          "metadata": {
            "tags": []
          }
        }
      ]
    },
    {
      "cell_type": "code",
      "metadata": {
        "id": "ga6vn6SwogrC",
        "colab_type": "code",
        "colab": {}
      },
      "source": [
        "#guarda el mejor modelo y su rendimiento\n",
        "#joblib.dump(cancer_grid.best_estimator_, 'models/cancer_grid.pkl', compress = 1)\n",
        "joblib.dump(cancer_grid, 'models/cancer_grid.pkl', compress = 1)\n",
        "cancer_grid_report.to_csv(\"models/cancer_grid_report.csv\", index=True)\n",
        "#importa el modelo y su rendimiento\n",
        "cancer_grid_load = joblib.load('models/cancer_grid.pkl')\n",
        "cancer_grid_report = pd.read_csv(\"models/cancer_grid_report.csv\", index_col=0)"
      ],
      "execution_count": 19,
      "outputs": []
    },
    {
      "cell_type": "code",
      "metadata": {
        "id": "cO8S8XdgolRu",
        "colab_type": "code",
        "colab": {
          "base_uri": "https://localhost:8080/",
          "height": 198
        },
        "outputId": "da924415-07fc-44b4-928e-34e8df16010a"
      },
      "source": [
        "cancer_grid_report"
      ],
      "execution_count": 20,
      "outputs": [
        {
          "output_type": "execute_result",
          "data": {
            "text/html": [
              "<div>\n",
              "<style scoped>\n",
              "    .dataframe tbody tr th:only-of-type {\n",
              "        vertical-align: middle;\n",
              "    }\n",
              "\n",
              "    .dataframe tbody tr th {\n",
              "        vertical-align: top;\n",
              "    }\n",
              "\n",
              "    .dataframe thead th {\n",
              "        text-align: right;\n",
              "    }\n",
              "</style>\n",
              "<table border=\"1\" class=\"dataframe\">\n",
              "  <thead>\n",
              "    <tr style=\"text-align: right;\">\n",
              "      <th></th>\n",
              "      <th>precision</th>\n",
              "      <th>recall</th>\n",
              "      <th>f1-score</th>\n",
              "      <th>support</th>\n",
              "    </tr>\n",
              "  </thead>\n",
              "  <tbody>\n",
              "    <tr>\n",
              "      <th>0</th>\n",
              "      <td>0.957447</td>\n",
              "      <td>0.937500</td>\n",
              "      <td>0.947368</td>\n",
              "      <td>48.00000</td>\n",
              "    </tr>\n",
              "    <tr>\n",
              "      <th>1</th>\n",
              "      <td>0.955224</td>\n",
              "      <td>0.969697</td>\n",
              "      <td>0.962406</td>\n",
              "      <td>66.00000</td>\n",
              "    </tr>\n",
              "    <tr>\n",
              "      <th>accuracy</th>\n",
              "      <td>0.956140</td>\n",
              "      <td>0.956140</td>\n",
              "      <td>0.956140</td>\n",
              "      <td>0.95614</td>\n",
              "    </tr>\n",
              "    <tr>\n",
              "      <th>macro avg</th>\n",
              "      <td>0.956335</td>\n",
              "      <td>0.953598</td>\n",
              "      <td>0.954887</td>\n",
              "      <td>114.00000</td>\n",
              "    </tr>\n",
              "    <tr>\n",
              "      <th>weighted avg</th>\n",
              "      <td>0.956160</td>\n",
              "      <td>0.956140</td>\n",
              "      <td>0.956074</td>\n",
              "      <td>114.00000</td>\n",
              "    </tr>\n",
              "  </tbody>\n",
              "</table>\n",
              "</div>"
            ],
            "text/plain": [
              "              precision    recall  f1-score    support\n",
              "0              0.957447  0.937500  0.947368   48.00000\n",
              "1              0.955224  0.969697  0.962406   66.00000\n",
              "accuracy       0.956140  0.956140  0.956140    0.95614\n",
              "macro avg      0.956335  0.953598  0.954887  114.00000\n",
              "weighted avg   0.956160  0.956140  0.956074  114.00000"
            ]
          },
          "metadata": {
            "tags": []
          },
          "execution_count": 20
        }
      ]
    },
    {
      "cell_type": "code",
      "metadata": {
        "id": "TAaEvuccorHG",
        "colab_type": "code",
        "colab": {
          "base_uri": "https://localhost:8080/",
          "height": 635
        },
        "outputId": "a8669992-c045-4ce2-c670-c9c307d9803e"
      },
      "source": [
        "input = X_test.iloc[111,:].values.reshape(1,-1) #selecciona la fila y todas las columnas excepto label\n",
        "print(\"Input:\\n\",X_test.iloc[111,:])\n",
        "print(Y_test.iloc[111,])\n",
        "cancer_grid_load.predict(input)"
      ],
      "execution_count": 25,
      "outputs": [
        {
          "output_type": "stream",
          "text": [
            "Input:\n",
            " mean radius                 16.300000\n",
            "mean texture                15.700000\n",
            "mean perimeter             104.700000\n",
            "mean area                  819.800000\n",
            "mean smoothness              0.094270\n",
            "mean compactness             0.067120\n",
            "mean concavity               0.055260\n",
            "mean concave points          0.045630\n",
            "mean symmetry                0.171100\n",
            "mean fractal dimension       0.056570\n",
            "radius error                 0.206700\n",
            "texture error                0.470600\n",
            "perimeter error              1.146000\n",
            "area error                  20.670000\n",
            "smoothness error             0.007394\n",
            "compactness error            0.012030\n",
            "concavity error              0.024700\n",
            "concave points error         0.014310\n",
            "symmetry error               0.013440\n",
            "fractal dimension error      0.002569\n",
            "worst radius                17.320000\n",
            "worst texture               17.760000\n",
            "worst perimeter            109.800000\n",
            "worst area                 928.200000\n",
            "worst smoothness             0.135400\n",
            "worst compactness            0.136100\n",
            "worst concavity              0.194700\n",
            "worst concave points         0.135700\n",
            "worst symmetry               0.230000\n",
            "worst fractal dimension      0.072300\n",
            "Name: 508, dtype: float64\n",
            "1\n"
          ],
          "name": "stdout"
        },
        {
          "output_type": "execute_result",
          "data": {
            "text/plain": [
              "array([1])"
            ]
          },
          "metadata": {
            "tags": []
          },
          "execution_count": 25
        }
      ]
    },
    {
      "cell_type": "markdown",
      "metadata": {
        "id": "NW0z0s0CpKe5",
        "colab_type": "text"
      },
      "source": [
        "Actividad:\n",
        "\n",
        "\n",
        "> Probar el entrenamiento y comparar su rendimiento con 3 PCA y sin PCA\n",
        "\n",
        "¿Cual seria el numero de PCA ideal y porque elegirlo en lugar de no usarlo?\n",
        "\n"
      ]
    }
  ]
}