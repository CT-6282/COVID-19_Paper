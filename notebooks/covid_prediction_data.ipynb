{
 "metadata": {
  "language_info": {
   "codemirror_mode": {
    "name": "ipython",
    "version": 3
   },
   "file_extension": ".py",
   "mimetype": "text/x-python",
   "name": "python",
   "nbconvert_exporter": "python",
   "pygments_lexer": "ipython3",
   "version": "3.6.10"
  },
  "orig_nbformat": 2,
  "kernelspec": {
   "name": "python3",
   "display_name": "Python 3.6.10 64-bit ('fastai-cpu': conda)",
   "metadata": {
    "interpreter": {
     "hash": "5d4efff26d710c6207dbf670a5de63bda4eb20ff08d40a14d5fc6cf436dfd714"
    }
   }
  }
 },
 "nbformat": 4,
 "nbformat_minor": 2,
 "cells": [
  {
   "cell_type": "code",
   "execution_count": 1,
   "metadata": {},
   "outputs": [],
   "source": [
    "from io import BytesIO\n",
    "from zipfile import ZipFile\n",
    "import pandas as pd\n",
    "import numpy as np\n",
    "import os\n",
    "import datetime"
   ]
  },
  {
   "cell_type": "code",
   "execution_count": 17,
   "metadata": {},
   "outputs": [],
   "source": [
    "path = \"/home/nacho/Documents/coronavirus/COVID-19_Paper/\"\n",
    "os.chdir(os.path.join(path)) "
   ]
  },
  {
   "cell_type": "code",
   "execution_count": 18,
   "metadata": {},
   "outputs": [],
   "source": [
    "df = pd.read_csv(\"datos_abiertos_covid19.zip\")"
   ]
  },
  {
   "cell_type": "code",
   "execution_count": 4,
   "metadata": {},
   "outputs": [
    {
     "output_type": "execute_result",
     "data": {
      "text/plain": [
       "['FECHA_ACTUALIZACION',\n",
       " 'ID_REGISTRO',\n",
       " 'ORIGEN',\n",
       " 'SECTOR',\n",
       " 'ENTIDAD_UM',\n",
       " 'SEXO',\n",
       " 'ENTIDAD_NAC',\n",
       " 'ENTIDAD_RES',\n",
       " 'MUNICIPIO_RES',\n",
       " 'TIPO_PACIENTE',\n",
       " 'FECHA_INGRESO',\n",
       " 'FECHA_SINTOMAS',\n",
       " 'FECHA_DEF',\n",
       " 'INTUBADO',\n",
       " 'NEUMONIA',\n",
       " 'EDAD',\n",
       " 'NACIONALIDAD',\n",
       " 'EMBARAZO',\n",
       " 'HABLA_LENGUA_INDIG',\n",
       " 'INDIGENA',\n",
       " 'DIABETES',\n",
       " 'EPOC',\n",
       " 'ASMA',\n",
       " 'INMUSUPR',\n",
       " 'HIPERTENSION',\n",
       " 'OTRA_COM',\n",
       " 'CARDIOVASCULAR',\n",
       " 'OBESIDAD',\n",
       " 'RENAL_CRONICA',\n",
       " 'TABAQUISMO',\n",
       " 'OTRO_CASO',\n",
       " 'TOMA_MUESTRA_LAB',\n",
       " 'RESULTADO_LAB',\n",
       " 'TOMA_MUESTRA_ANTIGENO',\n",
       " 'RESULTADO_ANTIGENO',\n",
       " 'CLASIFICACION_FINAL',\n",
       " 'MIGRANTE',\n",
       " 'PAIS_NACIONALIDAD',\n",
       " 'PAIS_ORIGEN',\n",
       " 'UCI']"
      ]
     },
     "metadata": {},
     "execution_count": 4
    }
   ],
   "source": [
    "list(df)"
   ]
  },
  {
   "cell_type": "code",
   "execution_count": 19,
   "metadata": {},
   "outputs": [],
   "source": [
    "def filter_exclude_columns(df):\n",
    "    df.drop(['FECHA_ACTUALIZACION', 'ID_REGISTRO', 'ORIGEN', 'MIGRANTE', 'PAIS_ORIGEN', 'PAIS_NACIONALIDAD','MUNICIPIO_RES','ENTIDAD_NAC', 'NACIONALIDAD','HABLA_LENGUA_INDIG', 'INDIGENA', 'TOMA_MUESTRA_LAB', 'RESULTADO_LAB', 'TOMA_MUESTRA_ANTIGENO', 'RESULTADO_ANTIGENO'], axis=1, inplace = True) #Se eliminan las columnas innecesarias\n",
    "    return df\n",
    "\n",
    "\n",
    "def date_preprocessing(df):\n",
    "    #convierte a tipo fecha fecha_sintoma \n",
    "    df['FECHA_SINTOMAS'] = pd.to_datetime(df['FECHA_SINTOMAS'])\n",
    "    #restar columna FECHA_INGRESO menos FECHA_SINTOMAS y guardar en columna dias_dif\n",
    "    df['FECHA_INGRESO'] = pd.to_datetime(df['FECHA_INGRESO'])\n",
    "    df['DIAS_DIF_HOSP'] = (df['FECHA_INGRESO'] - df['FECHA_SINTOMAS'])\n",
    "    df.DIAS_DIF_HOSP = df.DIAS_DIF_HOSP.dt.days\n",
    "    #eliminar todos los dias negativos\n",
    "    df.drop(df[df['DIAS_DIF_HOSP'] < 0].index, inplace = True)\n",
    "    #verificacion\n",
    "    df['DIAS_DIF_HOSP'][df['DIAS_DIF_HOSP'] < 0]\n",
    "    #df['DIAS_DIF_HOSP'].astype(int)\n",
    "    return df\n",
    "\n",
    "def filter_negative_dates(df):\n",
    "    #hace una copia ed fecha_def a dias_dif_def\n",
    "    df['BOOL_DEF'] = df[\"FECHA_DEF\"].copy()\n",
    "    #CREAR COLUMNA DE NUMERO DE DIAS DE SINTOMAS A FALLECIMIENTO\n",
    "    #crea columna dias desde sintomas a fallecido\n",
    "    #remplazar en fecha_def 9999 con nan\n",
    "    df[\"FECHA_DEF\"] = df['FECHA_DEF'].replace(['9999-99-99'], np.nan)\n",
    "    #convertir fecha_def a tipo de dato fecha\n",
    "    df['FECHA_DEF'] = pd.to_datetime(df['FECHA_DEF'])\n",
    "    #restar defcha def menos fecha_sintomas\n",
    "    df['DIAS_DIF_DEF'] = (df['FECHA_DEF'] - df['FECHA_SINTOMAS'])\n",
    "    df.DIAS_DIF_DEF = df.DIAS_DIF_DEF.dt.days\n",
    "    df['DIAS_DIF_DEF'] = df['DIAS_DIF_DEF'].replace([np.nan], 0)\n",
    "    df['DIAS_DIF_DEF'] = df['DIAS_DIF_DEF'].astype(int)\n",
    "    #validar si hay dias negativos y eliminarlos\n",
    "    df.drop(df[df['DIAS_DIF_DEF'] < 0].index, inplace = True)\n",
    "    #verificacion\n",
    "    df['DIAS_DIF_DEF'][df['DIAS_DIF_DEF'] < 0]\n",
    "    return df\n",
    "\n",
    "def filter_binary_status(df):\n",
    "    #columna defuncion cambia a 0 a los no fallecidos\n",
    "    df['BOOL_DEF'] = df['BOOL_DEF'].replace(['9999-99-99'], 0)\n",
    "    #columna defuncion cambia a 1 los fallecidos\n",
    "    df.loc[df[\"BOOL_DEF\"] != 0, [\"BOOL_DEF\"]] = 1\n",
    "    return df\n",
    "    \n",
    "def confirmed_covid(df):\n",
    "    df['RESULTADO'] = df['CLASIFICACION_FINAL'].copy()\n",
    "    df.drop(df['CLASIFICACION_FINAL'])\n",
    "    dictionary = ['RESULTADO']\n",
    "    for condition in dictionary:\n",
    "        df.loc[df[condition] != 3, [condition]] = 0\n",
    "    df.loc[df[condition] == 3, [condition]] = 1\n",
    "    return df\n",
    "\n",
    "def preprocessing(df_prediction):\n",
    "    df_prediction = df_prediction[df_prediction['RESULTADO'] == 1] #filtrar solo gente positiva covid\n",
    "    df_prediction.loc[df_prediction['SEXO'] == 2, ['SEXO']] = 0 #Hombre es 0, Mujer es 1\n",
    "    df_prediction.loc[df_prediction['EMBARAZO'] == 97, ['EMBARAZO']] = 2\n",
    "    df_prediction.loc[df_prediction['EMBARAZO'] == 98, ['EMBARAZO']] = 2\n",
    "    df_prediction.loc[df_prediction['EMBARAZO'] == 99, ['EMBARAZO']] = 2\n",
    "    #eliminar los hombres embarazados***\n",
    "    df_prediction.drop(df_prediction[(df_prediction['SEXO'] ==0) & (df_prediction['EMBARAZO'] ==1)].index, inplace = True)\n",
    "    #filtra tipo paciente en 0:No hosp, 1:Si hosp\n",
    "    df_prediction.loc[df_prediction['TIPO_PACIENTE'] == 1, ['TIPO_PACIENTE']] = 0\n",
    "    df_prediction.loc[df_prediction['TIPO_PACIENTE'] == 2, ['TIPO_PACIENTE']] = 1\n",
    "    return df_prediction"
   ]
  },
  {
   "cell_type": "code",
   "execution_count": 20,
   "metadata": {},
   "outputs": [],
   "source": [
    "def print_values(conditions, df):\n",
    "    for i in df[df.columns]:\n",
    "        #x = df[i].value_counts()\n",
    "        x = (df[i].value_counts()/df[i].count())*100\n",
    "        print(i,\"\\n\",x)\n",
    "        print()"
   ]
  },
  {
   "cell_type": "code",
   "execution_count": 21,
   "metadata": {},
   "outputs": [],
   "source": [
    "#preprocessing\n",
    "df = filter_exclude_columns(df)\n",
    "df = date_preprocessing(df)\n",
    "df = filter_negative_dates(df)\n",
    "df = filter_binary_status(df)\n",
    "df = confirmed_covid(df)\n",
    "df = preprocessing(df)"
   ]
  },
  {
   "cell_type": "code",
   "execution_count": 9,
   "metadata": {},
   "outputs": [
    {
     "output_type": "execute_result",
     "data": {
      "text/plain": [
       "['SECTOR',\n",
       " 'ENTIDAD_UM',\n",
       " 'SEXO',\n",
       " 'ENTIDAD_RES',\n",
       " 'TIPO_PACIENTE',\n",
       " 'FECHA_INGRESO',\n",
       " 'FECHA_SINTOMAS',\n",
       " 'FECHA_DEF',\n",
       " 'INTUBADO',\n",
       " 'NEUMONIA',\n",
       " 'EDAD',\n",
       " 'EMBARAZO',\n",
       " 'DIABETES',\n",
       " 'EPOC',\n",
       " 'ASMA',\n",
       " 'INMUSUPR',\n",
       " 'HIPERTENSION',\n",
       " 'OTRA_COM',\n",
       " 'CARDIOVASCULAR',\n",
       " 'OBESIDAD',\n",
       " 'RENAL_CRONICA',\n",
       " 'TABAQUISMO',\n",
       " 'OTRO_CASO',\n",
       " 'CLASIFICACION_FINAL',\n",
       " 'UCI',\n",
       " 'DIAS_DIF_HOSP',\n",
       " 'BOOL_DEF',\n",
       " 'DIAS_DIF_DEF',\n",
       " 'RESULTADO']"
      ]
     },
     "metadata": {},
     "execution_count": 9
    }
   ],
   "source": [
    "list(df)"
   ]
  },
  {
   "cell_type": "code",
   "execution_count": 10,
   "metadata": {},
   "outputs": [
    {
     "output_type": "stream",
     "name": "stdout",
     "text": [
      "Numero de casos positivos de COVID:  2221087\n",
      "Numero de hospitalizados por COVID:  419927\n",
      "Numero de intubados por COVID:  54808\n",
      "Numero de fallecidos por COVID:  204615\n",
      "Numero de UCI por COVID:  33418\n"
     ]
    }
   ],
   "source": [
    "print(\"Numero de casos positivos de COVID: \", len(df))\n",
    "print(\"Numero de hospitalizados por COVID: \", df.TIPO_PACIENTE.value_counts()[1])\n",
    "print(\"Numero de intubados por COVID: \", df.INTUBADO.value_counts()[1])\n",
    "print(\"Numero de fallecidos por COVID: \", df.BOOL_DEF.value_counts()[1])\n",
    "print(\"Numero de UCI por COVID: \", df.UCI.value_counts()[1])"
   ]
  },
  {
   "cell_type": "code",
   "execution_count": 12,
   "metadata": {},
   "outputs": [],
   "source": [
    "#CASO 1: si el paciente contagiado de CoV-2 necesitará hospitalización "
   ]
  },
  {
   "cell_type": "code",
   "execution_count": 22,
   "metadata": {},
   "outputs": [
    {
     "output_type": "stream",
     "name": "stdout",
     "text": [
      "SEXO \n",
      " 0    50.126135\n",
      "1    49.873865\n",
      "Name: SEXO, dtype: float64\n",
      "\n",
      "TIPO_PACIENTE \n",
      " 0    81.134497\n",
      "1    18.865503\n",
      "Name: TIPO_PACIENTE, dtype: float64\n",
      "\n",
      "EDAD \n",
      " 30     2.268795\n",
      "31     2.222789\n",
      "29     2.210948\n",
      "28     2.198068\n",
      "32     2.168195\n",
      "         ...   \n",
      "117    0.000181\n",
      "114    0.000181\n",
      "113    0.000136\n",
      "119    0.000045\n",
      "111    0.000045\n",
      "Name: EDAD, Length: 122, dtype: float64\n",
      "\n",
      "EMBARAZO \n",
      " 0    99.367971\n",
      "1     0.632029\n",
      "Name: EMBARAZO, dtype: float64\n",
      "\n",
      "DIABETES \n",
      " 0    86.604833\n",
      "1    13.395167\n",
      "Name: DIABETES, dtype: float64\n",
      "\n",
      "EPOC \n",
      " 0    98.882731\n",
      "1     1.117269\n",
      "Name: EPOC, dtype: float64\n",
      "\n",
      "ASMA \n",
      " 0    97.795605\n",
      "1     2.204395\n",
      "Name: ASMA, dtype: float64\n",
      "\n",
      "INMUSUPR \n",
      " 0    99.17364\n",
      "1     0.82636\n",
      "Name: INMUSUPR, dtype: float64\n",
      "\n",
      "HIPERTENSION \n",
      " 0    82.584254\n",
      "1    17.415746\n",
      "Name: HIPERTENSION, dtype: float64\n",
      "\n",
      "CARDIOVASCULAR \n",
      " 0    98.44535\n",
      "1     1.55465\n",
      "Name: CARDIOVASCULAR, dtype: float64\n",
      "\n",
      "OBESIDAD \n",
      " 0    85.370468\n",
      "1    14.629532\n",
      "Name: OBESIDAD, dtype: float64\n",
      "\n",
      "RENAL_CRONICA \n",
      " 0    98.497819\n",
      "1     1.502181\n",
      "Name: RENAL_CRONICA, dtype: float64\n",
      "\n",
      "TABAQUISMO \n",
      " 0    92.698114\n",
      "1     7.301886\n",
      "Name: TABAQUISMO, dtype: float64\n",
      "\n",
      "(2212716, 13)\n"
     ]
    }
   ],
   "source": [
    "df_caso1 = df.copy()\n",
    "df_caso1.drop(df_caso1[(df_caso1['TIPO_PACIENTE'] == 99)].index, inplace = True)\n",
    "\n",
    "conditions = ['EMBARAZO','RENAL_CRONICA', 'DIABETES', 'INMUSUPR', 'EPOC', 'OBESIDAD', 'HIPERTENSION', 'TABAQUISMO', 'CARDIOVASCULAR', 'ASMA']\n",
    "for condition in conditions:\n",
    "    df_caso1 = df_caso1.loc[~((df_caso1[condition] == 97) | (df_caso1[condition] == 98) | (df_caso1[condition] == 99))]\n",
    "    df_caso1.loc[df_caso1[condition] == 2, [condition]] = 0 #0 es NO, 1 es SI\n",
    "\n",
    "final_caso1_columns = ['EDAD','EMBARAZO','RENAL_CRONICA','DIABETES','INMUSUPR','EPOC','OBESIDAD','HIPERTENSION','TABAQUISMO','CARDIOVASCULAR','ASMA','SEXO','TIPO_PACIENTE']\n",
    "df_caso1 = df_caso1[df_caso1.columns.intersection(final_caso1_columns)]\n",
    "\n",
    "#print_values(final_caso1_columns, df_caso1)\n",
    "print_values(['TIPO_PACIENTE'], df_caso1)\n",
    "print(df_caso1.shape)"
   ]
  },
  {
   "cell_type": "code",
   "execution_count": null,
   "metadata": {},
   "outputs": [],
   "source": [
    "#CASO 1.2: si el paciente contagiado de CoV-2 necesitará hospitalización crítica"
   ]
  },
  {
   "cell_type": "code",
   "execution_count": 23,
   "metadata": {},
   "outputs": [
    {
     "output_type": "stream",
     "name": "stdout",
     "text": [
      "SEXO \n",
      " 0    59.377464\n",
      "1    40.622536\n",
      "Name: SEXO, dtype: float64\n",
      "\n",
      "TIPO_PACIENTE \n",
      " 1    100.0\n",
      "Name: TIPO_PACIENTE, dtype: float64\n",
      "\n",
      "EDAD \n",
      " 60     2.518113\n",
      "61     2.487010\n",
      "63     2.480018\n",
      "65     2.466516\n",
      "59     2.466034\n",
      "         ...   \n",
      "115    0.000241\n",
      "110    0.000241\n",
      "109    0.000241\n",
      "106    0.000241\n",
      "118    0.000241\n",
      "Name: EDAD, Length: 114, dtype: float64\n",
      "\n",
      "EMBARAZO \n",
      " 0    99.360827\n",
      "1     0.639173\n",
      "Name: EMBARAZO, dtype: float64\n",
      "\n",
      "DIABETES \n",
      " 0    67.490446\n",
      "1    32.509554\n",
      "Name: DIABETES, dtype: float64\n",
      "\n",
      "EPOC \n",
      " 0    96.521561\n",
      "1     3.478439\n",
      "Name: EPOC, dtype: float64\n",
      "\n",
      "ASMA \n",
      " 0    97.994238\n",
      "1     2.005762\n",
      "Name: ASMA, dtype: float64\n",
      "\n",
      "INMUSUPR \n",
      " 0    97.947463\n",
      "1     2.052537\n",
      "Name: INMUSUPR, dtype: float64\n",
      "\n",
      "HIPERTENSION \n",
      " 0    61.553447\n",
      "1    38.446553\n",
      "Name: HIPERTENSION, dtype: float64\n",
      "\n",
      "CARDIOVASCULAR \n",
      " 0    95.841159\n",
      "1     4.158841\n",
      "Name: CARDIOVASCULAR, dtype: float64\n",
      "\n",
      "OBESIDAD \n",
      " 0    78.660173\n",
      "1    21.339827\n",
      "Name: OBESIDAD, dtype: float64\n",
      "\n",
      "RENAL_CRONICA \n",
      " 0    94.785114\n",
      "1     5.214886\n",
      "Name: RENAL_CRONICA, dtype: float64\n",
      "\n",
      "TABAQUISMO \n",
      " 0    92.527637\n",
      "1     7.472363\n",
      "Name: TABAQUISMO, dtype: float64\n",
      "\n",
      "hosp_critica \n",
      " 0    83.109547\n",
      "1    16.890453\n",
      "Name: hosp_critica, dtype: float64\n",
      "\n",
      "SEXO \n",
      " 0    59.377464\n",
      "1    40.622536\n",
      "Name: SEXO, dtype: float64\n",
      "\n",
      "TIPO_PACIENTE \n",
      " 1    100.0\n",
      "Name: TIPO_PACIENTE, dtype: float64\n",
      "\n",
      "EDAD \n",
      " 60     2.518113\n",
      "61     2.487010\n",
      "63     2.480018\n",
      "65     2.466516\n",
      "59     2.466034\n",
      "         ...   \n",
      "115    0.000241\n",
      "110    0.000241\n",
      "109    0.000241\n",
      "106    0.000241\n",
      "118    0.000241\n",
      "Name: EDAD, Length: 114, dtype: float64\n",
      "\n",
      "EMBARAZO \n",
      " 0    99.360827\n",
      "1     0.639173\n",
      "Name: EMBARAZO, dtype: float64\n",
      "\n",
      "DIABETES \n",
      " 0    67.490446\n",
      "1    32.509554\n",
      "Name: DIABETES, dtype: float64\n",
      "\n",
      "EPOC \n",
      " 0    96.521561\n",
      "1     3.478439\n",
      "Name: EPOC, dtype: float64\n",
      "\n",
      "ASMA \n",
      " 0    97.994238\n",
      "1     2.005762\n",
      "Name: ASMA, dtype: float64\n",
      "\n",
      "INMUSUPR \n",
      " 0    97.947463\n",
      "1     2.052537\n",
      "Name: INMUSUPR, dtype: float64\n",
      "\n",
      "HIPERTENSION \n",
      " 0    61.553447\n",
      "1    38.446553\n",
      "Name: HIPERTENSION, dtype: float64\n",
      "\n",
      "CARDIOVASCULAR \n",
      " 0    95.841159\n",
      "1     4.158841\n",
      "Name: CARDIOVASCULAR, dtype: float64\n",
      "\n",
      "OBESIDAD \n",
      " 0    78.660173\n",
      "1    21.339827\n",
      "Name: OBESIDAD, dtype: float64\n",
      "\n",
      "RENAL_CRONICA \n",
      " 0    94.785114\n",
      "1     5.214886\n",
      "Name: RENAL_CRONICA, dtype: float64\n",
      "\n",
      "TABAQUISMO \n",
      " 0    92.527637\n",
      "1     7.472363\n",
      "Name: TABAQUISMO, dtype: float64\n",
      "\n",
      "hosp_critica \n",
      " 0    83.109547\n",
      "1    16.890453\n",
      "Name: hosp_critica, dtype: float64\n",
      "\n",
      "(414755, 14)\n"
     ]
    }
   ],
   "source": [
    "df_caso1_2 = df.copy()\n",
    "df_caso1_2.drop(df_caso1[(df_caso1['TIPO_PACIENTE'] == 99)].index, inplace = True)\n",
    "#elimina TIPO_PACIENTE = 0 (gente NO hospitalizada)\n",
    "df_caso1_2.drop(df_caso1_2[(df_caso1_2['TIPO_PACIENTE'] == 0)].index, inplace = True)\n",
    "\n",
    "conditions = ['EMBARAZO','RENAL_CRONICA', 'DIABETES', 'INMUSUPR', 'EPOC', 'OBESIDAD', 'HIPERTENSION', 'TABAQUISMO', 'CARDIOVASCULAR', 'ASMA','UCI','INTUBADO']\n",
    "for condition in conditions:\n",
    "    df_caso1_2 = df_caso1_2.loc[~((df_caso1_2[condition] == 97) | (df_caso1_2[condition] == 98) | (df_caso1_2[condition] == 99))]\n",
    "    df_caso1_2.loc[df_caso1_2[condition] == 2, [condition]] = 0 #0 es NO, 1 es SI\n",
    "\n",
    "def conditions(df_caso1_2):\n",
    "    if (df_caso1_2['UCI'] == 1) or (df_caso1_2['INTUBADO'] == 1):\n",
    "        return 1\n",
    "    else:\n",
    "        return 0\n",
    "df_caso1_2['hosp_critica'] = df_caso1_2.apply(conditions, axis=1)\n",
    "\n",
    "final_caso1_2_columns = ['EDAD','EMBARAZO','RENAL_CRONICA','DIABETES','INMUSUPR','EPOC','OBESIDAD','HIPERTENSION','TABAQUISMO','CARDIOVASCULAR','ASMA','SEXO','TIPO_PACIENTE','hosp_critica']\n",
    "df_caso1_2 = df_caso1_2[df_caso1_2.columns.intersection(final_caso1_2_columns)]\n",
    "\n",
    "#print_values(final_caso1_columns, df_caso1)\n",
    "print_values(['TIPO_PACIENTE'], df_caso1_2)\n",
    "print_values(['hosp_critica'], df_caso1_2)\n",
    "print(df_caso1_2.shape)"
   ]
  },
  {
   "cell_type": "code",
   "execution_count": 35,
   "metadata": {},
   "outputs": [],
   "source": [
    "#CASO 2: predecir en base a los descriptores la mortalidad antes del hospital (sin filtro)"
   ]
  },
  {
   "cell_type": "code",
   "execution_count": 24,
   "metadata": {},
   "outputs": [
    {
     "output_type": "stream",
     "name": "stdout",
     "text": [
      "SEXO \n",
      " 1    52.025817\n",
      "0    47.974183\n",
      "Name: SEXO, dtype: float64\n",
      "\n",
      "TIPO_PACIENTE \n",
      " 0    100.0\n",
      "Name: TIPO_PACIENTE, dtype: float64\n",
      "\n",
      "EDAD \n",
      " 30     2.651793\n",
      "29     2.595868\n",
      "28     2.588126\n",
      "31     2.587234\n",
      "27     2.546182\n",
      "         ...   \n",
      "114    0.000223\n",
      "113    0.000167\n",
      "117    0.000167\n",
      "111    0.000056\n",
      "119    0.000056\n",
      "Name: EDAD, Length: 122, dtype: float64\n",
      "\n",
      "EMBARAZO \n",
      " 0    99.369178\n",
      "1     0.630822\n",
      "Name: EMBARAZO, dtype: float64\n",
      "\n",
      "DIABETES \n",
      " 0    91.05068\n",
      "1     8.94932\n",
      "Name: DIABETES, dtype: float64\n",
      "\n",
      "EPOC \n",
      " 0    99.432009\n",
      "1     0.567991\n",
      "Name: EPOC, dtype: float64\n",
      "\n",
      "ASMA \n",
      " 0    97.751655\n",
      "1     2.248345\n",
      "Name: ASMA, dtype: float64\n",
      "\n",
      "INMUSUPR \n",
      " 0    99.458189\n",
      "1     0.541811\n",
      "Name: INMUSUPR, dtype: float64\n",
      "\n",
      "HIPERTENSION \n",
      " 0    87.480087\n",
      "1    12.519913\n",
      "Name: HIPERTENSION, dtype: float64\n",
      "\n",
      "CARDIOVASCULAR \n",
      " 0    99.051678\n",
      "1     0.948322\n",
      "Name: CARDIOVASCULAR, dtype: float64\n",
      "\n",
      "OBESIDAD \n",
      " 0    86.936382\n",
      "1    13.063618\n",
      "Name: OBESIDAD, dtype: float64\n",
      "\n",
      "RENAL_CRONICA \n",
      " 0    99.361101\n",
      "1     0.638899\n",
      "Name: RENAL_CRONICA, dtype: float64\n",
      "\n",
      "TABAQUISMO \n",
      " 0    92.736103\n",
      "1     7.263897\n",
      "Name: TABAQUISMO, dtype: float64\n",
      "\n",
      "BOOL_DEF \n",
      " 0    99.047612\n",
      "1     0.952388\n",
      "Name: BOOL_DEF, dtype: float64\n",
      "\n",
      "(1795276, 14)\n"
     ]
    }
   ],
   "source": [
    "df_caso2 = df.copy()\n",
    "df_caso2.drop(df_caso2[(df_caso2['TIPO_PACIENTE'] == 99)].index, inplace = True)\n",
    "#elimina TIPO_PACIENTE = 1 (gente hospitalizada)\n",
    "df_caso2.drop(df_caso2[(df_caso2['TIPO_PACIENTE'] == 1)].index, inplace = True) #revisar si mejora el rendimiento\n",
    "\n",
    "conditions = ['EMBARAZO','RENAL_CRONICA', 'DIABETES', 'INMUSUPR', 'EPOC', 'OBESIDAD', 'HIPERTENSION', 'TABAQUISMO', 'CARDIOVASCULAR', 'ASMA']\n",
    "for condition in conditions:\n",
    "    df_caso2 = df_caso2.loc[~((df_caso2[condition] == 97) | (df_caso2[condition] == 98) | (df_caso2[condition] == 99))]\n",
    "    df_caso2.loc[df_caso2[condition] == 2, [condition]] = 0 #0 es NO, 1 es SI\n",
    "\n",
    "final_caso2_columns = ['EDAD','EMBARAZO','RENAL_CRONICA','DIABETES','INMUSUPR','EPOC','OBESIDAD','HIPERTENSION','TABAQUISMO','CARDIOVASCULAR','ASMA','SEXO','BOOL_DEF','TIPO_PACIENTE']\n",
    "df_caso2 = df_caso2[df_caso2.columns.intersection(final_caso2_columns)]\n",
    "\n",
    "#print_values(final_caso2_columns, df_caso2)\n",
    "print_values(['TIPO_PACIENTE','BOOL_DEF'], df_caso2)\n",
    "print(df_caso2.shape)"
   ]
  },
  {
   "cell_type": "code",
   "execution_count": 25,
   "metadata": {},
   "outputs": [],
   "source": [
    "#CASO 2.1: predecir en base a los descriptores la mortalidad (sin filtro)"
   ]
  },
  {
   "cell_type": "code",
   "execution_count": 51,
   "metadata": {},
   "outputs": [
    {
     "output_type": "stream",
     "name": "stdout",
     "text": [
      "SEXO \n",
      " 0    50.126135\n",
      "1    49.873865\n",
      "Name: SEXO, dtype: float64\n",
      "\n",
      "TIPO_PACIENTE \n",
      " 0    81.134497\n",
      "1    18.865503\n",
      "Name: TIPO_PACIENTE, dtype: float64\n",
      "\n",
      "EDAD \n",
      " 30     2.268795\n",
      "31     2.222789\n",
      "29     2.210948\n",
      "28     2.198068\n",
      "32     2.168195\n",
      "         ...   \n",
      "117    0.000181\n",
      "114    0.000181\n",
      "113    0.000136\n",
      "119    0.000045\n",
      "111    0.000045\n",
      "Name: EDAD, Length: 122, dtype: float64\n",
      "\n",
      "EMBARAZO \n",
      " 0    99.367971\n",
      "1     0.632029\n",
      "Name: EMBARAZO, dtype: float64\n",
      "\n",
      "DIABETES \n",
      " 0    86.604833\n",
      "1    13.395167\n",
      "Name: DIABETES, dtype: float64\n",
      "\n",
      "EPOC \n",
      " 0    98.882731\n",
      "1     1.117269\n",
      "Name: EPOC, dtype: float64\n",
      "\n",
      "ASMA \n",
      " 0    97.795605\n",
      "1     2.204395\n",
      "Name: ASMA, dtype: float64\n",
      "\n",
      "INMUSUPR \n",
      " 0    99.17364\n",
      "1     0.82636\n",
      "Name: INMUSUPR, dtype: float64\n",
      "\n",
      "HIPERTENSION \n",
      " 0    82.584254\n",
      "1    17.415746\n",
      "Name: HIPERTENSION, dtype: float64\n",
      "\n",
      "CARDIOVASCULAR \n",
      " 0    98.44535\n",
      "1     1.55465\n",
      "Name: CARDIOVASCULAR, dtype: float64\n",
      "\n",
      "OBESIDAD \n",
      " 0    85.370468\n",
      "1    14.629532\n",
      "Name: OBESIDAD, dtype: float64\n",
      "\n",
      "RENAL_CRONICA \n",
      " 0    98.497819\n",
      "1     1.502181\n",
      "Name: RENAL_CRONICA, dtype: float64\n",
      "\n",
      "TABAQUISMO \n",
      " 0    92.698114\n",
      "1     7.301886\n",
      "Name: TABAQUISMO, dtype: float64\n",
      "\n",
      "BOOL_DEF \n",
      " 0    90.822049\n",
      "1     9.177951\n",
      "Name: BOOL_DEF, dtype: float64\n",
      "\n",
      "(2212716, 14)\n"
     ]
    }
   ],
   "source": [
    "df_caso2 = df.copy()\n",
    "df_caso2.drop(df_caso2[(df_caso2['TIPO_PACIENTE'] == 99)].index, inplace = True)\n",
    "\n",
    "conditions = ['EMBARAZO','RENAL_CRONICA', 'DIABETES', 'INMUSUPR', 'EPOC', 'OBESIDAD', 'HIPERTENSION', 'TABAQUISMO', 'CARDIOVASCULAR', 'ASMA']\n",
    "for condition in conditions:\n",
    "    df_caso2 = df_caso2.loc[~((df_caso2[condition] == 97) | (df_caso2[condition] == 98) | (df_caso2[condition] == 99))]\n",
    "    df_caso2.loc[df_caso2[condition] == 2, [condition]] = 0 #0 es NO, 1 es SI\n",
    "\n",
    "final_caso2_columns = ['EDAD','EMBARAZO','RENAL_CRONICA','DIABETES','INMUSUPR','EPOC','OBESIDAD','HIPERTENSION','TABAQUISMO','CARDIOVASCULAR','ASMA','SEXO','BOOL_DEF','TIPO_PACIENTE']\n",
    "df_caso2 = df_caso2[df_caso2.columns.intersection(final_caso2_columns)]\n",
    "\n",
    "#print_values(final_caso2_columns, df_caso2)\n",
    "print_values(['TIPO_PACIENTE','BOOL_DEF'], df_caso2)\n",
    "print(df_caso2.shape)"
   ]
  },
  {
   "cell_type": "code",
   "execution_count": 27,
   "metadata": {},
   "outputs": [],
   "source": [
    "#CASO 3: Mortalidad de los contagiagos DESPUES de INTUBADO,UCI (sin filtro)"
   ]
  },
  {
   "cell_type": "code",
   "execution_count": 28,
   "metadata": {},
   "outputs": [
    {
     "output_type": "stream",
     "name": "stdout",
     "text": [
      "SEXO \n",
      " 0    59.377464\n",
      "1    40.622536\n",
      "Name: SEXO, dtype: float64\n",
      "\n",
      "TIPO_PACIENTE \n",
      " 1    100.0\n",
      "Name: TIPO_PACIENTE, dtype: float64\n",
      "\n",
      "INTUBADO \n",
      " 0    86.920953\n",
      "1    13.079047\n",
      "Name: INTUBADO, dtype: float64\n",
      "\n",
      "EDAD \n",
      " 60     2.518113\n",
      "61     2.487010\n",
      "63     2.480018\n",
      "65     2.466516\n",
      "59     2.466034\n",
      "         ...   \n",
      "115    0.000241\n",
      "110    0.000241\n",
      "109    0.000241\n",
      "106    0.000241\n",
      "118    0.000241\n",
      "Name: EDAD, Length: 114, dtype: float64\n",
      "\n",
      "EMBARAZO \n",
      " 0    99.360827\n",
      "1     0.639173\n",
      "Name: EMBARAZO, dtype: float64\n",
      "\n",
      "DIABETES \n",
      " 0    67.490446\n",
      "1    32.509554\n",
      "Name: DIABETES, dtype: float64\n",
      "\n",
      "EPOC \n",
      " 0    96.521561\n",
      "1     3.478439\n",
      "Name: EPOC, dtype: float64\n",
      "\n",
      "ASMA \n",
      " 0    97.994238\n",
      "1     2.005762\n",
      "Name: ASMA, dtype: float64\n",
      "\n",
      "INMUSUPR \n",
      " 0    97.947463\n",
      "1     2.052537\n",
      "Name: INMUSUPR, dtype: float64\n",
      "\n",
      "HIPERTENSION \n",
      " 0    61.553447\n",
      "1    38.446553\n",
      "Name: HIPERTENSION, dtype: float64\n",
      "\n",
      "CARDIOVASCULAR \n",
      " 0    95.841159\n",
      "1     4.158841\n",
      "Name: CARDIOVASCULAR, dtype: float64\n",
      "\n",
      "OBESIDAD \n",
      " 0    78.660173\n",
      "1    21.339827\n",
      "Name: OBESIDAD, dtype: float64\n",
      "\n",
      "RENAL_CRONICA \n",
      " 0    94.785114\n",
      "1     5.214886\n",
      "Name: RENAL_CRONICA, dtype: float64\n",
      "\n",
      "TABAQUISMO \n",
      " 0    92.527637\n",
      "1     7.472363\n",
      "Name: TABAQUISMO, dtype: float64\n",
      "\n",
      "UCI \n",
      " 0    92.057962\n",
      "1     7.942038\n",
      "Name: UCI, dtype: float64\n",
      "\n",
      "BOOL_DEF \n",
      " 0    55.660571\n",
      "1    44.339429\n",
      "Name: BOOL_DEF, dtype: float64\n",
      "\n",
      "(414755, 16)\n"
     ]
    }
   ],
   "source": [
    "df_caso3 = df.copy()\n",
    "df_caso3.drop(df_caso3[(df_caso3['TIPO_PACIENTE'] == 99)].index, inplace = True)\n",
    "\n",
    "conditions = ['EMBARAZO','RENAL_CRONICA', 'DIABETES', 'INMUSUPR', 'EPOC', 'OBESIDAD', 'HIPERTENSION', 'TABAQUISMO', 'CARDIOVASCULAR', 'ASMA','INTUBADO','UCI']\n",
    "for condition in conditions:\n",
    "    df_caso3 = df_caso3.loc[~((df_caso3[condition] == 97) | (df_caso3[condition] == 98) | (df_caso3[condition] == 99))]\n",
    "    df_caso3.loc[df_caso3[condition] == 2, [condition]] = 0 #0 es NO, 1 es SI\n",
    "\n",
    "final_caso3_columns = ['EDAD','EMBARAZO','RENAL_CRONICA','DIABETES','INMUSUPR','EPOC','OBESIDAD','HIPERTENSION','TABAQUISMO','CARDIOVASCULAR','ASMA','SEXO','INTUBADO','UCI','BOOL_DEF','TIPO_PACIENTE']\n",
    "df_caso3 = df_caso3[df_caso3.columns.intersection(final_caso3_columns)]\n",
    "\n",
    "#print_values(final_caso3_columns, df_caso3)\n",
    "print_values(['INTUBADO','UCI','TIPO_PACIENTE','BOOL_DEF'], df_caso3)\n",
    "print(df_caso3.shape)"
   ]
  },
  {
   "cell_type": "code",
   "execution_count": 29,
   "metadata": {},
   "outputs": [],
   "source": [
    "#CASO 3.1: Mortalidad de los contagiagos DESPUES de INTUBADO,UCI (con filtro)"
   ]
  },
  {
   "cell_type": "code",
   "execution_count": 30,
   "metadata": {},
   "outputs": [
    {
     "output_type": "stream",
     "name": "stdout",
     "text": [
      "SEXO \n 0    65.555685\n1    34.444315\nName: SEXO, dtype: float64\n\nTIPO_PACIENTE \n 1    100.0\nName: TIPO_PACIENTE, dtype: float64\n\nINTUBADO \n 1    100.0\nName: INTUBADO, dtype: float64\n\nEDAD \n 60     2.889330\n61     2.760915\n67     2.679197\n65     2.632501\n62     2.632501\n         ...   \n7      0.023348\n101    0.011674\n98     0.011674\n100    0.005837\n116    0.005837\nName: EDAD, Length: 102, dtype: float64\n\nEMBARAZO \n 0    99.340416\n1     0.659584\nName: EMBARAZO, dtype: float64\n\nDIABETES \n 0    66.372869\n1    33.627131\nName: DIABETES, dtype: float64\n\nEPOC \n 0    96.958907\n1     3.041093\nName: EPOC, dtype: float64\n\nASMA \n 0    98.091291\n1     1.908709\nName: ASMA, dtype: float64\n\nINMUSUPR \n 0    97.48424\n1     2.51576\nName: INMUSUPR, dtype: float64\n\nHIPERTENSION \n 0    61.563157\n1    38.436843\nName: HIPERTENSION, dtype: float64\n\nCARDIOVASCULAR \n 0    95.114406\n1     4.885594\nName: CARDIOVASCULAR, dtype: float64\n\nOBESIDAD \n 0    71.923885\n1    28.076115\nName: OBESIDAD, dtype: float64\n\nRENAL_CRONICA \n 0    95.680598\n1     4.319402\nName: RENAL_CRONICA, dtype: float64\n\nTABAQUISMO \n 0    92.125846\n1     7.874154\nName: TABAQUISMO, dtype: float64\n\nUCI \n 1    100.0\nName: UCI, dtype: float64\n\nBOOL_DEF \n 1    76.307495\n0    23.692505\nName: BOOL_DEF, dtype: float64\n\n(17132, 16)\n"
     ]
    }
   ],
   "source": [
    "df_caso3 = df.copy()\n",
    "df_caso3.drop(df_caso3[(df_caso3['TIPO_PACIENTE'] == 99)].index, inplace = True)\n",
    "    \n",
    "conditions = ['EMBARAZO','RENAL_CRONICA', 'DIABETES', 'INMUSUPR', 'EPOC', 'OBESIDAD', 'HIPERTENSION', 'TABAQUISMO', 'CARDIOVASCULAR', 'ASMA','INTUBADO','UCI']\n",
    "for condition in conditions:\n",
    "    df_caso3 = df_caso3.loc[~((df_caso3[condition] == 97) | (df_caso3[condition] == 98) | (df_caso3[condition] == 99))]\n",
    "    df_caso3.loc[df_caso3[condition] == 2, [condition]] = 0 #0 es NO, 1 es SI\n",
    "\n",
    "#elimina no intubado y uci\n",
    "df_caso3.drop(df_caso3[(df_caso3['INTUBADO'] == 0)].index, inplace = True) \n",
    "df_caso3.drop(df_caso3[(df_caso3['UCI'] == 0)].index, inplace = True) \n",
    "\n",
    "final_caso3_columns = ['EDAD','EMBARAZO','RENAL_CRONICA','DIABETES','INMUSUPR','EPOC','OBESIDAD','HIPERTENSION','TABAQUISMO','CARDIOVASCULAR','ASMA','SEXO','INTUBADO','UCI','BOOL_DEF','TIPO_PACIENTE']\n",
    "df_caso3 = df_caso3[df_caso3.columns.intersection(final_caso3_columns)]\n",
    "\n",
    "#print_values(final_caso3_columns, df_caso3)\n",
    "print_values(['INTUBADO','UCI','TIPO_PACIENTE','BOOL_DEF'], df_caso3)\n",
    "print(df_caso3.shape)"
   ]
  },
  {
   "cell_type": "code",
   "execution_count": 31,
   "metadata": {},
   "outputs": [],
   "source": [
    "#CASO 3.2: Mortalidad de los contagiagos DESPUES de INTUBADO,UCI (filtro solo INTUBADO)"
   ]
  },
  {
   "cell_type": "code",
   "execution_count": 32,
   "metadata": {},
   "outputs": [
    {
     "output_type": "stream",
     "name": "stdout",
     "text": [
      "SEXO \n 0    63.81853\n1    36.18147\nName: SEXO, dtype: float64\n\nTIPO_PACIENTE \n 1    100.0\nName: TIPO_PACIENTE, dtype: float64\n\nINTUBADO \n 1    100.0\nName: INTUBADO, dtype: float64\n\nEDAD \n 63     2.940309\n61     2.901596\n60     2.859197\n65     2.831545\n67     2.798363\n         ...   \n100    0.009217\n99     0.007374\n101    0.003687\n116    0.001843\n108    0.001843\nName: EDAD, Length: 104, dtype: float64\n\nEMBARAZO \n 0    99.684769\n1     0.315231\nName: EMBARAZO, dtype: float64\n\nDIABETES \n 0    64.699701\n1    35.300299\nName: DIABETES, dtype: float64\n\nEPOC \n 0    96.261476\n1     3.738524\nName: EPOC, dtype: float64\n\nASMA \n 0    97.972201\n1     2.027799\nName: ASMA, dtype: float64\n\nINMUSUPR \n 0    97.610884\n1     2.389116\nName: INMUSUPR, dtype: float64\n\nHIPERTENSION \n 0    57.772002\n1    42.227998\nName: HIPERTENSION, dtype: float64\n\nCARDIOVASCULAR \n 0    95.295506\n1     4.704494\nName: CARDIOVASCULAR, dtype: float64\n\nOBESIDAD \n 0    73.811894\n1    26.188106\nName: OBESIDAD, dtype: float64\n\nRENAL_CRONICA \n 0    94.722191\n1     5.277809\nName: RENAL_CRONICA, dtype: float64\n\nTABAQUISMO \n 0    91.662058\n1     8.337942\nName: TABAQUISMO, dtype: float64\n\nUCI \n 0    68.417948\n1    31.582052\nName: UCI, dtype: float64\n\nBOOL_DEF \n 1    82.940678\n0    17.059322\nName: BOOL_DEF, dtype: float64\n\n(54246, 16)\n"
     ]
    }
   ],
   "source": [
    "df_caso3 = df.copy()\n",
    "df_caso3.drop(df_caso3[(df_caso3['TIPO_PACIENTE'] == 99)].index, inplace = True)\n",
    "    \n",
    "conditions = ['EMBARAZO','RENAL_CRONICA', 'DIABETES', 'INMUSUPR', 'EPOC', 'OBESIDAD', 'HIPERTENSION', 'TABAQUISMO', 'CARDIOVASCULAR', 'ASMA','INTUBADO','UCI']\n",
    "for condition in conditions:\n",
    "    df_caso3 = df_caso3.loc[~((df_caso3[condition] == 97) | (df_caso3[condition] == 98) | (df_caso3[condition] == 99))]\n",
    "    df_caso3.loc[df_caso3[condition] == 2, [condition]] = 0 #0 es NO, 1 es SI\n",
    "\n",
    "#elimina no intubado\n",
    "df_caso3.drop(df_caso3[(df_caso3['INTUBADO'] == 0)].index, inplace = True) \n",
    "\n",
    "final_caso3_columns = ['EDAD','EMBARAZO','RENAL_CRONICA','DIABETES','INMUSUPR','EPOC','OBESIDAD','HIPERTENSION','TABAQUISMO','CARDIOVASCULAR','ASMA','SEXO','INTUBADO','UCI','BOOL_DEF','TIPO_PACIENTE']\n",
    "df_caso3 = df_caso3[df_caso3.columns.intersection(final_caso3_columns)]\n",
    "\n",
    "#print_values(final_caso3_columns, df_caso3)\n",
    "print_values(['INTUBADO','UCI','TIPO_PACIENTE','BOOL_DEF'], df_caso3)\n",
    "print(df_caso3.shape)"
   ]
  },
  {
   "cell_type": "code",
   "execution_count": 33,
   "metadata": {},
   "outputs": [],
   "source": [
    "#CASO 3.3: Mortalidad de los contagiagos DESPUES de INTUBADO,UCI (filtro solo UCI)"
   ]
  },
  {
   "cell_type": "code",
   "execution_count": 34,
   "metadata": {},
   "outputs": [
    {
     "output_type": "stream",
     "name": "stdout",
     "text": [
      "SEXO \n 0    62.920461\n1    37.079539\nName: SEXO, dtype: float64\n\nTIPO_PACIENTE \n 1    100.0\nName: TIPO_PACIENTE, dtype: float64\n\nINTUBADO \n 1    52.009715\n0    47.990285\nName: INTUBADO, dtype: float64\n\nEDAD \n 60     2.859745\n61     2.656345\n58     2.638130\n65     2.495446\n55     2.489375\n         ...   \n98     0.018215\n99     0.015179\n101    0.015179\n103    0.006072\n116    0.003036\nName: EDAD, Length: 104, dtype: float64\n\nEMBARAZO \n 0    99.110504\n1     0.889496\nName: EMBARAZO, dtype: float64\n\nDIABETES \n 0    66.472374\n1    33.527626\nName: DIABETES, dtype: float64\n\nEPOC \n 0    96.760777\n1     3.239223\nName: EPOC, dtype: float64\n\nASMA \n 0    97.996357\n1     2.003643\nName: ASMA, dtype: float64\n\nINMUSUPR \n 0    97.641166\n1     2.358834\nName: INMUSUPR, dtype: float64\n\nHIPERTENSION \n 0    62.100789\n1    37.899211\nName: HIPERTENSION, dtype: float64\n\nCARDIOVASCULAR \n 0    95.270188\n1     4.729812\nName: CARDIOVASCULAR, dtype: float64\n\nOBESIDAD \n 0    73.266545\n1    26.733455\nName: OBESIDAD, dtype: float64\n\nRENAL_CRONICA \n 0    96.029144\n1     3.970856\nName: RENAL_CRONICA, dtype: float64\n\nTABAQUISMO \n 0    92.738312\n1     7.261688\nName: TABAQUISMO, dtype: float64\n\nUCI \n 1    100.0\nName: UCI, dtype: float64\n\nBOOL_DEF \n 1    56.214329\n0    43.785671\nName: BOOL_DEF, dtype: float64\n\n(32940, 16)\n"
     ]
    }
   ],
   "source": [
    "df_caso3 = df.copy()\n",
    "df_caso3.drop(df_caso3[(df_caso3['TIPO_PACIENTE'] == 99)].index, inplace = True)\n",
    "    \n",
    "conditions = ['EMBARAZO','RENAL_CRONICA', 'DIABETES', 'INMUSUPR', 'EPOC', 'OBESIDAD', 'HIPERTENSION', 'TABAQUISMO', 'CARDIOVASCULAR', 'ASMA','INTUBADO','UCI']\n",
    "for condition in conditions:\n",
    "    df_caso3 = df_caso3.loc[~((df_caso3[condition] == 97) | (df_caso3[condition] == 98) | (df_caso3[condition] == 99))]\n",
    "    df_caso3.loc[df_caso3[condition] == 2, [condition]] = 0 #0 es NO, 1 es SI\n",
    "\n",
    "#elimina no uci\n",
    "df_caso3.drop(df_caso3[(df_caso3['UCI'] == 0)].index, inplace = True) \n",
    "\n",
    "final_caso3_columns = ['EDAD','EMBARAZO','RENAL_CRONICA','DIABETES','INMUSUPR','EPOC','OBESIDAD','HIPERTENSION','TABAQUISMO','CARDIOVASCULAR','ASMA','SEXO','INTUBADO','UCI','BOOL_DEF','TIPO_PACIENTE']\n",
    "df_caso3 = df_caso3[df_caso3.columns.intersection(final_caso3_columns)]\n",
    "\n",
    "#print_values(final_caso3_columns, df_caso3)\n",
    "print_values(['INTUBADO','UCI','TIPO_PACIENTE','BOOL_DEF'], df_caso3)\n",
    "print(df_caso3.shape)"
   ]
  },
  {
   "cell_type": "code",
   "execution_count": 35,
   "metadata": {},
   "outputs": [],
   "source": [
    "#CASO 4: Necesidad de UCI ANTES de diagnostico de neumonia (sin filtro)"
   ]
  },
  {
   "cell_type": "code",
   "execution_count": 36,
   "metadata": {},
   "outputs": [
    {
     "output_type": "stream",
     "name": "stdout",
     "text": [
      "SEXO \n 0    59.377464\n1    40.622536\nName: SEXO, dtype: float64\n\nTIPO_PACIENTE \n 1    100.0\nName: TIPO_PACIENTE, dtype: float64\n\nEDAD \n 60     2.518113\n61     2.487010\n63     2.480018\n65     2.466516\n59     2.466034\n         ...   \n115    0.000241\n110    0.000241\n109    0.000241\n106    0.000241\n118    0.000241\nName: EDAD, Length: 114, dtype: float64\n\nEMBARAZO \n 0    99.360827\n1     0.639173\nName: EMBARAZO, dtype: float64\n\nDIABETES \n 0    67.490446\n1    32.509554\nName: DIABETES, dtype: float64\n\nEPOC \n 0    96.521561\n1     3.478439\nName: EPOC, dtype: float64\n\nASMA \n 0    97.994238\n1     2.005762\nName: ASMA, dtype: float64\n\nINMUSUPR \n 0    97.947463\n1     2.052537\nName: INMUSUPR, dtype: float64\n\nHIPERTENSION \n 0    61.553447\n1    38.446553\nName: HIPERTENSION, dtype: float64\n\nCARDIOVASCULAR \n 0    95.841159\n1     4.158841\nName: CARDIOVASCULAR, dtype: float64\n\nOBESIDAD \n 0    78.660173\n1    21.339827\nName: OBESIDAD, dtype: float64\n\nRENAL_CRONICA \n 0    94.785114\n1     5.214886\nName: RENAL_CRONICA, dtype: float64\n\nTABAQUISMO \n 0    92.527637\n1     7.472363\nName: TABAQUISMO, dtype: float64\n\nUCI \n 0    92.057962\n1     7.942038\nName: UCI, dtype: float64\n\n(414755, 14)\n"
     ]
    }
   ],
   "source": [
    "df_caso4 = df.copy()\n",
    "\n",
    "conditions = ['EMBARAZO','RENAL_CRONICA', 'DIABETES', 'INMUSUPR', 'EPOC', 'OBESIDAD', 'HIPERTENSION', 'TABAQUISMO', 'CARDIOVASCULAR', 'ASMA','UCI']\n",
    "for condition in conditions:\n",
    "    df_caso4 = df_caso4.loc[~((df_caso4[condition] == 97) | (df_caso4[condition] == 98) | (df_caso4[condition] == 99))]\n",
    "    df_caso4.loc[df_caso4[condition] == 2, [condition]] = 0 #0 es NO, 1 es SI\n",
    "\n",
    "final_caso4_columns = ['EDAD','EMBARAZO','RENAL_CRONICA','DIABETES','INMUSUPR','EPOC','OBESIDAD','HIPERTENSION','TABAQUISMO','CARDIOVASCULAR','ASMA','SEXO','UCI','TIPO_PACIENTE']\n",
    "df_caso4 = df_caso4[df_caso4.columns.intersection(final_caso4_columns)]\n",
    "\n",
    "#print_values(final_caso4_columns, df_caso4)\n",
    "print_values(['TIPO_PACIENTE','UCI'], df_caso4)\n",
    "print(df_caso4.shape)"
   ]
  },
  {
   "cell_type": "code",
   "execution_count": 37,
   "metadata": {},
   "outputs": [],
   "source": [
    "#CASO 5: Necesidad de ICU DESPUES de diagnostico de neumonia (sin filtro)"
   ]
  },
  {
   "cell_type": "code",
   "execution_count": 38,
   "metadata": {},
   "outputs": [
    {
     "output_type": "stream",
     "name": "stdout",
     "text": [
      "SEXO \n 0    59.377464\n1    40.622536\nName: SEXO, dtype: float64\n\nTIPO_PACIENTE \n 1    100.0\nName: TIPO_PACIENTE, dtype: float64\n\nNEUMONIA \n 1    65.748936\n0    34.251064\nName: NEUMONIA, dtype: float64\n\nEDAD \n 60     2.518113\n61     2.487010\n63     2.480018\n65     2.466516\n59     2.466034\n         ...   \n115    0.000241\n110    0.000241\n109    0.000241\n106    0.000241\n118    0.000241\nName: EDAD, Length: 114, dtype: float64\n\nEMBARAZO \n 0    99.360827\n1     0.639173\nName: EMBARAZO, dtype: float64\n\nDIABETES \n 0    67.490446\n1    32.509554\nName: DIABETES, dtype: float64\n\nEPOC \n 0    96.521561\n1     3.478439\nName: EPOC, dtype: float64\n\nASMA \n 0    97.994238\n1     2.005762\nName: ASMA, dtype: float64\n\nINMUSUPR \n 0    97.947463\n1     2.052537\nName: INMUSUPR, dtype: float64\n\nHIPERTENSION \n 0    61.553447\n1    38.446553\nName: HIPERTENSION, dtype: float64\n\nCARDIOVASCULAR \n 0    95.841159\n1     4.158841\nName: CARDIOVASCULAR, dtype: float64\n\nOBESIDAD \n 0    78.660173\n1    21.339827\nName: OBESIDAD, dtype: float64\n\nRENAL_CRONICA \n 0    94.785114\n1     5.214886\nName: RENAL_CRONICA, dtype: float64\n\nTABAQUISMO \n 0    92.527637\n1     7.472363\nName: TABAQUISMO, dtype: float64\n\nUCI \n 0    92.057962\n1     7.942038\nName: UCI, dtype: float64\n\n(414755, 15)\n"
     ]
    }
   ],
   "source": [
    "df_caso5 = df.copy()\n",
    "\n",
    "conditions = ['EMBARAZO','RENAL_CRONICA', 'DIABETES', 'INMUSUPR', 'EPOC', 'OBESIDAD', 'HIPERTENSION', 'TABAQUISMO', 'CARDIOVASCULAR', 'ASMA','UCI', 'NEUMONIA']\n",
    "for condition in conditions:\n",
    "    df_caso5 = df_caso5.loc[~((df_caso5[condition] == 97) | (df_caso5[condition] == 98) | (df_caso5[condition] == 99))]\n",
    "    df_caso5.loc[df_caso5[condition] == 2, [condition]] = 0 #0 es NO, 1 es SI\n",
    "\n",
    "final_caso5_columns = ['EDAD','EMBARAZO','RENAL_CRONICA','DIABETES','INMUSUPR','EPOC','OBESIDAD','HIPERTENSION','TABAQUISMO','CARDIOVASCULAR','ASMA','SEXO','UCI', 'NEUMONIA','TIPO_PACIENTE']\n",
    "df_caso5 = df_caso5[df_caso5.columns.intersection(final_caso5_columns)]\n",
    "\n",
    "#print_values(final_caso5_columns, df_caso5)\n",
    "print_values(['TIPO_PACIENTE', 'NEUMONIA','UCI'], df_caso5)\n",
    "print(df_caso5.shape)"
   ]
  },
  {
   "cell_type": "code",
   "execution_count": 39,
   "metadata": {},
   "outputs": [],
   "source": [
    "#CASO 5.1: Necesidad de ICU DESPUES de diagnostico de neumonia (con filtro)"
   ]
  },
  {
   "cell_type": "code",
   "execution_count": 40,
   "metadata": {},
   "outputs": [
    {
     "output_type": "stream",
     "name": "stdout",
     "text": [
      "SEXO \n 0    60.451343\n1    39.548657\nName: SEXO, dtype: float64\n\nTIPO_PACIENTE \n 1    100.0\nName: TIPO_PACIENTE, dtype: float64\n\nNEUMONIA \n 1    100.0\nName: NEUMONIA, dtype: float64\n\nEDAD \n 60     2.625625\n63     2.599955\n65     2.581987\n61     2.569152\n59     2.540182\n         ...   \n117    0.000367\n116    0.000367\n110    0.000367\n108    0.000367\n118    0.000367\nName: EDAD, Length: 110, dtype: float64\n\nEMBARAZO \n 0    99.661529\n1     0.338471\nName: EMBARAZO, dtype: float64\n\nDIABETES \n 0    66.237986\n1    33.762014\nName: DIABETES, dtype: float64\n\nEPOC \n 0    96.445139\n1     3.554861\nName: EPOC, dtype: float64\n\nASMA \n 0    98.098622\n1     1.901378\nName: ASMA, dtype: float64\n\nINMUSUPR \n 0    97.976509\n1     2.023491\nName: INMUSUPR, dtype: float64\n\nHIPERTENSION \n 0    60.509283\n1    39.490717\nName: HIPERTENSION, dtype: float64\n\nCARDIOVASCULAR \n 0    95.788733\n1     4.211267\nName: CARDIOVASCULAR, dtype: float64\n\nOBESIDAD \n 0    77.417427\n1    22.582573\nName: OBESIDAD, dtype: float64\n\nRENAL_CRONICA \n 0    94.916336\n1     5.083664\nName: RENAL_CRONICA, dtype: float64\n\nTABAQUISMO \n 0    92.356352\n1     7.643648\nName: TABAQUISMO, dtype: float64\n\nUCI \n 0    89.582944\n1    10.417056\nName: UCI, dtype: float64\n\n(272697, 15)\n"
     ]
    }
   ],
   "source": [
    "df_caso5 = df.copy()\n",
    "\n",
    "conditions = ['EMBARAZO','RENAL_CRONICA', 'DIABETES', 'INMUSUPR', 'EPOC', 'OBESIDAD', 'HIPERTENSION', 'TABAQUISMO', 'CARDIOVASCULAR', 'ASMA','UCI', 'NEUMONIA']\n",
    "for condition in conditions:\n",
    "    df_caso5 = df_caso5.loc[~((df_caso5[condition] == 97) | (df_caso5[condition] == 98) | (df_caso5[condition] == 99))]\n",
    "    df_caso5.loc[df_caso5[condition] == 2, [condition]] = 0 #0 es NO, 1 es SI\n",
    "\n",
    "#elimina no neumonia\n",
    "df_caso5.drop(df_caso5[(df_caso5['NEUMONIA'] == 0)].index, inplace = True) \n",
    "\n",
    "final_caso5_columns = ['EDAD','EMBARAZO','RENAL_CRONICA','DIABETES','INMUSUPR','EPOC','OBESIDAD','HIPERTENSION','TABAQUISMO','CARDIOVASCULAR','ASMA','SEXO','UCI', 'NEUMONIA','TIPO_PACIENTE']\n",
    "df_caso5 = df_caso5[df_caso5.columns.intersection(final_caso5_columns)]\n",
    "\n",
    "#print_values(final_caso5_columns, df_caso5)\n",
    "print_values(['TIPO_PACIENTE', 'NEUMONIA','UCI'], df_caso5)\n",
    "print(df_caso5.shape)"
   ]
  },
  {
   "cell_type": "code",
   "execution_count": 41,
   "metadata": {},
   "outputs": [],
   "source": [
    "#CASO 6: necesidad de ventilador ANTES de DIAGNOSTICO de neumonia e ICU (sin filtro)"
   ]
  },
  {
   "cell_type": "code",
   "execution_count": 42,
   "metadata": {},
   "outputs": [
    {
     "output_type": "stream",
     "name": "stdout",
     "text": [
      "SEXO \n 0    59.377524\n1    40.622476\nName: SEXO, dtype: float64\n\nTIPO_PACIENTE \n 1    100.0\nName: TIPO_PACIENTE, dtype: float64\n\nINTUBADO \n 0    86.919277\n1    13.080723\nName: INTUBADO, dtype: float64\n\nEDAD \n 60     2.518065\n61     2.486962\n63     2.479970\n65     2.466469\n59     2.465987\n         ...   \n115    0.000241\n110    0.000241\n109    0.000241\n106    0.000241\n118    0.000241\nName: EDAD, Length: 114, dtype: float64\n\nEMBARAZO \n 0    99.36084\n1     0.63916\nName: EMBARAZO, dtype: float64\n\nDIABETES \n 0    67.49035\n1    32.50965\nName: DIABETES, dtype: float64\n\nEPOC \n 0    96.521628\n1     3.478372\nName: EPOC, dtype: float64\n\nASMA \n 0    97.994276\n1     2.005724\nName: ASMA, dtype: float64\n\nINMUSUPR \n 0    97.947503\n1     2.052497\nName: INMUSUPR, dtype: float64\n\nHIPERTENSION \n 0    61.552983\n1    38.447017\nName: HIPERTENSION, dtype: float64\n\nCARDIOVASCULAR \n 0    95.841239\n1     4.158761\nName: CARDIOVASCULAR, dtype: float64\n\nOBESIDAD \n 0    78.660343\n1    21.339657\nName: OBESIDAD, dtype: float64\n\nRENAL_CRONICA \n 0    94.785215\n1     5.214785\nName: RENAL_CRONICA, dtype: float64\n\nTABAQUISMO \n 0    92.52754\n1     7.47246\nName: TABAQUISMO, dtype: float64\n\n(414763, 14)\n"
     ]
    }
   ],
   "source": [
    "df_caso6 = df.copy()\n",
    "\n",
    "conditions = ['EMBARAZO','RENAL_CRONICA', 'DIABETES', 'INMUSUPR', 'EPOC', 'OBESIDAD', 'HIPERTENSION', 'TABAQUISMO', 'CARDIOVASCULAR', 'ASMA','INTUBADO']\n",
    "for condition in conditions:\n",
    "    df_caso6 = df_caso6.loc[~((df_caso6[condition] == 97) | (df_caso6[condition] == 98) | (df_caso6[condition] == 99))]\n",
    "    df_caso6.loc[df_caso6[condition] == 2, [condition]] = 0 #0 es NO, 1 es SI\n",
    "\n",
    "final_caso6_columns = ['EDAD','EMBARAZO','RENAL_CRONICA','DIABETES','INMUSUPR','EPOC','OBESIDAD','HIPERTENSION','TABAQUISMO','CARDIOVASCULAR','ASMA','SEXO','INTUBADO','TIPO_PACIENTE']\n",
    "df_caso6 = df_caso6[df_caso6.columns.intersection(final_caso6_columns)]\n",
    "\n",
    "#print_values(final_caso6_columns, df_caso6)\n",
    "print_values(['TIPO_PACIENTE','INTUBADO'], df_caso6)\n",
    "print(df_caso6.shape)"
   ]
  },
  {
   "cell_type": "code",
   "execution_count": 43,
   "metadata": {},
   "outputs": [],
   "source": [
    "#CASO 7: necesidad de ventilador DESPUES de DIAGNOSTICO de neumonia e ICU (sin filtro)"
   ]
  },
  {
   "cell_type": "code",
   "execution_count": 44,
   "metadata": {},
   "outputs": [
    {
     "output_type": "stream",
     "name": "stdout",
     "text": [
      "SEXO \n 0    59.377464\n1    40.622536\nName: SEXO, dtype: float64\n\nTIPO_PACIENTE \n 1    100.0\nName: TIPO_PACIENTE, dtype: float64\n\nINTUBADO \n 0    86.920953\n1    13.079047\nName: INTUBADO, dtype: float64\n\nNEUMONIA \n 1    65.748936\n0    34.251064\nName: NEUMONIA, dtype: float64\n\nEDAD \n 60     2.518113\n61     2.487010\n63     2.480018\n65     2.466516\n59     2.466034\n         ...   \n115    0.000241\n110    0.000241\n109    0.000241\n106    0.000241\n118    0.000241\nName: EDAD, Length: 114, dtype: float64\n\nEMBARAZO \n 0    99.360827\n1     0.639173\nName: EMBARAZO, dtype: float64\n\nDIABETES \n 0    67.490446\n1    32.509554\nName: DIABETES, dtype: float64\n\nEPOC \n 0    96.521561\n1     3.478439\nName: EPOC, dtype: float64\n\nASMA \n 0    97.994238\n1     2.005762\nName: ASMA, dtype: float64\n\nINMUSUPR \n 0    97.947463\n1     2.052537\nName: INMUSUPR, dtype: float64\n\nHIPERTENSION \n 0    61.553447\n1    38.446553\nName: HIPERTENSION, dtype: float64\n\nCARDIOVASCULAR \n 0    95.841159\n1     4.158841\nName: CARDIOVASCULAR, dtype: float64\n\nOBESIDAD \n 0    78.660173\n1    21.339827\nName: OBESIDAD, dtype: float64\n\nRENAL_CRONICA \n 0    94.785114\n1     5.214886\nName: RENAL_CRONICA, dtype: float64\n\nTABAQUISMO \n 0    92.527637\n1     7.472363\nName: TABAQUISMO, dtype: float64\n\nUCI \n 0    92.057962\n1     7.942038\nName: UCI, dtype: float64\n\n(414755, 16)\n"
     ]
    }
   ],
   "source": [
    "df_caso7 = df.copy()\n",
    "\n",
    "conditions = ['EMBARAZO','RENAL_CRONICA', 'DIABETES', 'INMUSUPR', 'EPOC', 'OBESIDAD', 'HIPERTENSION', 'TABAQUISMO', 'CARDIOVASCULAR', 'ASMA','UCI','NEUMONIA','INTUBADO']\n",
    "for condition in conditions:\n",
    "    df_caso7 = df_caso7.loc[~((df_caso7[condition] == 97) | (df_caso7[condition] == 98) | (df_caso7[condition] == 99))]\n",
    "    df_caso7.loc[df_caso7[condition] == 2, [condition]] = 0 #0 es NO, 1 es SI\n",
    "\n",
    "final_caso7_columns = ['EDAD','EMBARAZO','RENAL_CRONICA','DIABETES','INMUSUPR','EPOC','OBESIDAD','HIPERTENSION','TABAQUISMO','CARDIOVASCULAR','ASMA','SEXO','UCI','NEUMONIA','INTUBADO','TIPO_PACIENTE']\n",
    "df_caso7 = df_caso7[df_caso7.columns.intersection(final_caso7_columns)]\n",
    "\n",
    "#print_values(final_caso7_columns, df_caso7)\n",
    "print_values(['TIPO_PACIENTE','UCI','NEUMONIA','INTUBADO'], df_caso7)\n",
    "print(df_caso7.shape)"
   ]
  },
  {
   "cell_type": "code",
   "execution_count": 45,
   "metadata": {},
   "outputs": [],
   "source": [
    "#CASO 7.1: necesidad de ventilador DESPUES de DIAGNOSTICO de neumonia e ICU (con filtro)"
   ]
  },
  {
   "cell_type": "code",
   "execution_count": 46,
   "metadata": {},
   "outputs": [
    {
     "output_type": "stream",
     "name": "stdout",
     "text": [
      "SEXO \n 0    63.825818\n1    36.174182\nName: SEXO, dtype: float64\n\nTIPO_PACIENTE \n 1    100.0\nName: TIPO_PACIENTE, dtype: float64\n\nINTUBADO \n 1    56.686732\n0    43.313268\nName: INTUBADO, dtype: float64\n\nNEUMONIA \n 1    100.0\nName: NEUMONIA, dtype: float64\n\nEDAD \n 60     2.935896\n61     2.685958\n58     2.650755\n55     2.573309\n62     2.562749\n         ...   \n5      0.014081\n7      0.014081\n99     0.010561\n103    0.003520\n116    0.003520\nName: EDAD, Length: 104, dtype: float64\n\nEMBARAZO \n 0    99.348752\n1     0.651248\nName: EMBARAZO, dtype: float64\n\nDIABETES \n 0    65.596508\n1    34.403492\nName: DIABETES, dtype: float64\n\nEPOC \n 0    96.634632\n1     3.365368\nName: EPOC, dtype: float64\n\nASMA \n 0    98.018094\n1     1.981906\nName: ASMA, dtype: float64\n\nINMUSUPR \n 0    97.644947\n1     2.355053\nName: INMUSUPR, dtype: float64\n\nHIPERTENSION \n 0    61.270109\n1    38.729891\nName: HIPERTENSION, dtype: float64\n\nCARDIOVASCULAR \n 0    95.237089\n1     4.762911\nName: CARDIOVASCULAR, dtype: float64\n\nOBESIDAD \n 0    72.28148\n1    27.71852\nName: OBESIDAD, dtype: float64\n\nRENAL_CRONICA \n 0    95.969303\n1     4.030697\nName: RENAL_CRONICA, dtype: float64\n\nTABAQUISMO \n 0    92.473686\n1     7.526314\nName: TABAQUISMO, dtype: float64\n\nUCI \n 1    100.0\nName: UCI, dtype: float64\n\n(28407, 16)\n"
     ]
    }
   ],
   "source": [
    "df_caso7 = df.copy()\n",
    "\n",
    "conditions = ['EMBARAZO','RENAL_CRONICA', 'DIABETES', 'INMUSUPR', 'EPOC', 'OBESIDAD', 'HIPERTENSION', 'TABAQUISMO', 'CARDIOVASCULAR', 'ASMA','UCI','NEUMONIA','INTUBADO']\n",
    "for condition in conditions:\n",
    "    df_caso7 = df_caso7.loc[~((df_caso7[condition] == 97) | (df_caso7[condition] == 98) | (df_caso7[condition] == 99))]\n",
    "    df_caso7.loc[df_caso7[condition] == 2, [condition]] = 0 #0 es NO, 1 es SI\n",
    "\n",
    "#elimina no neumonia e ICU\n",
    "df_caso7.drop(df_caso7[(df_caso7['NEUMONIA'] == 0)].index, inplace = True) \n",
    "df_caso7.drop(df_caso7[(df_caso7['UCI'] == 0)].index, inplace = True) \n",
    "\n",
    "final_caso7_columns = ['EDAD','EMBARAZO','RENAL_CRONICA','DIABETES','INMUSUPR','EPOC','OBESIDAD','HIPERTENSION','TABAQUISMO','CARDIOVASCULAR','ASMA','SEXO','UCI','NEUMONIA','INTUBADO','TIPO_PACIENTE']\n",
    "df_caso7 = df_caso7[df_caso7.columns.intersection(final_caso7_columns)]\n",
    "\n",
    "#print_values(final_caso7_columns, df_caso7)\n",
    "print_values(['TIPO_PACIENTE','UCI','NEUMONIA','INTUBADO'], df_caso7)\n",
    "print(df_caso7.shape)"
   ]
  },
  {
   "cell_type": "code",
   "execution_count": 47,
   "metadata": {},
   "outputs": [],
   "source": [
    "#CASO 7.2: necesidad de ventilador DESPUES de DIAGNOSTICO de neumonia e ICU (solo filtro UCI)"
   ]
  },
  {
   "cell_type": "code",
   "execution_count": 48,
   "metadata": {},
   "outputs": [
    {
     "output_type": "stream",
     "name": "stdout",
     "text": [
      "SEXO \n 0    62.920461\n1    37.079539\nName: SEXO, dtype: float64\n\nTIPO_PACIENTE \n 1    100.0\nName: TIPO_PACIENTE, dtype: float64\n\nINTUBADO \n 1    52.009715\n0    47.990285\nName: INTUBADO, dtype: float64\n\nNEUMONIA \n 1    86.238616\n0    13.761384\nName: NEUMONIA, dtype: float64\n\nEDAD \n 60     2.859745\n61     2.656345\n58     2.638130\n65     2.495446\n55     2.489375\n         ...   \n98     0.018215\n99     0.015179\n101    0.015179\n103    0.006072\n116    0.003036\nName: EDAD, Length: 104, dtype: float64\n\nEMBARAZO \n 0    99.110504\n1     0.889496\nName: EMBARAZO, dtype: float64\n\nDIABETES \n 0    66.472374\n1    33.527626\nName: DIABETES, dtype: float64\n\nEPOC \n 0    96.760777\n1     3.239223\nName: EPOC, dtype: float64\n\nASMA \n 0    97.996357\n1     2.003643\nName: ASMA, dtype: float64\n\nINMUSUPR \n 0    97.641166\n1     2.358834\nName: INMUSUPR, dtype: float64\n\nHIPERTENSION \n 0    62.100789\n1    37.899211\nName: HIPERTENSION, dtype: float64\n\nCARDIOVASCULAR \n 0    95.270188\n1     4.729812\nName: CARDIOVASCULAR, dtype: float64\n\nOBESIDAD \n 0    73.266545\n1    26.733455\nName: OBESIDAD, dtype: float64\n\nRENAL_CRONICA \n 0    96.029144\n1     3.970856\nName: RENAL_CRONICA, dtype: float64\n\nTABAQUISMO \n 0    92.738312\n1     7.261688\nName: TABAQUISMO, dtype: float64\n\nUCI \n 1    100.0\nName: UCI, dtype: float64\n\n(32940, 16)\n"
     ]
    }
   ],
   "source": [
    "df_caso7 = df.copy()\n",
    "\n",
    "conditions = ['EMBARAZO','RENAL_CRONICA', 'DIABETES', 'INMUSUPR', 'EPOC', 'OBESIDAD', 'HIPERTENSION', 'TABAQUISMO', 'CARDIOVASCULAR', 'ASMA','UCI','NEUMONIA','INTUBADO']\n",
    "for condition in conditions:\n",
    "    df_caso7 = df_caso7.loc[~((df_caso7[condition] == 97) | (df_caso7[condition] == 98) | (df_caso7[condition] == 99))]\n",
    "    df_caso7.loc[df_caso7[condition] == 2, [condition]] = 0 #0 es NO, 1 es SI\n",
    "\n",
    "#elimina no ICU\n",
    "df_caso7.drop(df_caso7[(df_caso7['UCI'] == 0)].index, inplace = True) \n",
    "\n",
    "final_caso7_columns = ['EDAD','EMBARAZO','RENAL_CRONICA','DIABETES','INMUSUPR','EPOC','OBESIDAD','HIPERTENSION','TABAQUISMO','CARDIOVASCULAR','ASMA','SEXO','UCI','NEUMONIA','INTUBADO','TIPO_PACIENTE']\n",
    "df_caso7 = df_caso7[df_caso7.columns.intersection(final_caso7_columns)]\n",
    "\n",
    "#print_values(final_caso7_columns, df_caso7)\n",
    "print_values(['TIPO_PACIENTE','UCI','NEUMONIA','INTUBADO'], df_caso7)\n",
    "print(df_caso7.shape)"
   ]
  },
  {
   "cell_type": "code",
   "execution_count": 49,
   "metadata": {},
   "outputs": [],
   "source": [
    "#CASO 7.3: necesidad de ventilador DESPUES de DIAGNOSTICO de neumonia e ICU (solo filtro neumonia)"
   ]
  },
  {
   "cell_type": "code",
   "execution_count": 50,
   "metadata": {},
   "outputs": [
    {
     "output_type": "stream",
     "name": "stdout",
     "text": [
      "SEXO \n 0    60.451343\n1    39.548657\nName: SEXO, dtype: float64\n\nTIPO_PACIENTE \n 1    100.0\nName: TIPO_PACIENTE, dtype: float64\n\nINTUBADO \n 0    83.220571\n1    16.779429\nName: INTUBADO, dtype: float64\n\nNEUMONIA \n 1    100.0\nName: NEUMONIA, dtype: float64\n\nEDAD \n 60     2.625625\n63     2.599955\n65     2.581987\n61     2.569152\n59     2.540182\n         ...   \n117    0.000367\n116    0.000367\n110    0.000367\n108    0.000367\n118    0.000367\nName: EDAD, Length: 110, dtype: float64\n\nEMBARAZO \n 0    99.661529\n1     0.338471\nName: EMBARAZO, dtype: float64\n\nDIABETES \n 0    66.237986\n1    33.762014\nName: DIABETES, dtype: float64\n\nEPOC \n 0    96.445139\n1     3.554861\nName: EPOC, dtype: float64\n\nASMA \n 0    98.098622\n1     1.901378\nName: ASMA, dtype: float64\n\nINMUSUPR \n 0    97.976509\n1     2.023491\nName: INMUSUPR, dtype: float64\n\nHIPERTENSION \n 0    60.509283\n1    39.490717\nName: HIPERTENSION, dtype: float64\n\nCARDIOVASCULAR \n 0    95.788733\n1     4.211267\nName: CARDIOVASCULAR, dtype: float64\n\nOBESIDAD \n 0    77.417427\n1    22.582573\nName: OBESIDAD, dtype: float64\n\nRENAL_CRONICA \n 0    94.916336\n1     5.083664\nName: RENAL_CRONICA, dtype: float64\n\nTABAQUISMO \n 0    92.356352\n1     7.643648\nName: TABAQUISMO, dtype: float64\n\nUCI \n 0    89.582944\n1    10.417056\nName: UCI, dtype: float64\n\n(272697, 16)\n"
     ]
    }
   ],
   "source": [
    "df_caso7 = df.copy()\n",
    "\n",
    "conditions = ['EMBARAZO','RENAL_CRONICA', 'DIABETES', 'INMUSUPR', 'EPOC', 'OBESIDAD', 'HIPERTENSION', 'TABAQUISMO', 'CARDIOVASCULAR', 'ASMA','UCI','NEUMONIA','INTUBADO']\n",
    "for condition in conditions:\n",
    "    df_caso7 = df_caso7.loc[~((df_caso7[condition] == 97) | (df_caso7[condition] == 98) | (df_caso7[condition] == 99))]\n",
    "    df_caso7.loc[df_caso7[condition] == 2, [condition]] = 0 #0 es NO, 1 es SI\n",
    "\n",
    "#elimina no neumonia\n",
    "df_caso7.drop(df_caso7[(df_caso7['NEUMONIA'] == 0)].index, inplace = True) \n",
    "\n",
    "final_caso7_columns = ['EDAD','EMBARAZO','RENAL_CRONICA','DIABETES','INMUSUPR','EPOC','OBESIDAD','HIPERTENSION','TABAQUISMO','CARDIOVASCULAR','ASMA','SEXO','UCI','NEUMONIA','INTUBADO','TIPO_PACIENTE']\n",
    "df_caso7 = df_caso7[df_caso7.columns.intersection(final_caso7_columns)]\n",
    "\n",
    "#print_values(final_caso7_columns, df_caso7)\n",
    "print_values(['TIPO_PACIENTE','UCI','NEUMONIA','INTUBADO'], df_caso7)\n",
    "print(df_caso7.shape)"
   ]
  },
  {
   "cell_type": "code",
   "execution_count": null,
   "metadata": {},
   "outputs": [],
   "source": []
  },
  {
   "cell_type": "code",
   "execution_count": null,
   "metadata": {},
   "outputs": [],
   "source": []
  },
  {
   "cell_type": "code",
   "execution_count": null,
   "metadata": {},
   "outputs": [],
   "source": []
  },
  {
   "cell_type": "code",
   "execution_count": null,
   "metadata": {},
   "outputs": [],
   "source": []
  }
 ]
}