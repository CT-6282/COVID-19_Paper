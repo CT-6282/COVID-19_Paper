{
 "metadata": {
  "language_info": {
   "codemirror_mode": {
    "name": "ipython",
    "version": 3
   },
   "file_extension": ".py",
   "mimetype": "text/x-python",
   "name": "python",
   "nbconvert_exporter": "python",
   "pygments_lexer": "ipython3",
   "version": "3.6.10"
  },
  "orig_nbformat": 2,
  "kernelspec": {
   "name": "python3",
   "display_name": "Python 3.6.10 64-bit ('fastai-cpu': conda)",
   "metadata": {
    "interpreter": {
     "hash": "5d4efff26d710c6207dbf670a5de63bda4eb20ff08d40a14d5fc6cf436dfd714"
    }
   }
  }
 },
 "nbformat": 4,
 "nbformat_minor": 2,
 "cells": [
  {
   "cell_type": "code",
   "execution_count": 1,
   "metadata": {},
   "outputs": [],
   "source": [
    "from io import BytesIO\n",
    "from zipfile import ZipFile\n",
    "import pandas as pd\n",
    "import numpy as np\n",
    "import os\n",
    "import datetime"
   ]
  },
  {
   "cell_type": "code",
   "execution_count": 2,
   "metadata": {},
   "outputs": [],
   "source": [
    "path = \"/home/nacho/Documents/coronavirus/COVID-19_Paper/\"\n",
    "os.chdir(os.path.join(path)) "
   ]
  },
  {
   "cell_type": "code",
   "execution_count": 3,
   "metadata": {},
   "outputs": [],
   "source": [
    "df = pd.read_csv(\"datos_abiertos_covid19.zip\")"
   ]
  },
  {
   "cell_type": "code",
   "execution_count": 13,
   "metadata": {},
   "outputs": [
    {
     "output_type": "execute_result",
     "data": {
      "text/plain": [
       "['FECHA_ACTUALIZACION',\n",
       " 'ID_REGISTRO',\n",
       " 'ORIGEN',\n",
       " 'SECTOR',\n",
       " 'ENTIDAD_UM',\n",
       " 'SEXO',\n",
       " 'ENTIDAD_NAC',\n",
       " 'ENTIDAD_RES',\n",
       " 'MUNICIPIO_RES',\n",
       " 'TIPO_PACIENTE',\n",
       " 'FECHA_INGRESO',\n",
       " 'FECHA_SINTOMAS',\n",
       " 'FECHA_DEF',\n",
       " 'INTUBADO',\n",
       " 'NEUMONIA',\n",
       " 'EDAD',\n",
       " 'NACIONALIDAD',\n",
       " 'EMBARAZO',\n",
       " 'HABLA_LENGUA_INDIG',\n",
       " 'INDIGENA',\n",
       " 'DIABETES',\n",
       " 'EPOC',\n",
       " 'ASMA',\n",
       " 'INMUSUPR',\n",
       " 'HIPERTENSION',\n",
       " 'OTRA_COM',\n",
       " 'CARDIOVASCULAR',\n",
       " 'OBESIDAD',\n",
       " 'RENAL_CRONICA',\n",
       " 'TABAQUISMO',\n",
       " 'OTRO_CASO',\n",
       " 'TOMA_MUESTRA_LAB',\n",
       " 'RESULTADO_LAB',\n",
       " 'TOMA_MUESTRA_ANTIGENO',\n",
       " 'RESULTADO_ANTIGENO',\n",
       " 'CLASIFICACION_FINAL',\n",
       " 'MIGRANTE',\n",
       " 'PAIS_NACIONALIDAD',\n",
       " 'PAIS_ORIGEN',\n",
       " 'UCI']"
      ]
     },
     "metadata": {},
     "execution_count": 13
    }
   ],
   "source": [
    "list(df)"
   ]
  },
  {
   "cell_type": "code",
   "execution_count": 4,
   "metadata": {},
   "outputs": [],
   "source": [
    "def filter_exclude_columns(df):\n",
    "    df.drop(['FECHA_ACTUALIZACION', 'ID_REGISTRO', 'ORIGEN', 'MIGRANTE', 'PAIS_ORIGEN', 'PAIS_NACIONALIDAD','MUNICIPIO_RES','ENTIDAD_NAC', 'NACIONALIDAD','HABLA_LENGUA_INDIG', 'INDIGENA', 'TOMA_MUESTRA_LAB', 'RESULTADO_LAB', 'TOMA_MUESTRA_ANTIGENO', 'RESULTADO_ANTIGENO'], axis=1, inplace = True) #Se eliminan las columnas innecesarias\n",
    "    return df\n",
    "\n",
    "\n",
    "def date_preprocessing(df):\n",
    "    #convierte a tipo fecha fecha_sintoma \n",
    "    df['FECHA_SINTOMAS'] = pd.to_datetime(df['FECHA_SINTOMAS'])\n",
    "    #restar columna FECHA_INGRESO menos FECHA_SINTOMAS y guardar en columna dias_dif\n",
    "    df['FECHA_INGRESO'] = pd.to_datetime(df['FECHA_INGRESO'])\n",
    "    df['DIAS_DIF_HOSP'] = (df['FECHA_INGRESO'] - df['FECHA_SINTOMAS'])\n",
    "    df.DIAS_DIF_HOSP = df.DIAS_DIF_HOSP.dt.days\n",
    "    #eliminar todos los dias negativos\n",
    "    df.drop(df[df['DIAS_DIF_HOSP'] < 0].index, inplace = True)\n",
    "    #verificacion\n",
    "    df['DIAS_DIF_HOSP'][df['DIAS_DIF_HOSP'] < 0]\n",
    "    #df['DIAS_DIF_HOSP'].astype(int)\n",
    "    return df\n",
    "\n",
    "def filter_negative_dates(df):\n",
    "    #hace una copia ed fecha_def a dias_dif_def\n",
    "    df['BOOL_DEF'] = df[\"FECHA_DEF\"].copy()\n",
    "    #CREAR COLUMNA DE NUMERO DE DIAS DE SINTOMAS A FALLECIMIENTO\n",
    "    #crea columna dias desde sintomas a fallecido\n",
    "    #remplazar en fecha_def 9999 con nan\n",
    "    df[\"FECHA_DEF\"] = df['FECHA_DEF'].replace(['9999-99-99'], np.nan)\n",
    "    #convertir fecha_def a tipo de dato fecha\n",
    "    df['FECHA_DEF'] = pd.to_datetime(df['FECHA_DEF'])\n",
    "    #restar defcha def menos fecha_sintomas\n",
    "    df['DIAS_DIF_DEF'] = (df['FECHA_DEF'] - df['FECHA_SINTOMAS'])\n",
    "    df.DIAS_DIF_DEF = df.DIAS_DIF_DEF.dt.days\n",
    "    df['DIAS_DIF_DEF'] = df['DIAS_DIF_DEF'].replace([np.nan], 0)\n",
    "    df['DIAS_DIF_DEF'] = df['DIAS_DIF_DEF'].astype(int)\n",
    "    #validar si hay dias negativos y eliminarlos\n",
    "    df.drop(df[df['DIAS_DIF_DEF'] < 0].index, inplace = True)\n",
    "    #verificacion\n",
    "    df['DIAS_DIF_DEF'][df['DIAS_DIF_DEF'] < 0]\n",
    "    return df\n",
    "\n",
    "def filter_binary_status(df):\n",
    "    #columna defuncion cambia a 0 a los no fallecidos\n",
    "    df['BOOL_DEF'] = df['BOOL_DEF'].replace(['9999-99-99'], 0)\n",
    "    #columna defuncion cambia a 1 los fallecidos\n",
    "    df.loc[df[\"BOOL_DEF\"] != 0, [\"BOOL_DEF\"]] = 1\n",
    "    return df\n",
    "    \n",
    "def confirmed_covid(df):\n",
    "    df['RESULTADO'] = df['CLASIFICACION_FINAL'].copy()\n",
    "    df.drop(df['CLASIFICACION_FINAL'])\n",
    "    dictionary = ['RESULTADO']\n",
    "    for condition in dictionary:\n",
    "        df.loc[df[condition] != 3, [condition]] = 0\n",
    "    df.loc[df[condition] == 3, [condition]] = 1\n",
    "    return df\n",
    "\n",
    "def preprocessing(df_prediction):\n",
    "    df_prediction = df_prediction[df_prediction['RESULTADO'] == 1] #filtrar solo gente positiva covid\n",
    "    df_prediction.loc[df_prediction['SEXO'] == 2, ['SEXO']] = 0 #Hombre es 1, Mujer es 0\n",
    "    df_prediction.loc[df_prediction['EMBARAZO'] == 97, ['EMBARAZO']] = 2\n",
    "    df_prediction.loc[df_prediction['EMBARAZO'] == 98, ['EMBARAZO']] = 2\n",
    "    df_prediction.loc[df_prediction['EMBARAZO'] == 99, ['EMBARAZO']] = 2\n",
    "    #eliminar los hombres embarazados\n",
    "    df_prediction.drop(df_prediction[(df_prediction['SEXO'] ==0) & (df_prediction['EMBARAZO'] ==1)].index, inplace = True)\n",
    "    #filtra tipo paciente en 0:No hosp, 1:Si hosp\n",
    "    df_prediction.loc[df_prediction['TIPO_PACIENTE'] == 1, ['TIPO_PACIENTE']] = 0\n",
    "    df_prediction.loc[df_prediction['TIPO_PACIENTE'] == 2, ['TIPO_PACIENTE']] = 1\n",
    "    return df_prediction"
   ]
  },
  {
   "cell_type": "code",
   "execution_count": 5,
   "metadata": {},
   "outputs": [],
   "source": [
    "def print_values(conditions, df):\n",
    "    for i in df[conditions]:\n",
    "        #x = df[i].value_counts()\n",
    "        x = (df[i].value_counts()/df[i].count())*100\n",
    "        print(i,\"\\n\",x)\n",
    "        print()"
   ]
  },
  {
   "cell_type": "code",
   "execution_count": 6,
   "metadata": {},
   "outputs": [],
   "source": [
    "#preprocessing\n",
    "df = filter_exclude_columns(df)\n",
    "df = date_preprocessing(df)\n",
    "df = filter_negative_dates(df)\n",
    "df = filter_binary_status(df)\n",
    "df = confirmed_covid(df)\n",
    "df = preprocessing(df)"
   ]
  },
  {
   "cell_type": "code",
   "execution_count": 19,
   "metadata": {},
   "outputs": [
    {
     "output_type": "execute_result",
     "data": {
      "text/plain": [
       "['SECTOR',\n",
       " 'ENTIDAD_UM',\n",
       " 'SEXO',\n",
       " 'ENTIDAD_RES',\n",
       " 'TIPO_PACIENTE',\n",
       " 'FECHA_INGRESO',\n",
       " 'FECHA_SINTOMAS',\n",
       " 'FECHA_DEF',\n",
       " 'INTUBADO',\n",
       " 'NEUMONIA',\n",
       " 'EDAD',\n",
       " 'EMBARAZO',\n",
       " 'DIABETES',\n",
       " 'EPOC',\n",
       " 'ASMA',\n",
       " 'INMUSUPR',\n",
       " 'HIPERTENSION',\n",
       " 'OTRA_COM',\n",
       " 'CARDIOVASCULAR',\n",
       " 'OBESIDAD',\n",
       " 'RENAL_CRONICA',\n",
       " 'TABAQUISMO',\n",
       " 'OTRO_CASO',\n",
       " 'CLASIFICACION_FINAL',\n",
       " 'UCI',\n",
       " 'DIAS_DIF_HOSP',\n",
       " 'BOOL_DEF',\n",
       " 'DIAS_DIF_DEF',\n",
       " 'RESULTADO']"
      ]
     },
     "metadata": {},
     "execution_count": 19
    }
   ],
   "source": [
    "list(df)"
   ]
  },
  {
   "cell_type": "code",
   "execution_count": 21,
   "metadata": {},
   "outputs": [
    {
     "output_type": "stream",
     "name": "stdout",
     "text": [
      "Numero de casos positivos de COVID:  2039782\n",
      "Numero de hospitalizados por COVID:  386122\n",
      "Numero de intubados por COVID:  50199\n",
      "Numero de fallecidos por COVID:  183922\n",
      "Numero de UCI por COVID:  30282\n"
     ]
    }
   ],
   "source": [
    "print(\"Numero de casos positivos de COVID: \", len(df))\n",
    "print(\"Numero de hospitalizados por COVID: \", df.TIPO_PACIENTE.value_counts()[1])\n",
    "print(\"Numero de intubados por COVID: \", df.INTUBADO.value_counts()[1])\n",
    "print(\"Numero de fallecidos por COVID: \", df.BOOL_DEF.value_counts()[1])\n",
    "print(\"Numero de UCI por COVID: \", df.UCI.value_counts()[1])"
   ]
  },
  {
   "cell_type": "code",
   "execution_count": 38,
   "metadata": {},
   "outputs": [],
   "source": [
    "#CASO 1: si el paciente contagiado de CoV-2 necesitará hospitalización"
   ]
  },
  {
   "cell_type": "code",
   "execution_count": 81,
   "metadata": {},
   "outputs": [
    {
     "output_type": "stream",
     "name": "stdout",
     "text": [
      "TIPO_PACIENTE \n 0    81.110739\n1    18.889261\nName: TIPO_PACIENTE, dtype: float64\n\n(2031890, 13)\n"
     ]
    }
   ],
   "source": [
    "df_caso1 = df.copy()\n",
    "df_caso1.drop(df_caso1[(df_caso1['TIPO_PACIENTE'] == 99)].index, inplace = True)\n",
    "\n",
    "conditions = ['EMBARAZO','RENAL_CRONICA', 'DIABETES', 'INMUSUPR', 'EPOC', 'OBESIDAD', 'HIPERTENSION', 'TABAQUISMO', 'CARDIOVASCULAR', 'ASMA']\n",
    "for condition in conditions:\n",
    "    df_caso1 = df_caso1.loc[~((df_caso1[condition] == 97) | (df_caso1[condition] == 98) | (df_caso1[condition] == 99))]\n",
    "    df_caso1.loc[df_caso1[condition] == 2, [condition]] = 0 #0 es NO, 1 es SI\n",
    "\n",
    "final_caso1_columns = ['EDAD','EMBARAZO','RENAL_CRONICA','DIABETES','INMUSUPR','EPOC','OBESIDAD','HIPERTENSION','TABAQUISMO','CARDIOVASCULAR','ASMA','SEXO','TIPO_PACIENTE']\n",
    "df_caso1 = df_caso1[df_caso1.columns.intersection(final_caso1_columns)]\n",
    "\n",
    "#print_values(final_caso1_columns, df_caso1)\n",
    "print_values(['TIPO_PACIENTE'], df_caso1)\n",
    "print(df_caso1.shape)"
   ]
  },
  {
   "cell_type": "code",
   "execution_count": 35,
   "metadata": {},
   "outputs": [],
   "source": [
    "#CASO 2: predecir en base a los descriptores la mortalidad antes del hospital (con filtro)"
   ]
  },
  {
   "cell_type": "code",
   "execution_count": 82,
   "metadata": {},
   "outputs": [
    {
     "output_type": "stream",
     "name": "stdout",
     "text": [
      "TIPO_PACIENTE \n",
      " 0    100.0\n",
      "Name: TIPO_PACIENTE, dtype: float64\n",
      "\n",
      "BOOL_DEF \n",
      " 0    98.965039\n",
      "1     1.034961\n",
      "Name: BOOL_DEF, dtype: float64\n",
      "\n",
      "(1648081, 14)\n"
     ]
    }
   ],
   "source": [
    "df_caso2 = df.copy()\n",
    "df_caso2.drop(df_caso2[(df_caso2['TIPO_PACIENTE'] == 99)].index, inplace = True)\n",
    "#elimina TIPO_PACIENTE = 1 (gente hospitalizada)\n",
    "df_caso2.drop(df_caso2[(df_caso2['TIPO_PACIENTE'] == 1)].index, inplace = True) #revisar si mejora el rendimiento\n",
    "\n",
    "conditions = ['EMBARAZO','RENAL_CRONICA', 'DIABETES', 'INMUSUPR', 'EPOC', 'OBESIDAD', 'HIPERTENSION', 'TABAQUISMO', 'CARDIOVASCULAR', 'ASMA']\n",
    "for condition in conditions:\n",
    "    df_caso2 = df_caso2.loc[~((df_caso2[condition] == 97) | (df_caso2[condition] == 98) | (df_caso2[condition] == 99))]\n",
    "    df_caso2.loc[df_caso2[condition] == 2, [condition]] = 0 #0 es NO, 1 es SI\n",
    "\n",
    "final_caso2_columns = ['EDAD','EMBARAZO','RENAL_CRONICA','DIABETES','INMUSUPR','EPOC','OBESIDAD','HIPERTENSION','TABAQUISMO','CARDIOVASCULAR','ASMA','SEXO','BOOL_DEF','TIPO_PACIENTE']\n",
    "df_caso2 = df_caso2[df_caso2.columns.intersection(final_caso2_columns)]\n",
    "\n",
    "#print_values(final_caso2_columns, df_caso2)\n",
    "print_values(['TIPO_PACIENTE','BOOL_DEF'], df_caso2)\n",
    "print(df_caso2.shape)"
   ]
  },
  {
   "cell_type": "code",
   "execution_count": 65,
   "metadata": {},
   "outputs": [],
   "source": [
    "#CASO 2.1: predecir en base a los descriptores la mortalidad (sin filtro)"
   ]
  },
  {
   "cell_type": "code",
   "execution_count": 83,
   "metadata": {},
   "outputs": [
    {
     "output_type": "stream",
     "name": "stdout",
     "text": [
      "TIPO_PACIENTE \n",
      " 0    81.110739\n",
      "1    18.889261\n",
      "Name: TIPO_PACIENTE, dtype: float64\n",
      "\n",
      "BOOL_DEF \n",
      " 0    91.01659\n",
      "1     8.98341\n",
      "Name: BOOL_DEF, dtype: float64\n",
      "\n",
      "(2031890, 14)\n"
     ]
    }
   ],
   "source": [
    "df_caso2 = df.copy()\n",
    "df_caso2.drop(df_caso2[(df_caso2['TIPO_PACIENTE'] == 99)].index, inplace = True)\n",
    "\n",
    "conditions = ['EMBARAZO','RENAL_CRONICA', 'DIABETES', 'INMUSUPR', 'EPOC', 'OBESIDAD', 'HIPERTENSION', 'TABAQUISMO', 'CARDIOVASCULAR', 'ASMA']\n",
    "for condition in conditions:\n",
    "    df_caso2 = df_caso2.loc[~((df_caso2[condition] == 97) | (df_caso2[condition] == 98) | (df_caso2[condition] == 99))]\n",
    "    df_caso2.loc[df_caso2[condition] == 2, [condition]] = 0 #0 es NO, 1 es SI\n",
    "\n",
    "final_caso2_columns = ['EDAD','EMBARAZO','RENAL_CRONICA','DIABETES','INMUSUPR','EPOC','OBESIDAD','HIPERTENSION','TABAQUISMO','CARDIOVASCULAR','ASMA','SEXO','BOOL_DEF','TIPO_PACIENTE']\n",
    "df_caso2 = df_caso2[df_caso2.columns.intersection(final_caso2_columns)]\n",
    "\n",
    "#print_values(final_caso2_columns, df_caso2)\n",
    "print_values(['TIPO_PACIENTE','BOOL_DEF'], df_caso2)\n",
    "print(df_caso2.shape)"
   ]
  },
  {
   "cell_type": "code",
   "execution_count": null,
   "metadata": {},
   "outputs": [],
   "source": [
    "#CASO 3: Mortalidad de los contagiagos DESPUES de INTUBADO,UCI (sin filtro)"
   ]
  },
  {
   "cell_type": "code",
   "execution_count": 85,
   "metadata": {},
   "outputs": [
    {
     "output_type": "stream",
     "name": "stdout",
     "text": [
      "INTUBADO \n 0    87.022366\n1    12.977634\nName: INTUBADO, dtype: float64\n\nUCI \n 0    92.203439\n1     7.796561\nName: UCI, dtype: float64\n\nTIPO_PACIENTE \n 1    100.0\nName: TIPO_PACIENTE, dtype: float64\n\nBOOL_DEF \n 0    57.002508\n1    42.997492\nName: BOOL_DEF, dtype: float64\n\n(382720, 16)\n"
     ]
    }
   ],
   "source": [
    "df_caso3 = df.copy()\n",
    "df_caso3.drop(df_caso3[(df_caso3['TIPO_PACIENTE'] == 99)].index, inplace = True)\n",
    "\n",
    "conditions = ['EMBARAZO','RENAL_CRONICA', 'DIABETES', 'INMUSUPR', 'EPOC', 'OBESIDAD', 'HIPERTENSION', 'TABAQUISMO', 'CARDIOVASCULAR', 'ASMA','INTUBADO','UCI']\n",
    "for condition in conditions:\n",
    "    df_caso3 = df_caso3.loc[~((df_caso3[condition] == 97) | (df_caso3[condition] == 98) | (df_caso3[condition] == 99))]\n",
    "    df_caso3.loc[df_caso3[condition] == 2, [condition]] = 0 #0 es NO, 1 es SI\n",
    "\n",
    "final_caso3_columns = ['EDAD','EMBARAZO','RENAL_CRONICA','DIABETES','INMUSUPR','EPOC','OBESIDAD','HIPERTENSION','TABAQUISMO','CARDIOVASCULAR','ASMA','SEXO','INTUBADO','UCI','BOOL_DEF','TIPO_PACIENTE']\n",
    "df_caso3 = df_caso3[df_caso3.columns.intersection(final_caso3_columns)]\n",
    "\n",
    "#print_values(final_caso3_columns, df_caso3)\n",
    "print_values(['INTUBADO','UCI','TIPO_PACIENTE','BOOL_DEF'], df_caso3)\n",
    "print(df_caso3.shape)"
   ]
  },
  {
   "cell_type": "code",
   "execution_count": null,
   "metadata": {},
   "outputs": [],
   "source": [
    "#CASO 3.1: Mortalidad de los contagiagos DESPUES de INTUBADO,UCI (con filtro)"
   ]
  },
  {
   "cell_type": "code",
   "execution_count": 86,
   "metadata": {},
   "outputs": [
    {
     "output_type": "stream",
     "name": "stdout",
     "text": [
      "INTUBADO \n 1    100.0\nName: INTUBADO, dtype: float64\n\nUCI \n 1    100.0\nName: UCI, dtype: float64\n\nTIPO_PACIENTE \n 1    100.0\nName: TIPO_PACIENTE, dtype: float64\n\nBOOL_DEF \n 1    75.649795\n0    24.350205\nName: BOOL_DEF, dtype: float64\n\n(15351, 16)\n"
     ]
    }
   ],
   "source": [
    "df_caso3 = df.copy()\n",
    "df_caso3.drop(df_caso3[(df_caso3['TIPO_PACIENTE'] == 99)].index, inplace = True)\n",
    "    \n",
    "conditions = ['EMBARAZO','RENAL_CRONICA', 'DIABETES', 'INMUSUPR', 'EPOC', 'OBESIDAD', 'HIPERTENSION', 'TABAQUISMO', 'CARDIOVASCULAR', 'ASMA','INTUBADO','UCI']\n",
    "for condition in conditions:\n",
    "    df_caso3 = df_caso3.loc[~((df_caso3[condition] == 97) | (df_caso3[condition] == 98) | (df_caso3[condition] == 99))]\n",
    "    df_caso3.loc[df_caso3[condition] == 2, [condition]] = 0 #0 es NO, 1 es SI\n",
    "\n",
    "#elimina no intubado y uci\n",
    "df_caso3.drop(df_caso3[(df_caso3['INTUBADO'] == 0)].index, inplace = True) \n",
    "df_caso3.drop(df_caso3[(df_caso3['UCI'] == 0)].index, inplace = True) \n",
    "\n",
    "final_caso3_columns = ['EDAD','EMBARAZO','RENAL_CRONICA','DIABETES','INMUSUPR','EPOC','OBESIDAD','HIPERTENSION','TABAQUISMO','CARDIOVASCULAR','ASMA','SEXO','INTUBADO','UCI','BOOL_DEF','TIPO_PACIENTE']\n",
    "df_caso3 = df_caso3[df_caso3.columns.intersection(final_caso3_columns)]\n",
    "\n",
    "#print_values(final_caso3_columns, df_caso3)\n",
    "print_values(['INTUBADO','UCI','TIPO_PACIENTE','BOOL_DEF'], df_caso3)\n",
    "print(df_caso3.shape)"
   ]
  },
  {
   "cell_type": "code",
   "execution_count": null,
   "metadata": {},
   "outputs": [],
   "source": [
    "#CASO 3.2: Mortalidad de los contagiagos DESPUES de INTUBADO,UCI (filtro solo INTUBADO)"
   ]
  },
  {
   "cell_type": "code",
   "execution_count": 87,
   "metadata": {},
   "outputs": [
    {
     "output_type": "stream",
     "name": "stdout",
     "text": [
      "INTUBADO \n 1    100.0\nName: INTUBADO, dtype: float64\n\nUCI \n 0    69.092776\n1    30.907224\nName: UCI, dtype: float64\n\nTIPO_PACIENTE \n 1    100.0\nName: TIPO_PACIENTE, dtype: float64\n\nBOOL_DEF \n 1    82.395103\n0    17.604897\nName: BOOL_DEF, dtype: float64\n\n(49668, 16)\n"
     ]
    }
   ],
   "source": [
    "df_caso3 = df.copy()\n",
    "df_caso3.drop(df_caso3[(df_caso3['TIPO_PACIENTE'] == 99)].index, inplace = True)\n",
    "    \n",
    "conditions = ['EMBARAZO','RENAL_CRONICA', 'DIABETES', 'INMUSUPR', 'EPOC', 'OBESIDAD', 'HIPERTENSION', 'TABAQUISMO', 'CARDIOVASCULAR', 'ASMA','INTUBADO','UCI']\n",
    "for condition in conditions:\n",
    "    df_caso3 = df_caso3.loc[~((df_caso3[condition] == 97) | (df_caso3[condition] == 98) | (df_caso3[condition] == 99))]\n",
    "    df_caso3.loc[df_caso3[condition] == 2, [condition]] = 0 #0 es NO, 1 es SI\n",
    "\n",
    "#elimina no intubado\n",
    "df_caso3.drop(df_caso3[(df_caso3['INTUBADO'] == 0)].index, inplace = True) \n",
    "\n",
    "final_caso3_columns = ['EDAD','EMBARAZO','RENAL_CRONICA','DIABETES','INMUSUPR','EPOC','OBESIDAD','HIPERTENSION','TABAQUISMO','CARDIOVASCULAR','ASMA','SEXO','INTUBADO','UCI','BOOL_DEF','TIPO_PACIENTE']\n",
    "df_caso3 = df_caso3[df_caso3.columns.intersection(final_caso3_columns)]\n",
    "\n",
    "#print_values(final_caso3_columns, df_caso3)\n",
    "print_values(['INTUBADO','UCI','TIPO_PACIENTE','BOOL_DEF'], df_caso3)\n",
    "print(df_caso3.shape)"
   ]
  },
  {
   "cell_type": "code",
   "execution_count": null,
   "metadata": {},
   "outputs": [],
   "source": [
    "#CASO 3.3: Mortalidad de los contagiagos DESPUES de INTUBADO,UCI (filtro solo UCI)"
   ]
  },
  {
   "cell_type": "code",
   "execution_count": 88,
   "metadata": {},
   "outputs": [
    {
     "output_type": "stream",
     "name": "stdout",
     "text": [
      "INTUBADO \n 1    51.446094\n0    48.553906\nName: INTUBADO, dtype: float64\n\nUCI \n 1    100.0\nName: UCI, dtype: float64\n\nTIPO_PACIENTE \n 1    100.0\nName: TIPO_PACIENTE, dtype: float64\n\nBOOL_DEF \n 1    54.61309\n0    45.38691\nName: BOOL_DEF, dtype: float64\n\n(29839, 16)\n"
     ]
    }
   ],
   "source": [
    "df_caso3 = df.copy()\n",
    "df_caso3.drop(df_caso3[(df_caso3['TIPO_PACIENTE'] == 99)].index, inplace = True)\n",
    "    \n",
    "conditions = ['EMBARAZO','RENAL_CRONICA', 'DIABETES', 'INMUSUPR', 'EPOC', 'OBESIDAD', 'HIPERTENSION', 'TABAQUISMO', 'CARDIOVASCULAR', 'ASMA','INTUBADO','UCI']\n",
    "for condition in conditions:\n",
    "    df_caso3 = df_caso3.loc[~((df_caso3[condition] == 97) | (df_caso3[condition] == 98) | (df_caso3[condition] == 99))]\n",
    "    df_caso3.loc[df_caso3[condition] == 2, [condition]] = 0 #0 es NO, 1 es SI\n",
    "\n",
    "#elimina no uci\n",
    "df_caso3.drop(df_caso3[(df_caso3['UCI'] == 0)].index, inplace = True) \n",
    "\n",
    "final_caso3_columns = ['EDAD','EMBARAZO','RENAL_CRONICA','DIABETES','INMUSUPR','EPOC','OBESIDAD','HIPERTENSION','TABAQUISMO','CARDIOVASCULAR','ASMA','SEXO','INTUBADO','UCI','BOOL_DEF','TIPO_PACIENTE']\n",
    "df_caso3 = df_caso3[df_caso3.columns.intersection(final_caso3_columns)]\n",
    "\n",
    "#print_values(final_caso3_columns, df_caso3)\n",
    "print_values(['INTUBADO','UCI','TIPO_PACIENTE','BOOL_DEF'], df_caso3)\n",
    "print(df_caso3.shape)"
   ]
  },
  {
   "cell_type": "code",
   "execution_count": null,
   "metadata": {},
   "outputs": [],
   "source": [
    "#CASO 4: Necesidad de UCI ANTES de diagnostico de neumonia (sin filtro)"
   ]
  },
  {
   "cell_type": "code",
   "execution_count": 7,
   "metadata": {},
   "outputs": [
    {
     "output_type": "stream",
     "name": "stdout",
     "text": [
      "TIPO_PACIENTE \n 1    100.0\nName: TIPO_PACIENTE, dtype: float64\n\nUCI \n 0    92.203439\n1     7.796561\nName: UCI, dtype: float64\n\n(382720, 14)\n"
     ]
    }
   ],
   "source": [
    "df_caso4 = df.copy()\n",
    "\n",
    "conditions = ['EMBARAZO','RENAL_CRONICA', 'DIABETES', 'INMUSUPR', 'EPOC', 'OBESIDAD', 'HIPERTENSION', 'TABAQUISMO', 'CARDIOVASCULAR', 'ASMA','UCI']\n",
    "for condition in conditions:\n",
    "    df_caso4 = df_caso4.loc[~((df_caso4[condition] == 97) | (df_caso4[condition] == 98) | (df_caso4[condition] == 99))]\n",
    "    df_caso4.loc[df_caso4[condition] == 2, [condition]] = 0 #0 es NO, 1 es SI\n",
    "\n",
    "final_caso4_columns = ['EDAD','EMBARAZO','RENAL_CRONICA','DIABETES','INMUSUPR','EPOC','OBESIDAD','HIPERTENSION','TABAQUISMO','CARDIOVASCULAR','ASMA','SEXO','UCI','TIPO_PACIENTE']\n",
    "df_caso4 = df_caso4[df_caso4.columns.intersection(final_caso4_columns)]\n",
    "\n",
    "#print_values(final_caso4_columns, df_caso4)\n",
    "print_values(['TIPO_PACIENTE','UCI'], df_caso4)\n",
    "print(df_caso4.shape)"
   ]
  },
  {
   "cell_type": "code",
   "execution_count": null,
   "metadata": {},
   "outputs": [],
   "source": [
    "#CASO 5: Necesidad de ICU DESPUES de diagnostico de neumonia (sin filtro)"
   ]
  },
  {
   "cell_type": "code",
   "execution_count": 92,
   "metadata": {},
   "outputs": [
    {
     "output_type": "stream",
     "name": "stdout",
     "text": [
      "TIPO_PACIENTE \n 1    100.0\nName: TIPO_PACIENTE, dtype: float64\n\nNEUMONIA \n 1    65.58241\n0    34.41759\nName: NEUMONIA, dtype: float64\n\nUCI \n 0    92.203439\n1     7.796561\nName: UCI, dtype: float64\n\n(382720, 15)\n"
     ]
    }
   ],
   "source": [
    "df_caso5 = df.copy()\n",
    "\n",
    "conditions = ['EMBARAZO','RENAL_CRONICA', 'DIABETES', 'INMUSUPR', 'EPOC', 'OBESIDAD', 'HIPERTENSION', 'TABAQUISMO', 'CARDIOVASCULAR', 'ASMA','UCI', 'NEUMONIA']\n",
    "for condition in conditions:\n",
    "    df_caso5 = df_caso5.loc[~((df_caso5[condition] == 97) | (df_caso5[condition] == 98) | (df_caso5[condition] == 99))]\n",
    "    df_caso5.loc[df_caso5[condition] == 2, [condition]] = 0 #0 es NO, 1 es SI\n",
    "\n",
    "final_caso5_columns = ['EDAD','EMBARAZO','RENAL_CRONICA','DIABETES','INMUSUPR','EPOC','OBESIDAD','HIPERTENSION','TABAQUISMO','CARDIOVASCULAR','ASMA','SEXO','UCI', 'NEUMONIA','TIPO_PACIENTE']\n",
    "df_caso5 = df_caso5[df_caso5.columns.intersection(final_caso5_columns)]\n",
    "\n",
    "#print_values(final_caso5_columns, df_caso5)\n",
    "print_values(['TIPO_PACIENTE', 'NEUMONIA','UCI'], df_caso5)\n",
    "print(df_caso5.shape)"
   ]
  },
  {
   "cell_type": "code",
   "execution_count": null,
   "metadata": {},
   "outputs": [],
   "source": [
    "#CASO 5.1: Necesidad de ICU DESPUES de diagnostico de neumonia (con filtro)"
   ]
  },
  {
   "cell_type": "code",
   "execution_count": 94,
   "metadata": {},
   "outputs": [
    {
     "output_type": "stream",
     "name": "stdout",
     "text": [
      "TIPO_PACIENTE \n 1    100.0\nName: TIPO_PACIENTE, dtype: float64\n\nNEUMONIA \n 1    100.0\nName: NEUMONIA, dtype: float64\n\nUCI \n 0    89.766013\n1    10.233987\nName: UCI, dtype: float64\n\n(250997, 15)\n"
     ]
    }
   ],
   "source": [
    "df_caso5 = df.copy()\n",
    "\n",
    "conditions = ['EMBARAZO','RENAL_CRONICA', 'DIABETES', 'INMUSUPR', 'EPOC', 'OBESIDAD', 'HIPERTENSION', 'TABAQUISMO', 'CARDIOVASCULAR', 'ASMA','UCI', 'NEUMONIA']\n",
    "for condition in conditions:\n",
    "    df_caso5 = df_caso5.loc[~((df_caso5[condition] == 97) | (df_caso5[condition] == 98) | (df_caso5[condition] == 99))]\n",
    "    df_caso5.loc[df_caso5[condition] == 2, [condition]] = 0 #0 es NO, 1 es SI\n",
    "\n",
    "#elimina no neumonia\n",
    "df_caso5.drop(df_caso5[(df_caso5['NEUMONIA'] == 0)].index, inplace = True) \n",
    "\n",
    "final_caso5_columns = ['EDAD','EMBARAZO','RENAL_CRONICA','DIABETES','INMUSUPR','EPOC','OBESIDAD','HIPERTENSION','TABAQUISMO','CARDIOVASCULAR','ASMA','SEXO','UCI', 'NEUMONIA','TIPO_PACIENTE']\n",
    "df_caso5 = df_caso5[df_caso5.columns.intersection(final_caso5_columns)]\n",
    "\n",
    "#print_values(final_caso5_columns, df_caso5)\n",
    "print_values(['TIPO_PACIENTE', 'NEUMONIA','UCI'], df_caso5)\n",
    "print(df_caso5.shape)"
   ]
  },
  {
   "cell_type": "code",
   "execution_count": null,
   "metadata": {},
   "outputs": [],
   "source": [
    "#CASO 6: necesidad de ventilador ANTES de DIAGNOSTICO de neumonia e ICU (sin filtro)"
   ]
  },
  {
   "cell_type": "code",
   "execution_count": 100,
   "metadata": {},
   "outputs": [
    {
     "output_type": "stream",
     "name": "stdout",
     "text": [
      "TIPO_PACIENTE \n 1    100.0\nName: TIPO_PACIENTE, dtype: float64\n\nINTUBADO \n 0    87.020547\n1    12.979453\nName: INTUBADO, dtype: float64\n\n(382728, 14)\n"
     ]
    }
   ],
   "source": [
    "df_caso6 = df.copy()\n",
    "\n",
    "conditions = ['EMBARAZO','RENAL_CRONICA', 'DIABETES', 'INMUSUPR', 'EPOC', 'OBESIDAD', 'HIPERTENSION', 'TABAQUISMO', 'CARDIOVASCULAR', 'ASMA','INTUBADO']\n",
    "for condition in conditions:\n",
    "    df_caso6 = df_caso6.loc[~((df_caso6[condition] == 97) | (df_caso6[condition] == 98) | (df_caso6[condition] == 99))]\n",
    "    df_caso6.loc[df_caso6[condition] == 2, [condition]] = 0 #0 es NO, 1 es SI\n",
    "\n",
    "final_caso6_columns = ['EDAD','EMBARAZO','RENAL_CRONICA','DIABETES','INMUSUPR','EPOC','OBESIDAD','HIPERTENSION','TABAQUISMO','CARDIOVASCULAR','ASMA','SEXO','INTUBADO','TIPO_PACIENTE']\n",
    "df_caso6 = df_caso6[df_caso6.columns.intersection(final_caso6_columns)]\n",
    "\n",
    "#print_values(final_caso6_columns, df_caso6)\n",
    "print_values(['TIPO_PACIENTE','INTUBADO'], df_caso6)\n",
    "print(df_caso6.shape)"
   ]
  },
  {
   "cell_type": "code",
   "execution_count": null,
   "metadata": {},
   "outputs": [],
   "source": [
    "#CASO 7: necesidad de ventilador DESPUES de DIAGNOSTICO de neumonia e ICU (sin filtro)"
   ]
  },
  {
   "cell_type": "code",
   "execution_count": 104,
   "metadata": {},
   "outputs": [
    {
     "output_type": "stream",
     "name": "stdout",
     "text": [
      "TIPO_PACIENTE \n 1    100.0\nName: TIPO_PACIENTE, dtype: float64\n\nUCI \n 0    92.203439\n1     7.796561\nName: UCI, dtype: float64\n\nNEUMONIA \n 1    65.58241\n0    34.41759\nName: NEUMONIA, dtype: float64\n\nINTUBADO \n 0    87.022366\n1    12.977634\nName: INTUBADO, dtype: float64\n\n(382720, 16)\n"
     ]
    }
   ],
   "source": [
    "df_caso7 = df.copy()\n",
    "\n",
    "conditions = ['EMBARAZO','RENAL_CRONICA', 'DIABETES', 'INMUSUPR', 'EPOC', 'OBESIDAD', 'HIPERTENSION', 'TABAQUISMO', 'CARDIOVASCULAR', 'ASMA','UCI','NEUMONIA','INTUBADO']\n",
    "for condition in conditions:\n",
    "    df_caso7 = df_caso7.loc[~((df_caso7[condition] == 97) | (df_caso7[condition] == 98) | (df_caso7[condition] == 99))]\n",
    "    df_caso7.loc[df_caso7[condition] == 2, [condition]] = 0 #0 es NO, 1 es SI\n",
    "\n",
    "final_caso7_columns = ['EDAD','EMBARAZO','RENAL_CRONICA','DIABETES','INMUSUPR','EPOC','OBESIDAD','HIPERTENSION','TABAQUISMO','CARDIOVASCULAR','ASMA','SEXO','UCI','NEUMONIA','INTUBADO','TIPO_PACIENTE']\n",
    "df_caso7 = df_caso7[df_caso7.columns.intersection(final_caso7_columns)]\n",
    "\n",
    "#print_values(final_caso7_columns, df_caso7)\n",
    "print_values(['TIPO_PACIENTE','UCI','NEUMONIA','INTUBADO'], df_caso7)\n",
    "print(df_caso7.shape)"
   ]
  },
  {
   "cell_type": "code",
   "execution_count": null,
   "metadata": {},
   "outputs": [],
   "source": [
    "#CASO 7.1: necesidad de ventilador DESPUES de DIAGNOSTICO de neumonia e ICU (con filtro)"
   ]
  },
  {
   "cell_type": "code",
   "execution_count": 106,
   "metadata": {},
   "outputs": [
    {
     "output_type": "stream",
     "name": "stdout",
     "text": [
      "TIPO_PACIENTE \n 1    100.0\nName: TIPO_PACIENTE, dtype: float64\n\nUCI \n 1    100.0\nName: UCI, dtype: float64\n\nNEUMONIA \n 1    100.0\nName: NEUMONIA, dtype: float64\n\nINTUBADO \n 1    56.195741\n0    43.804259\nName: INTUBADO, dtype: float64\n\n(25687, 16)\n"
     ]
    }
   ],
   "source": [
    "df_caso7 = df.copy()\n",
    "\n",
    "conditions = ['EMBARAZO','RENAL_CRONICA', 'DIABETES', 'INMUSUPR', 'EPOC', 'OBESIDAD', 'HIPERTENSION', 'TABAQUISMO', 'CARDIOVASCULAR', 'ASMA','UCI','NEUMONIA','INTUBADO']\n",
    "for condition in conditions:\n",
    "    df_caso7 = df_caso7.loc[~((df_caso7[condition] == 97) | (df_caso7[condition] == 98) | (df_caso7[condition] == 99))]\n",
    "    df_caso7.loc[df_caso7[condition] == 2, [condition]] = 0 #0 es NO, 1 es SI\n",
    "\n",
    "#elimina no neumonia e ICU\n",
    "df_caso7.drop(df_caso7[(df_caso7['NEUMONIA'] == 0)].index, inplace = True) \n",
    "df_caso7.drop(df_caso7[(df_caso7['UCI'] == 0)].index, inplace = True) \n",
    "\n",
    "final_caso7_columns = ['EDAD','EMBARAZO','RENAL_CRONICA','DIABETES','INMUSUPR','EPOC','OBESIDAD','HIPERTENSION','TABAQUISMO','CARDIOVASCULAR','ASMA','SEXO','UCI','NEUMONIA','INTUBADO','TIPO_PACIENTE']\n",
    "df_caso7 = df_caso7[df_caso7.columns.intersection(final_caso7_columns)]\n",
    "\n",
    "#print_values(final_caso7_columns, df_caso7)\n",
    "print_values(['TIPO_PACIENTE','UCI','NEUMONIA','INTUBADO'], df_caso7)\n",
    "print(df_caso7.shape)"
   ]
  },
  {
   "cell_type": "code",
   "execution_count": null,
   "metadata": {},
   "outputs": [],
   "source": [
    "#CASO 7.2: necesidad de ventilador DESPUES de DIAGNOSTICO de neumonia e ICU (solo filtro UCI)"
   ]
  },
  {
   "cell_type": "code",
   "execution_count": 108,
   "metadata": {},
   "outputs": [
    {
     "output_type": "stream",
     "name": "stdout",
     "text": [
      "TIPO_PACIENTE \n 1    100.0\nName: TIPO_PACIENTE, dtype: float64\n\nUCI \n 1    100.0\nName: UCI, dtype: float64\n\nNEUMONIA \n 1    86.085325\n0    13.914675\nName: NEUMONIA, dtype: float64\n\nINTUBADO \n 1    51.446094\n0    48.553906\nName: INTUBADO, dtype: float64\n\n(29839, 16)\n"
     ]
    }
   ],
   "source": [
    "df_caso7 = df.copy()\n",
    "\n",
    "conditions = ['EMBARAZO','RENAL_CRONICA', 'DIABETES', 'INMUSUPR', 'EPOC', 'OBESIDAD', 'HIPERTENSION', 'TABAQUISMO', 'CARDIOVASCULAR', 'ASMA','UCI','NEUMONIA','INTUBADO']\n",
    "for condition in conditions:\n",
    "    df_caso7 = df_caso7.loc[~((df_caso7[condition] == 97) | (df_caso7[condition] == 98) | (df_caso7[condition] == 99))]\n",
    "    df_caso7.loc[df_caso7[condition] == 2, [condition]] = 0 #0 es NO, 1 es SI\n",
    "\n",
    "#elimina no ICU\n",
    "df_caso7.drop(df_caso7[(df_caso7['UCI'] == 0)].index, inplace = True) \n",
    "\n",
    "final_caso7_columns = ['EDAD','EMBARAZO','RENAL_CRONICA','DIABETES','INMUSUPR','EPOC','OBESIDAD','HIPERTENSION','TABAQUISMO','CARDIOVASCULAR','ASMA','SEXO','UCI','NEUMONIA','INTUBADO','TIPO_PACIENTE']\n",
    "df_caso7 = df_caso7[df_caso7.columns.intersection(final_caso7_columns)]\n",
    "\n",
    "#print_values(final_caso7_columns, df_caso7)\n",
    "print_values(['TIPO_PACIENTE','UCI','NEUMONIA','INTUBADO'], df_caso7)\n",
    "print(df_caso7.shape)"
   ]
  },
  {
   "cell_type": "code",
   "execution_count": null,
   "metadata": {},
   "outputs": [],
   "source": [
    "#CASO 7.3: necesidad de ventilador DESPUES de DIAGNOSTICO de neumonia e ICU (solo filtro neumonia)"
   ]
  },
  {
   "cell_type": "code",
   "execution_count": 110,
   "metadata": {},
   "outputs": [
    {
     "output_type": "stream",
     "name": "stdout",
     "text": [
      "TIPO_PACIENTE \n 1    100.0\nName: TIPO_PACIENTE, dtype: float64\n\nUCI \n 0    89.766013\n1    10.233987\nName: UCI, dtype: float64\n\nNEUMONIA \n 1    100.0\nName: NEUMONIA, dtype: float64\n\nINTUBADO \n 0    83.378287\n1    16.621713\nName: INTUBADO, dtype: float64\n\n(250997, 16)\n"
     ]
    }
   ],
   "source": [
    "df_caso7 = df.copy()\n",
    "\n",
    "conditions = ['EMBARAZO','RENAL_CRONICA', 'DIABETES', 'INMUSUPR', 'EPOC', 'OBESIDAD', 'HIPERTENSION', 'TABAQUISMO', 'CARDIOVASCULAR', 'ASMA','UCI','NEUMONIA','INTUBADO']\n",
    "for condition in conditions:\n",
    "    df_caso7 = df_caso7.loc[~((df_caso7[condition] == 97) | (df_caso7[condition] == 98) | (df_caso7[condition] == 99))]\n",
    "    df_caso7.loc[df_caso7[condition] == 2, [condition]] = 0 #0 es NO, 1 es SI\n",
    "\n",
    "#elimina no neumonia\n",
    "df_caso7.drop(df_caso7[(df_caso7['NEUMONIA'] == 0)].index, inplace = True) \n",
    "\n",
    "final_caso7_columns = ['EDAD','EMBARAZO','RENAL_CRONICA','DIABETES','INMUSUPR','EPOC','OBESIDAD','HIPERTENSION','TABAQUISMO','CARDIOVASCULAR','ASMA','SEXO','UCI','NEUMONIA','INTUBADO','TIPO_PACIENTE']\n",
    "df_caso7 = df_caso7[df_caso7.columns.intersection(final_caso7_columns)]\n",
    "\n",
    "#print_values(final_caso7_columns, df_caso7)\n",
    "print_values(['TIPO_PACIENTE','UCI','NEUMONIA','INTUBADO'], df_caso7)\n",
    "print(df_caso7.shape)"
   ]
  },
  {
   "cell_type": "code",
   "execution_count": null,
   "metadata": {},
   "outputs": [],
   "source": []
  }
 ]
}