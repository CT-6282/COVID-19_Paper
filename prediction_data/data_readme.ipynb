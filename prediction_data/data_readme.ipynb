{
 "metadata": {
  "language_info": {
   "codemirror_mode": {
    "name": "ipython",
    "version": 3
   },
   "file_extension": ".py",
   "mimetype": "text/x-python",
   "name": "python",
   "nbconvert_exporter": "python",
   "pygments_lexer": "ipython3",
   "version": "3.6.10"
  },
  "orig_nbformat": 2,
  "kernelspec": {
   "name": "python3",
   "display_name": "Python 3.6.10 64-bit ('fastai-cpu': conda)",
   "metadata": {
    "interpreter": {
     "hash": "5d4efff26d710c6207dbf670a5de63bda4eb20ff08d40a14d5fc6cf436dfd714"
    }
   }
  }
 },
 "nbformat": 4,
 "nbformat_minor": 2,
 "cells": [
  {
   "cell_type": "code",
   "execution_count": 59,
   "metadata": {},
   "outputs": [],
   "source": [
    "from io import BytesIO\n",
    "from zipfile import ZipFile\n",
    "import pandas as pd\n",
    "import numpy as np\n",
    "import os\n",
    "import datetime"
   ]
  },
  {
   "cell_type": "code",
   "execution_count": 60,
   "metadata": {},
   "outputs": [],
   "source": [
    "path = \"/home/nacho/Documents/coronavirus/COVID-19_Paper/prediction_data\"\n",
    "os.chdir(os.path.join(path)) "
   ]
  },
  {
   "cell_type": "code",
   "execution_count": 61,
   "metadata": {},
   "outputs": [],
   "source": [
    "def print_values(df):\n",
    "    for i in df[df.columns]:\n",
    "        #x = df[i].value_counts()\n",
    "        x = (df[i].value_counts()/df[i].count())*100\n",
    "        print(i,\"\\n\",x)\n",
    "        print()\n",
    "    print(df.shape)"
   ]
  },
  {
   "cell_type": "code",
   "execution_count": 62,
   "metadata": {},
   "outputs": [
    {
     "output_type": "stream",
     "name": "stdout",
     "text": [
      "SEXO \n",
      " 0    50.119343\n",
      "1    49.880657\n",
      "Name: SEXO, dtype: float64\n",
      "\n",
      "TIPO_PACIENTE \n",
      " 0    81.163394\n",
      "1    18.836606\n",
      "Name: TIPO_PACIENTE, dtype: float64\n",
      "\n",
      "EDAD \n",
      " 30     2.271840\n",
      "31     2.223502\n",
      "29     2.214040\n",
      "28     2.200095\n",
      "32     2.169334\n",
      "         ...   \n",
      "117    0.000179\n",
      "114    0.000179\n",
      "113    0.000135\n",
      "119    0.000045\n",
      "111    0.000045\n",
      "Name: EDAD, Length: 122, dtype: float64\n",
      "\n",
      "EMBARAZO \n",
      " 0    99.367526\n",
      "1     0.632474\n",
      "Name: EMBARAZO, dtype: float64\n",
      "\n",
      "DIABETES \n",
      " 0    86.635583\n",
      "1    13.364417\n",
      "Name: DIABETES, dtype: float64\n",
      "\n",
      "EPOC \n",
      " 0    98.886568\n",
      "1     1.113432\n",
      "Name: EPOC, dtype: float64\n",
      "\n",
      "ASMA \n",
      " 0    97.797573\n",
      "1     2.202427\n",
      "Name: ASMA, dtype: float64\n",
      "\n",
      "INMUSUPR \n",
      " 0    99.175385\n",
      "1     0.824615\n",
      "Name: INMUSUPR, dtype: float64\n",
      "\n",
      "HIPERTENSION \n",
      " 0    82.621604\n",
      "1    17.378396\n",
      "Name: HIPERTENSION, dtype: float64\n",
      "\n",
      "CARDIOVASCULAR \n",
      " 0    98.44897\n",
      "1     1.55103\n",
      "Name: CARDIOVASCULAR, dtype: float64\n",
      "\n",
      "OBESIDAD \n",
      " 0    85.393414\n",
      "1    14.606586\n",
      "Name: OBESIDAD, dtype: float64\n",
      "\n",
      "RENAL_CRONICA \n",
      " 0    98.501971\n",
      "1     1.498029\n",
      "Name: RENAL_CRONICA, dtype: float64\n",
      "\n",
      "TABAQUISMO \n",
      " 0    92.710159\n",
      "1     7.289841\n",
      "Name: TABAQUISMO, dtype: float64\n",
      "\n",
      "(2230131, 13)\n"
     ]
    }
   ],
   "source": [
    "#CASO 1 - si el paciente contagiado de CoV-2 necesitará hospitalización\n",
    "\n",
    "df = pd.read_csv(\"df_caso1.zip\")\n",
    "print_values(df)"
   ]
  },
  {
   "cell_type": "code",
   "execution_count": 63,
   "metadata": {},
   "outputs": [
    {
     "output_type": "stream",
     "name": "stdout",
     "text": [
      "SEXO \n 0    59.363903\n1    40.636097\nName: SEXO, dtype: float64\n\nEDAD \n 60     2.519420\n61     2.479646\n63     2.472937\n56     2.468384\n59     2.467426\n         ...   \n115    0.000240\n110    0.000240\n109    0.000240\n106    0.000240\n118    0.000240\nName: EDAD, Length: 114, dtype: float64\n\nEMBARAZO \n 0    99.358584\n1     0.641416\nName: EMBARAZO, dtype: float64\n\nDIABETES \n 0    67.527638\n1    32.472362\nName: DIABETES, dtype: float64\n\nEPOC \n 0    96.529598\n1     3.470402\nName: EPOC, dtype: float64\n\nASMA \n 0    97.989975\n1     2.010025\nName: ASMA, dtype: float64\n\nINMUSUPR \n 0    97.948045\n1     2.051955\nName: INMUSUPR, dtype: float64\n\nHIPERTENSION \n 0    61.580945\n1    38.419055\nName: HIPERTENSION, dtype: float64\n\nCARDIOVASCULAR \n 0    95.838585\n1     4.161415\nName: CARDIOVASCULAR, dtype: float64\n\nOBESIDAD \n 0    78.65861\n1    21.34139\nName: OBESIDAD, dtype: float64\n\nRENAL_CRONICA \n 0    94.789605\n1     5.210395\nName: RENAL_CRONICA, dtype: float64\n\nTABAQUISMO \n 0    92.527998\n1     7.472002\nName: TABAQUISMO, dtype: float64\n\nhosp_critica \n 0    83.091255\n1    16.908745\nName: hosp_critica, dtype: float64\n\n(417358, 13)\n"
     ]
    }
   ],
   "source": [
    "#CASO 1.2: si el paciente contagiado de CoV-2 necesitará hospitalización crítica\n",
    "'''\n",
    "TIPO_PACIENTE\n",
    "1 100.0\n",
    "'''\n",
    "df = pd.read_csv(\"df_caso0.zip\")\n",
    "print_values(df)"
   ]
  },
  {
   "cell_type": "code",
   "execution_count": 64,
   "metadata": {},
   "outputs": [
    {
     "output_type": "stream",
     "name": "stdout",
     "text": [
      "SEXO \n",
      " 0    50.119343\n",
      "1    49.880657\n",
      "Name: SEXO, dtype: float64\n",
      "\n",
      "TIPO_PACIENTE \n",
      " 0    81.163394\n",
      "1    18.836606\n",
      "Name: TIPO_PACIENTE, dtype: float64\n",
      "\n",
      "EDAD \n",
      " 30     2.271840\n",
      "31     2.223502\n",
      "29     2.214040\n",
      "28     2.200095\n",
      "32     2.169334\n",
      "         ...   \n",
      "117    0.000179\n",
      "114    0.000179\n",
      "113    0.000135\n",
      "119    0.000045\n",
      "111    0.000045\n",
      "Name: EDAD, Length: 122, dtype: float64\n",
      "\n",
      "EMBARAZO \n",
      " 0    99.367526\n",
      "1     0.632474\n",
      "Name: EMBARAZO, dtype: float64\n",
      "\n",
      "DIABETES \n",
      " 0    86.635583\n",
      "1    13.364417\n",
      "Name: DIABETES, dtype: float64\n",
      "\n",
      "EPOC \n",
      " 0    98.886568\n",
      "1     1.113432\n",
      "Name: EPOC, dtype: float64\n",
      "\n",
      "ASMA \n",
      " 0    97.797573\n",
      "1     2.202427\n",
      "Name: ASMA, dtype: float64\n",
      "\n",
      "INMUSUPR \n",
      " 0    99.175385\n",
      "1     0.824615\n",
      "Name: INMUSUPR, dtype: float64\n",
      "\n",
      "HIPERTENSION \n",
      " 0    82.621604\n",
      "1    17.378396\n",
      "Name: HIPERTENSION, dtype: float64\n",
      "\n",
      "CARDIOVASCULAR \n",
      " 0    98.44897\n",
      "1     1.55103\n",
      "Name: CARDIOVASCULAR, dtype: float64\n",
      "\n",
      "OBESIDAD \n",
      " 0    85.393414\n",
      "1    14.606586\n",
      "Name: OBESIDAD, dtype: float64\n",
      "\n",
      "RENAL_CRONICA \n",
      " 0    98.501971\n",
      "1     1.498029\n",
      "Name: RENAL_CRONICA, dtype: float64\n",
      "\n",
      "TABAQUISMO \n",
      " 0    92.710159\n",
      "1     7.289841\n",
      "Name: TABAQUISMO, dtype: float64\n",
      "\n",
      "BOOL_DEF \n",
      " 0    90.829552\n",
      "1     9.170448\n",
      "Name: BOOL_DEF, dtype: float64\n",
      "\n",
      "(2230131, 14)\n"
     ]
    }
   ],
   "source": [
    "#CASO 2: predecir en base a los descriptores la mortalidad (sin filtro)\n",
    "\n",
    "df = pd.read_csv(\"df_caso2.zip\")\n",
    "print_values(df)"
   ]
  },
  {
   "cell_type": "code",
   "execution_count": 47,
   "metadata": {},
   "outputs": [
    {
     "output_type": "stream",
     "name": "stdout",
     "text": [
      "SEXO \n 0    59.363903\n1    40.636097\nName: SEXO, dtype: float64\n\nINTUBADO \n 0    86.908362\n1    13.091638\nName: INTUBADO, dtype: float64\n\nEDAD \n 60     2.519420\n61     2.479646\n63     2.472937\n56     2.468384\n59     2.467426\n         ...   \n115    0.000240\n110    0.000240\n109    0.000240\n106    0.000240\n118    0.000240\nName: EDAD, Length: 114, dtype: float64\n\nEMBARAZO \n 0    99.358584\n1     0.641416\nName: EMBARAZO, dtype: float64\n\nDIABETES \n 0    67.527638\n1    32.472362\nName: DIABETES, dtype: float64\n\nEPOC \n 0    96.529598\n1     3.470402\nName: EPOC, dtype: float64\n\nASMA \n 0    97.989975\n1     2.010025\nName: ASMA, dtype: float64\n\nINMUSUPR \n 0    97.948045\n1     2.051955\nName: INMUSUPR, dtype: float64\n\nHIPERTENSION \n 0    61.580945\n1    38.419055\nName: HIPERTENSION, dtype: float64\n\nCARDIOVASCULAR \n 0    95.838585\n1     4.161415\nName: CARDIOVASCULAR, dtype: float64\n\nOBESIDAD \n 0    78.65861\n1    21.34139\nName: OBESIDAD, dtype: float64\n\nRENAL_CRONICA \n 0    94.789605\n1     5.210395\nName: RENAL_CRONICA, dtype: float64\n\nTABAQUISMO \n 0    92.527998\n1     7.472002\nName: TABAQUISMO, dtype: float64\n\nUCI \n 0    92.037052\n1     7.962948\nName: UCI, dtype: float64\n\nBOOL_DEF \n 0    55.602145\n1    44.397855\nName: BOOL_DEF, dtype: float64\n\n(417358, 15)\n"
     ]
    }
   ],
   "source": [
    "#CASO 3: Mortalidad de los contagiagos DESPUES de INTUBADO,UCI (sin filtro)\n",
    "'''\n",
    "TIPO_PACIENTE\n",
    "1 100.0\n",
    "'''\n",
    "\n",
    "df = pd.read_csv(\"df_caso3.zip\")\n",
    "print_values(df)"
   ]
  },
  {
   "cell_type": "code",
   "execution_count": 65,
   "metadata": {},
   "outputs": [
    {
     "output_type": "stream",
     "name": "stdout",
     "text": [
      "SEXO \n 0    65.531989\n1    34.468011\nName: SEXO, dtype: float64\n\nEDAD \n 60     2.901231\n61     2.750968\n67     2.658499\n65     2.641160\n66     2.623822\n         ...   \n7      0.023117\n101    0.011559\n98     0.011559\n100    0.005779\n116    0.005779\nName: EDAD, Length: 102, dtype: float64\n\nEMBARAZO \n 0    99.341155\n1     0.658845\nName: EMBARAZO, dtype: float64\n\nDIABETES \n 0    66.346876\n1    33.653124\nName: DIABETES, dtype: float64\n\nEPOC \n 0    96.971623\n1     3.028377\nName: EPOC, dtype: float64\n\nASMA \n 0    98.092816\n1     1.907184\nName: ASMA, dtype: float64\n\nINMUSUPR \n 0    97.468647\n1     2.531353\nName: INMUSUPR, dtype: float64\n\nHIPERTENSION \n 0    61.544241\n1    38.455759\nName: HIPERTENSION, dtype: float64\n\nCARDIOVASCULAR \n 0    95.133792\n1     4.866208\nName: CARDIOVASCULAR, dtype: float64\n\nOBESIDAD \n 0    71.941282\n1    28.058718\nName: OBESIDAD, dtype: float64\n\nRENAL_CRONICA \n 0    95.688609\n1     4.311391\nName: RENAL_CRONICA, dtype: float64\n\nTABAQUISMO \n 0    92.140091\n1     7.859909\nName: TABAQUISMO, dtype: float64\n\nBOOL_DEF \n 1    76.420274\n0    23.579726\nName: BOOL_DEF, dtype: float64\n\n(17303, 13)\n"
     ]
    }
   ],
   "source": [
    "#CASO 3.1: Mortalidad de los contagiagos DESPUES de INTUBADO,UCI (confiltro)\n",
    "'''\n",
    "INTUBADO\n",
    "1\n",
    "100.0\n",
    "Name: INTUBADO, dtype: float64\n",
    "UCI\n",
    "1\n",
    "100.0\n",
    "Name: UCI, dtype: float64\n",
    "TIPO_PACIENTE\n",
    "1\n",
    "100.0\n",
    "Name: TIPO_PACIENTE, dtype: float64\n",
    "'''\n",
    "df = pd.read_csv(\"df_caso_3_1.zip\")\n",
    "print_values(df)"
   ]
  },
  {
   "cell_type": "code",
   "execution_count": 66,
   "metadata": {},
   "outputs": [
    {
     "output_type": "stream",
     "name": "stdout",
     "text": [
      "SEXO \n 0    63.807903\n1    36.192097\nName: SEXO, dtype: float64\n\nEDAD \n 63     2.931972\n61     2.888047\n60     2.869745\n65     2.834971\n67     2.794707\n         ...   \n100    0.010981\n99     0.007321\n101    0.003660\n116    0.001830\n108    0.001830\nName: EDAD, Length: 104, dtype: float64\n\nEMBARAZO \n 0    99.685207\n1     0.314793\nName: EMBARAZO, dtype: float64\n\nDIABETES \n 0    64.710189\n1    35.289811\nName: DIABETES, dtype: float64\n\nEPOC \n 0    96.271894\n1     3.728106\nName: EPOC, dtype: float64\n\nASMA \n 0    97.977635\n1     2.022365\nName: ASMA, dtype: float64\n\nINMUSUPR \n 0    97.604275\n1     2.395725\nName: INMUSUPR, dtype: float64\n\nHIPERTENSION \n 0    57.788393\n1    42.211607\nName: HIPERTENSION, dtype: float64\n\nCARDIOVASCULAR \n 0    95.29823\n1     4.70177\nName: CARDIOVASCULAR, dtype: float64\n\nOBESIDAD \n 0    73.776972\n1    26.223028\nName: OBESIDAD, dtype: float64\n\nRENAL_CRONICA \n 0    94.73453\n1     5.26547\nName: RENAL_CRONICA, dtype: float64\n\nTABAQUISMO \n 0    91.659803\n1     8.340197\nName: TABAQUISMO, dtype: float64\n\nUCI \n 0    68.332144\n1    31.667856\nName: UCI, dtype: float64\n\nBOOL_DEF \n 1    83.017625\n0    16.982375\nName: BOOL_DEF, dtype: float64\n\n(54639, 14)\n"
     ]
    }
   ],
   "source": [
    "#CASO 3.2: Mortalidad de los contagiagos DESPUES de INTUBADO,UCI (filtro solo INTUBADO)\n",
    "'''\n",
    "INTUBADO\n",
    "1\n",
    "100.0\n",
    "Name: INTUBADO, dtype: float64\n",
    "TIPO_PACIENTE\n",
    "1\n",
    "100.0\n",
    "Name: TIPO_PACIENTE, dtype: float64\n",
    "'''\n",
    "df = pd.read_csv(\"df_caso_3_2.zip\")\n",
    "print_values(df)"
   ]
  },
  {
   "cell_type": "code",
   "execution_count": 67,
   "metadata": {},
   "outputs": [
    {
     "output_type": "stream",
     "name": "stdout",
     "text": [
      "SEXO \n 0    62.878378\n1    37.121622\nName: SEXO, dtype: float64\n\nINTUBADO \n 1    52.064151\n0    47.935849\nName: INTUBADO, dtype: float64\n\nEDAD \n 60     2.867545\n61     2.647891\n58     2.641873\n65     2.494433\n55     2.491424\n         ...   \n98     0.018054\n99     0.015045\n101    0.015045\n103    0.006018\n116    0.003009\nName: EDAD, Length: 104, dtype: float64\n\nEMBARAZO \n 0    99.103328\n1     0.896672\nName: EMBARAZO, dtype: float64\n\nDIABETES \n 0    66.507191\n1    33.492809\nName: DIABETES, dtype: float64\n\nEPOC \n 0    96.762352\n1     3.237648\nName: EPOC, dtype: float64\n\nASMA \n 0    97.996028\n1     2.003972\nName: ASMA, dtype: float64\n\nINMUSUPR \n 0    97.634952\n1     2.365048\nName: INMUSUPR, dtype: float64\n\nHIPERTENSION \n 0    62.117109\n1    37.882891\nName: HIPERTENSION, dtype: float64\n\nCARDIOVASCULAR \n 0    95.284949\n1     4.715051\nName: CARDIOVASCULAR, dtype: float64\n\nOBESIDAD \n 0    73.289402\n1    26.710598\nName: OBESIDAD, dtype: float64\n\nRENAL_CRONICA \n 0    96.046218\n1     3.953782\nName: RENAL_CRONICA, dtype: float64\n\nTABAQUISMO \n 0    92.751399\n1     7.248601\nName: TABAQUISMO, dtype: float64\n\nBOOL_DEF \n 1    56.312812\n0    43.687188\nName: BOOL_DEF, dtype: float64\n\n(33234, 14)\n"
     ]
    }
   ],
   "source": [
    "#CASO 3.3: Mortalidad de los contagiagos DESPUES de INTUBADO,UCI (filtro solo UCI)\n",
    "'''\n",
    "UCI\n",
    "1\n",
    "100.0\n",
    "Name: UCI, dtype: float64\n",
    "TIPO_PACIENTE\n",
    "1\n",
    "100.0\n",
    "Name: TIPO_PACIENTE, dtype: float64\n",
    "'''\n",
    "df = pd.read_csv(\"df_caso_3_3.zip\")\n",
    "print_values(df)\n"
   ]
  },
  {
   "cell_type": "code",
   "execution_count": 17,
   "metadata": {},
   "outputs": [
    {
     "output_type": "stream",
     "name": "stdout",
     "text": [
      "SEXO \n 0    59.366202\n1    40.633798\nName: SEXO, dtype: float64\n\nNEUMONIA \n 1    65.745186\n0    34.254814\nName: NEUMONIA, dtype: float64\n\nEDAD \n 60     2.519364\n61     2.480036\n63     2.473562\n59     2.467327\n56     2.466608\n         ...   \n115    0.000240\n110    0.000240\n109    0.000240\n106    0.000240\n118    0.000240\nName: EDAD, Length: 114, dtype: float64\n\nEMBARAZO \n 0    99.358289\n1     0.641711\nName: EMBARAZO, dtype: float64\n\nDIABETES \n 0    67.521163\n1    32.478837\nName: DIABETES, dtype: float64\n\nEPOC \n 0    96.528381\n1     3.471619\nName: EPOC, dtype: float64\n\nASMA \n 0    97.989976\n1     2.010024\nName: ASMA, dtype: float64\n\nINMUSUPR \n 0    97.947531\n1     2.052469\nName: INMUSUPR, dtype: float64\n\nHIPERTENSION \n 0    61.575981\n1    38.424019\nName: HIPERTENSION, dtype: float64\n\nCARDIOVASCULAR \n 0    95.838469\n1     4.161531\nName: CARDIOVASCULAR, dtype: float64\n\nOBESIDAD \n 0    78.658545\n1    21.341455\nName: OBESIDAD, dtype: float64\n\nRENAL_CRONICA \n 0    94.788374\n1     5.211626\nName: RENAL_CRONICA, dtype: float64\n\nTABAQUISMO \n 0    92.528477\n1     7.471523\nName: TABAQUISMO, dtype: float64\n\nUCI \n 0    92.046474\n1     7.953526\nName: UCI, dtype: float64\n\n(417010, 14)\n"
     ]
    }
   ],
   "source": [
    "'''CASO 5 -Necesidad de ICU '''  \n",
    "'''\n",
    "TIPO_PACIENTE\n",
    "1\n",
    "100.0\n",
    "Name: TIPO_PACIENTE, dtype: float64}\n",
    "\n",
    "'''\n",
    "df = pd.read_csv(\"df_caso5.zip\")\n",
    "print_values(df)"
   ]
  },
  {
   "cell_type": "code",
   "execution_count": 68,
   "metadata": {},
   "outputs": [
    {
     "output_type": "stream",
     "name": "stdout",
     "text": [
      "SEXO \n 0    60.443549\n1    39.556451\nName: SEXO, dtype: float64\n\nEDAD \n 60     2.628060\n63     2.591255\n65     2.576679\n61     2.561739\n59     2.541697\n         ...   \n116    0.000364\n110    0.000364\n108    0.000364\n104    0.000364\n118    0.000364\nName: EDAD, Length: 110, dtype: float64\n\nEMBARAZO \n 0    99.660014\n1     0.339986\nName: EMBARAZO, dtype: float64\n\nDIABETES \n 0    66.272506\n1    33.727494\nName: DIABETES, dtype: float64\n\nEPOC \n 0    96.454379\n1     3.545621\nName: EPOC, dtype: float64\n\nASMA \n 0    98.094183\n1     1.905817\nName: ASMA, dtype: float64\n\nINMUSUPR \n 0    97.97466\n1     2.02534\nName: INMUSUPR, dtype: float64\n\nHIPERTENSION \n 0    60.533191\n1    39.466809\nName: HIPERTENSION, dtype: float64\n\nCARDIOVASCULAR \n 0    95.783881\n1     4.216119\nName: CARDIOVASCULAR, dtype: float64\n\nOBESIDAD \n 0    77.413701\n1    22.586299\nName: OBESIDAD, dtype: float64\n\nRENAL_CRONICA \n 0    94.921708\n1     5.078292\nName: RENAL_CRONICA, dtype: float64\n\nTABAQUISMO \n 0    92.35669\n1     7.64331\nName: TABAQUISMO, dtype: float64\n\nUCI \n 0    89.556998\n1    10.443002\nName: UCI, dtype: float64\n\n(274423, 13)\n"
     ]
    }
   ],
   "source": [
    "#CASO 5.1: Necesidad de ICU DESPUES de diagnostico de neumonia (con filtro)\n",
    "'''\n",
    "TIPO_PACIENTE\n",
    "1\n",
    "100.0\n",
    "Name: TIPO_PACIENTE, dtype: float64\n",
    "NEUMONIA\n",
    "1\n",
    "100.0\n",
    "Name: NEUMONIA, dtype: float64\n",
    "'''\n",
    "df = pd.read_csv(\"df_caso5_1.zip\")\n",
    "print_values(df)"
   ]
  },
  {
   "cell_type": "code",
   "execution_count": 19,
   "metadata": {},
   "outputs": [
    {
     "output_type": "stream",
     "name": "stdout",
     "text": [
      "SEXO \n 0    59.366262\n1    40.633738\nName: SEXO, dtype: float64\n\nINTUBADO \n 0    86.912076\n1    13.087924\nName: INTUBADO, dtype: float64\n\nEDAD \n 60     2.519316\n61     2.479989\n63     2.473514\n59     2.467280\n56     2.466800\n         ...   \n115    0.000240\n110    0.000240\n109    0.000240\n106    0.000240\n118    0.000240\nName: EDAD, Length: 114, dtype: float64\n\nEMBARAZO \n 0    99.358301\n1     0.641699\nName: EMBARAZO, dtype: float64\n\nDIABETES \n 0    67.521066\n1    32.478934\nName: DIABETES, dtype: float64\n\nEPOC \n 0    96.528447\n1     3.471553\nName: EPOC, dtype: float64\n\nASMA \n 0    97.990015\n1     2.009985\nName: ASMA, dtype: float64\n\nINMUSUPR \n 0    97.947571\n1     2.052429\nName: INMUSUPR, dtype: float64\n\nHIPERTENSION \n 0    61.57552\n1    38.42448\nName: HIPERTENSION, dtype: float64\n\nCARDIOVASCULAR \n 0    95.838549\n1     4.161451\nName: CARDIOVASCULAR, dtype: float64\n\nOBESIDAD \n 0    78.658715\n1    21.341285\nName: OBESIDAD, dtype: float64\n\nRENAL_CRONICA \n 0    94.788474\n1     5.211526\nName: RENAL_CRONICA, dtype: float64\n\nTABAQUISMO \n 0    92.52838\n1     7.47162\nName: TABAQUISMO, dtype: float64\n\n(417018, 13)\n"
     ]
    }
   ],
   "source": [
    "#CASO 6: necesidad de ventilador ANTES de DIAGNOSTICO de neumonia e ICU (sin filtro)\n",
    "'''\n",
    "TIPO_PACIENTE\n",
    "1\n",
    "100.0\n",
    "Name: TIPO_PACIENTE, dtype: float64\n",
    "'''\n",
    "df = pd.read_csv(\"df_caso6.zip\")\n",
    "print_values(df)"
   ]
  },
  {
   "cell_type": "code",
   "execution_count": 69,
   "metadata": {},
   "outputs": [
    {
     "output_type": "stream",
     "name": "stdout",
     "text": [
      "SEXO \n 0    59.363903\n1    40.636097\nName: SEXO, dtype: float64\n\nINTUBADO \n 0    86.908362\n1    13.091638\nName: INTUBADO, dtype: float64\n\nNEUMONIA \n 1    65.752424\n0    34.247576\nName: NEUMONIA, dtype: float64\n\nEDAD \n 60     2.519420\n61     2.479646\n63     2.472937\n56     2.468384\n59     2.467426\n         ...   \n115    0.000240\n110    0.000240\n109    0.000240\n106    0.000240\n118    0.000240\nName: EDAD, Length: 114, dtype: float64\n\nEMBARAZO \n 0    99.358584\n1     0.641416\nName: EMBARAZO, dtype: float64\n\nDIABETES \n 0    67.527638\n1    32.472362\nName: DIABETES, dtype: float64\n\nEPOC \n 0    96.529598\n1     3.470402\nName: EPOC, dtype: float64\n\nASMA \n 0    97.989975\n1     2.010025\nName: ASMA, dtype: float64\n\nINMUSUPR \n 0    97.948045\n1     2.051955\nName: INMUSUPR, dtype: float64\n\nHIPERTENSION \n 0    61.580945\n1    38.419055\nName: HIPERTENSION, dtype: float64\n\nCARDIOVASCULAR \n 0    95.838585\n1     4.161415\nName: CARDIOVASCULAR, dtype: float64\n\nOBESIDAD \n 0    78.65861\n1    21.34139\nName: OBESIDAD, dtype: float64\n\nRENAL_CRONICA \n 0    94.789605\n1     5.210395\nName: RENAL_CRONICA, dtype: float64\n\nTABAQUISMO \n 0    92.527998\n1     7.472002\nName: TABAQUISMO, dtype: float64\n\nUCI \n 0    92.037052\n1     7.962948\nName: UCI, dtype: float64\n\n(417358, 15)\n"
     ]
    }
   ],
   "source": [
    "#CASO 7: necesidad de ventilador DESPUES de DIAGNOSTICO de neumonia e ICU (sin filtro)\n",
    "'''\n",
    "TIPO_PACIENTE\n",
    "1\n",
    "100.0\n",
    "Name: TIPO_PACIENTE, dtype: float64\n",
    "'''\n",
    "df = pd.read_csv(\"df_caso7.zip\")\n",
    "print_values(df)"
   ]
  },
  {
   "cell_type": "code",
   "execution_count": 70,
   "metadata": {},
   "outputs": [
    {
     "output_type": "stream",
     "name": "stdout",
     "text": [
      "SEXO \n 0    63.776258\n1    36.223742\nName: SEXO, dtype: float64\n\nINTUBADO \n 1    56.741573\n0    43.258427\nName: INTUBADO, dtype: float64\n\nEDAD \n 60     2.948566\n61     2.679880\n58     2.658943\n55     2.578687\n62     2.557750\n         ...   \n5      0.013958\n7      0.013958\n99     0.010468\n103    0.003489\n116    0.003489\nName: EDAD, Length: 104, dtype: float64\n\nEMBARAZO \n 0    99.340498\n1     0.659502\nName: EMBARAZO, dtype: float64\n\nDIABETES \n 0    65.629144\n1    34.370856\nName: DIABETES, dtype: float64\n\nEPOC \n 0    96.636192\n1     3.363808\nName: EPOC, dtype: float64\n\nASMA \n 0    98.018005\n1     1.981995\nName: ASMA, dtype: float64\n\nINMUSUPR \n 0    97.634168\n1     2.365832\nName: INMUSUPR, dtype: float64\n\nHIPERTENSION \n 0    61.281318\n1    38.718682\nName: HIPERTENSION, dtype: float64\n\nCARDIOVASCULAR \n 0    95.254379\n1     4.745621\nName: CARDIOVASCULAR, dtype: float64\n\nOBESIDAD \n 0    72.318375\n1    27.681625\nName: OBESIDAD, dtype: float64\n\nRENAL_CRONICA \n 0    95.987159\n1     4.012841\nName: RENAL_CRONICA, dtype: float64\n\nTABAQUISMO \n 0    92.490753\n1     7.509247\nName: TABAQUISMO, dtype: float64\n\n(28658, 13)\n"
     ]
    }
   ],
   "source": [
    "#CASO 7.1: necesidad de ventilador DESPUES de DIAGNOSTICO de neumonia e ICU (con filtro)}\n",
    "'''\n",
    "TIPO_PACIENTE\n",
    "1\n",
    "100.0\n",
    "Name: TIPO_PACIENTE, dtype: float64\n",
    "UCI\n",
    "1\n",
    "100.0\n",
    "Name: UCI, dtype: float64\n",
    "NEUMONIA\n",
    "1\n",
    "100.0\n",
    "Name: NEUMONIA, dtype: float64\n",
    "'''\n",
    "df = pd.read_csv(\"df_caso_7_1.zip\")\n",
    "print_values(df)"
   ]
  },
  {
   "cell_type": "code",
   "execution_count": 71,
   "metadata": {},
   "outputs": [
    {
     "output_type": "stream",
     "name": "stdout",
     "text": [
      "SEXO \n 0    62.878378\n1    37.121622\nName: SEXO, dtype: float64\n\nINTUBADO \n 1    52.064151\n0    47.935849\nName: INTUBADO, dtype: float64\n\nNEUMONIA \n 1    86.230968\n0    13.769032\nName: NEUMONIA, dtype: float64\n\nEDAD \n 60     2.867545\n61     2.647891\n58     2.641873\n65     2.494433\n55     2.491424\n         ...   \n98     0.018054\n99     0.015045\n101    0.015045\n103    0.006018\n116    0.003009\nName: EDAD, Length: 104, dtype: float64\n\nEMBARAZO \n 0    99.103328\n1     0.896672\nName: EMBARAZO, dtype: float64\n\nDIABETES \n 0    66.507191\n1    33.492809\nName: DIABETES, dtype: float64\n\nEPOC \n 0    96.762352\n1     3.237648\nName: EPOC, dtype: float64\n\nASMA \n 0    97.996028\n1     2.003972\nName: ASMA, dtype: float64\n\nINMUSUPR \n 0    97.634952\n1     2.365048\nName: INMUSUPR, dtype: float64\n\nHIPERTENSION \n 0    62.117109\n1    37.882891\nName: HIPERTENSION, dtype: float64\n\nCARDIOVASCULAR \n 0    95.284949\n1     4.715051\nName: CARDIOVASCULAR, dtype: float64\n\nOBESIDAD \n 0    73.289402\n1    26.710598\nName: OBESIDAD, dtype: float64\n\nRENAL_CRONICA \n 0    96.046218\n1     3.953782\nName: RENAL_CRONICA, dtype: float64\n\nTABAQUISMO \n 0    92.751399\n1     7.248601\nName: TABAQUISMO, dtype: float64\n\n(33234, 14)\n"
     ]
    }
   ],
   "source": [
    "#CASO 7.2: necesidad de ventilador DESPUES de DIAGNOSTICO de neumonia e ICU (solo filtro UCI)\n",
    "'''\n",
    "TIPO_PACIENTE\n",
    "1\n",
    "100.0\n",
    "Name: TIPO_PACIENTE, dtype: float64\n",
    "UCI\n",
    "1\n",
    "100.0\n",
    "Name: UCI, dtype: float64\n",
    "'''\n",
    "df = pd.read_csv(\"df_caso_7_2.zip\")\n",
    "print_values(df)"
   ]
  },
  {
   "cell_type": "code",
   "execution_count": 72,
   "metadata": {},
   "outputs": [
    {
     "output_type": "stream",
     "name": "stdout",
     "text": [
      "SEXO \n 0    60.443549\n1    39.556451\nName: SEXO, dtype: float64\n\nINTUBADO \n 0    83.196379\n1    16.803621\nName: INTUBADO, dtype: float64\n\nEDAD \n 60     2.628060\n63     2.591255\n65     2.576679\n61     2.561739\n59     2.541697\n         ...   \n116    0.000364\n110    0.000364\n108    0.000364\n104    0.000364\n118    0.000364\nName: EDAD, Length: 110, dtype: float64\n\nEMBARAZO \n 0    99.660014\n1     0.339986\nName: EMBARAZO, dtype: float64\n\nDIABETES \n 0    66.272506\n1    33.727494\nName: DIABETES, dtype: float64\n\nEPOC \n 0    96.454379\n1     3.545621\nName: EPOC, dtype: float64\n\nASMA \n 0    98.094183\n1     1.905817\nName: ASMA, dtype: float64\n\nINMUSUPR \n 0    97.97466\n1     2.02534\nName: INMUSUPR, dtype: float64\n\nHIPERTENSION \n 0    60.533191\n1    39.466809\nName: HIPERTENSION, dtype: float64\n\nCARDIOVASCULAR \n 0    95.783881\n1     4.216119\nName: CARDIOVASCULAR, dtype: float64\n\nOBESIDAD \n 0    77.413701\n1    22.586299\nName: OBESIDAD, dtype: float64\n\nRENAL_CRONICA \n 0    94.921708\n1     5.078292\nName: RENAL_CRONICA, dtype: float64\n\nTABAQUISMO \n 0    92.35669\n1     7.64331\nName: TABAQUISMO, dtype: float64\n\nUCI \n 0    89.556998\n1    10.443002\nName: UCI, dtype: float64\n\n(274423, 14)\n"
     ]
    }
   ],
   "source": [
    "#CASO 7.3: necesidad de ventilador DESPUES de DIAGNOSTICO de neumonia e ICU (solo filtro neumonia)\n",
    "'''\n",
    "TIPO_PACIENTE\n",
    "1\n",
    "100.0\n",
    "Name: TIPO_PACIENTE, dtype: float64\n",
    "NEUMONIA\n",
    "1\n",
    "100.0\n",
    "Name: NEUMONIA, dtype: float64\n",
    "'''\n",
    "df = pd.read_csv(\"df_caso_7_3.zip\")\n",
    "print_values(df)"
   ]
  },
  {
   "cell_type": "code",
   "execution_count": null,
   "metadata": {},
   "outputs": [],
   "source": []
  }
 ]
}